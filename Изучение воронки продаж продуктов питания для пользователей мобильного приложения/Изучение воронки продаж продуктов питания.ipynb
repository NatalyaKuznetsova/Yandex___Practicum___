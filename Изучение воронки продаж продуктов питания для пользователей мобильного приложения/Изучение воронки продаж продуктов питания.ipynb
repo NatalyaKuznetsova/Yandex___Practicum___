{
 "cells": [
  {
   "cell_type": "markdown",
   "metadata": {
    "id": "E0vqbgi9ay0H"
   },
   "source": [
    "# Яндекс.Музыка"
   ]
  },
  {
   "cell_type": "markdown",
   "metadata": {
    "id": "VUC88oWjTJw2"
   },
   "source": [
    "Сравнение Москвы и Петербурга окружено мифами. Например:\n",
    " * Москва — мегаполис, подчинённый жёсткому ритму рабочей недели;\n",
    " * Петербург — культурная столица, со своими вкусами.\n",
    "\n",
    "На данных Яндекс.Музыки вы сравните поведение пользователей двух столиц.\n",
    "\n",
    "**Цель исследования** — проверьте три гипотезы:\n",
    "1. Активность пользователей зависит от дня недели. Причём в Москве и Петербурге это проявляется по-разному.\n",
    "2. В понедельник утром в Москве преобладают одни жанры, а в Петербурге — другие. Так же и вечером пятницы преобладают разные жанры — в зависимости от города. \n",
    "3. Москва и Петербург предпочитают разные жанры музыки. В Москве чаще слушают поп-музыку, в Петербурге — русский рэп.\n",
    "\n",
    "**Ход исследования**\n",
    "\n",
    "Данные о поведении пользователей вы получите из файла `yandex_music_project.csv`. О качестве данных ничего не известно. Поэтому перед проверкой гипотез понадобится обзор данных. \n",
    "\n",
    "Вы проверите данные на ошибки и оцените их влияние на исследование. Затем, на этапе предобработки вы поищете возможность исправить самые критичные ошибки данных.\n",
    " \n",
    "Таким образом, исследование пройдёт в три этапа:\n",
    " 1. Обзор данных.\n",
    " 2. Предобработка данных.\n",
    " 3. Проверка гипотез.\n",
    "\n"
   ]
  },
  {
   "cell_type": "markdown",
   "metadata": {
    "id": "Ml1hmfXC_Zcs"
   },
   "source": [
    "## Обзор данных\n",
    "\n",
    "Составьте первое представление о данных Яндекс.Музыки.\n",
    "\n",
    "\n"
   ]
  },
  {
   "cell_type": "markdown",
   "metadata": {
    "id": "57eAOGIz_Zcs"
   },
   "source": [
    "Основной инструмент аналитика — `pandas`. Импортируйте эту библиотеку."
   ]
  },
  {
   "cell_type": "code",
   "execution_count": 1,
   "metadata": {
    "id": "AXN7PHPN_Zcs"
   },
   "outputs": [],
   "source": [
    "# импорт библиотеки \n",
    "import pandas as pd"
   ]
  },
  {
   "cell_type": "markdown",
   "metadata": {
    "id": "SG23P8tt_Zcs"
   },
   "source": [
    "Прочитайте файл `yandex_music_project.csv` из папки `/datasets` и сохраните его в переменной `df`:"
   ]
  },
  {
   "cell_type": "code",
   "execution_count": 2,
   "metadata": {
    "id": "fFVu7vqh_Zct"
   },
   "outputs": [],
   "source": [
    "# чтение файла с данными и сохранение в \n",
    "df = pd.read_csv('/datasets/music_project.csv')"
   ]
  },
  {
   "cell_type": "markdown",
   "metadata": {
    "id": "rDoOMd3uTqnZ"
   },
   "source": [
    "Выведите на экран первые десять строк таблицы:"
   ]
  },
  {
   "cell_type": "code",
   "execution_count": 3,
   "metadata": {
    "id": "oWTVX3gW_Zct"
   },
   "outputs": [
    {
     "data": {
      "text/html": [
       "<div>\n",
       "<style scoped>\n",
       "    .dataframe tbody tr th:only-of-type {\n",
       "        vertical-align: middle;\n",
       "    }\n",
       "\n",
       "    .dataframe tbody tr th {\n",
       "        vertical-align: top;\n",
       "    }\n",
       "\n",
       "    .dataframe thead th {\n",
       "        text-align: right;\n",
       "    }\n",
       "</style>\n",
       "<table border=\"1\" class=\"dataframe\">\n",
       "  <thead>\n",
       "    <tr style=\"text-align: right;\">\n",
       "      <th></th>\n",
       "      <th>userID</th>\n",
       "      <th>Track</th>\n",
       "      <th>artist</th>\n",
       "      <th>genre</th>\n",
       "      <th>City</th>\n",
       "      <th>time</th>\n",
       "      <th>Day</th>\n",
       "    </tr>\n",
       "  </thead>\n",
       "  <tbody>\n",
       "    <tr>\n",
       "      <td>0</td>\n",
       "      <td>FFB692EC</td>\n",
       "      <td>Kamigata To Boots</td>\n",
       "      <td>The Mass Missile</td>\n",
       "      <td>rock</td>\n",
       "      <td>Saint-Petersburg</td>\n",
       "      <td>20:28:33</td>\n",
       "      <td>Wednesday</td>\n",
       "    </tr>\n",
       "    <tr>\n",
       "      <td>1</td>\n",
       "      <td>55204538</td>\n",
       "      <td>Delayed Because of Accident</td>\n",
       "      <td>Andreas Rönnberg</td>\n",
       "      <td>rock</td>\n",
       "      <td>Moscow</td>\n",
       "      <td>14:07:09</td>\n",
       "      <td>Friday</td>\n",
       "    </tr>\n",
       "    <tr>\n",
       "      <td>2</td>\n",
       "      <td>20EC38</td>\n",
       "      <td>Funiculì funiculà</td>\n",
       "      <td>Mario Lanza</td>\n",
       "      <td>pop</td>\n",
       "      <td>Saint-Petersburg</td>\n",
       "      <td>20:58:07</td>\n",
       "      <td>Wednesday</td>\n",
       "    </tr>\n",
       "    <tr>\n",
       "      <td>3</td>\n",
       "      <td>A3DD03C9</td>\n",
       "      <td>Dragons in the Sunset</td>\n",
       "      <td>Fire + Ice</td>\n",
       "      <td>folk</td>\n",
       "      <td>Saint-Petersburg</td>\n",
       "      <td>08:37:09</td>\n",
       "      <td>Monday</td>\n",
       "    </tr>\n",
       "    <tr>\n",
       "      <td>4</td>\n",
       "      <td>E2DC1FAE</td>\n",
       "      <td>Soul People</td>\n",
       "      <td>Space Echo</td>\n",
       "      <td>dance</td>\n",
       "      <td>Moscow</td>\n",
       "      <td>08:34:34</td>\n",
       "      <td>Monday</td>\n",
       "    </tr>\n",
       "    <tr>\n",
       "      <td>5</td>\n",
       "      <td>842029A1</td>\n",
       "      <td>Преданная</td>\n",
       "      <td>IMPERVTOR</td>\n",
       "      <td>rusrap</td>\n",
       "      <td>Saint-Petersburg</td>\n",
       "      <td>13:09:41</td>\n",
       "      <td>Friday</td>\n",
       "    </tr>\n",
       "    <tr>\n",
       "      <td>6</td>\n",
       "      <td>4CB90AA5</td>\n",
       "      <td>True</td>\n",
       "      <td>Roman Messer</td>\n",
       "      <td>dance</td>\n",
       "      <td>Moscow</td>\n",
       "      <td>13:00:07</td>\n",
       "      <td>Wednesday</td>\n",
       "    </tr>\n",
       "    <tr>\n",
       "      <td>7</td>\n",
       "      <td>F03E1C1F</td>\n",
       "      <td>Feeling This Way</td>\n",
       "      <td>Polina Griffith</td>\n",
       "      <td>dance</td>\n",
       "      <td>Moscow</td>\n",
       "      <td>20:47:49</td>\n",
       "      <td>Wednesday</td>\n",
       "    </tr>\n",
       "    <tr>\n",
       "      <td>8</td>\n",
       "      <td>8FA1D3BE</td>\n",
       "      <td>И вновь продолжается бой</td>\n",
       "      <td>NaN</td>\n",
       "      <td>ruspop</td>\n",
       "      <td>Moscow</td>\n",
       "      <td>09:17:40</td>\n",
       "      <td>Friday</td>\n",
       "    </tr>\n",
       "    <tr>\n",
       "      <td>9</td>\n",
       "      <td>E772D5C0</td>\n",
       "      <td>Pessimist</td>\n",
       "      <td>NaN</td>\n",
       "      <td>dance</td>\n",
       "      <td>Saint-Petersburg</td>\n",
       "      <td>21:20:49</td>\n",
       "      <td>Wednesday</td>\n",
       "    </tr>\n",
       "  </tbody>\n",
       "</table>\n",
       "</div>"
      ],
      "text/plain": [
       "     userID                        Track            artist   genre  \\\n",
       "0  FFB692EC            Kamigata To Boots  The Mass Missile    rock   \n",
       "1  55204538  Delayed Because of Accident  Andreas Rönnberg    rock   \n",
       "2    20EC38            Funiculì funiculà       Mario Lanza     pop   \n",
       "3  A3DD03C9        Dragons in the Sunset        Fire + Ice    folk   \n",
       "4  E2DC1FAE                  Soul People        Space Echo   dance   \n",
       "5  842029A1                    Преданная         IMPERVTOR  rusrap   \n",
       "6  4CB90AA5                         True      Roman Messer   dance   \n",
       "7  F03E1C1F             Feeling This Way   Polina Griffith   dance   \n",
       "8  8FA1D3BE     И вновь продолжается бой               NaN  ruspop   \n",
       "9  E772D5C0                    Pessimist               NaN   dance   \n",
       "\n",
       "             City        time        Day  \n",
       "0  Saint-Petersburg  20:28:33  Wednesday  \n",
       "1            Moscow  14:07:09     Friday  \n",
       "2  Saint-Petersburg  20:58:07  Wednesday  \n",
       "3  Saint-Petersburg  08:37:09     Monday  \n",
       "4            Moscow  08:34:34     Monday  \n",
       "5  Saint-Petersburg  13:09:41     Friday  \n",
       "6            Moscow  13:00:07  Wednesday  \n",
       "7            Moscow  20:47:49  Wednesday  \n",
       "8            Moscow  09:17:40     Friday  \n",
       "9  Saint-Petersburg  21:20:49  Wednesday  "
      ]
     },
     "execution_count": 3,
     "metadata": {},
     "output_type": "execute_result"
    }
   ],
   "source": [
    "# получение первых 10 строк таблицы \n",
    "df.head(10)"
   ]
  },
  {
   "cell_type": "markdown",
   "metadata": {
    "id": "EO73Kwic_Zct"
   },
   "source": [
    "Одной командой получить общую информацию о таблице:"
   ]
  },
  {
   "cell_type": "code",
   "execution_count": 4,
   "metadata": {
    "id": "DSf2kIb-_Zct"
   },
   "outputs": [
    {
     "name": "stdout",
     "output_type": "stream",
     "text": [
      "<class 'pandas.core.frame.DataFrame'>\n",
      "RangeIndex: 65079 entries, 0 to 65078\n",
      "Data columns (total 7 columns):\n",
      "  userID    65079 non-null object\n",
      "Track       63848 non-null object\n",
      "artist      57876 non-null object\n",
      "genre       63881 non-null object\n",
      "  City      65079 non-null object\n",
      "time        65079 non-null object\n",
      "Day         65079 non-null object\n",
      "dtypes: object(7)\n",
      "memory usage: 3.5+ MB\n"
     ]
    }
   ],
   "source": [
    "# получение общей информации о данных в таблице \n",
    "df.info()"
   ]
  },
  {
   "cell_type": "markdown",
   "metadata": {
    "id": "TaQ2Iwbr_Zct"
   },
   "source": [
    "Итак, в таблице семь столбцов. Тип данных во всех столбцах — `object`.\n",
    "\n",
    "Согласно документации к данным:\n",
    "* `userID` — идентификатор пользователя;\n",
    "* `Track` — название трека;  \n",
    "* `artist` — имя исполнителя;\n",
    "* `genre` — название жанра;\n",
    "* `City` — город пользователя;\n",
    "* `time` — время начала прослушивания;\n",
    "* `Day` — день недели.\n",
    "\n",
    "В названиях колонок видны три нарушения стиля:\n",
    "1. Строчные буквы сочетаются с прописными.\n",
    "2. Встречаются пробелы.\n",
    "3. Найдите ещё одну проблему в названии колонок и опишите её в этом пункте.\n",
    "\n",
    "\n",
    "\n",
    "Количество значений в столбцах различается. Значит, в данных есть пропущенные значения.\n"
   ]
  },
  {
   "cell_type": "markdown",
   "metadata": {},
   "source": []
  },
  {
   "cell_type": "code",
   "execution_count": 5,
   "metadata": {
    "scrolled": false
   },
   "outputs": [
    {
     "data": {
      "text/html": [
       "<div>\n",
       "<style scoped>\n",
       "    .dataframe tbody tr th:only-of-type {\n",
       "        vertical-align: middle;\n",
       "    }\n",
       "\n",
       "    .dataframe tbody tr th {\n",
       "        vertical-align: top;\n",
       "    }\n",
       "\n",
       "    .dataframe thead th {\n",
       "        text-align: right;\n",
       "    }\n",
       "</style>\n",
       "<table border=\"1\" class=\"dataframe\">\n",
       "  <thead>\n",
       "    <tr style=\"text-align: right;\">\n",
       "      <th></th>\n",
       "      <th>userID</th>\n",
       "      <th>track</th>\n",
       "      <th>artist</th>\n",
       "      <th>genre</th>\n",
       "      <th>City</th>\n",
       "      <th>time</th>\n",
       "      <th>Day</th>\n",
       "    </tr>\n",
       "  </thead>\n",
       "  <tbody>\n",
       "    <tr>\n",
       "      <td>0</td>\n",
       "      <td>FFB692EC</td>\n",
       "      <td>Kamigata To Boots</td>\n",
       "      <td>The Mass Missile</td>\n",
       "      <td>rock</td>\n",
       "      <td>Saint-Petersburg</td>\n",
       "      <td>20:28:33</td>\n",
       "      <td>Wednesday</td>\n",
       "    </tr>\n",
       "    <tr>\n",
       "      <td>1</td>\n",
       "      <td>55204538</td>\n",
       "      <td>Delayed Because of Accident</td>\n",
       "      <td>Andreas Rönnberg</td>\n",
       "      <td>rock</td>\n",
       "      <td>Moscow</td>\n",
       "      <td>14:07:09</td>\n",
       "      <td>Friday</td>\n",
       "    </tr>\n",
       "    <tr>\n",
       "      <td>2</td>\n",
       "      <td>20EC38</td>\n",
       "      <td>Funiculì funiculà</td>\n",
       "      <td>Mario Lanza</td>\n",
       "      <td>pop</td>\n",
       "      <td>Saint-Petersburg</td>\n",
       "      <td>20:58:07</td>\n",
       "      <td>Wednesday</td>\n",
       "    </tr>\n",
       "    <tr>\n",
       "      <td>3</td>\n",
       "      <td>A3DD03C9</td>\n",
       "      <td>Dragons in the Sunset</td>\n",
       "      <td>Fire + Ice</td>\n",
       "      <td>folk</td>\n",
       "      <td>Saint-Petersburg</td>\n",
       "      <td>08:37:09</td>\n",
       "      <td>Monday</td>\n",
       "    </tr>\n",
       "    <tr>\n",
       "      <td>4</td>\n",
       "      <td>E2DC1FAE</td>\n",
       "      <td>Soul People</td>\n",
       "      <td>Space Echo</td>\n",
       "      <td>dance</td>\n",
       "      <td>Moscow</td>\n",
       "      <td>08:34:34</td>\n",
       "      <td>Monday</td>\n",
       "    </tr>\n",
       "    <tr>\n",
       "      <td>...</td>\n",
       "      <td>...</td>\n",
       "      <td>...</td>\n",
       "      <td>...</td>\n",
       "      <td>...</td>\n",
       "      <td>...</td>\n",
       "      <td>...</td>\n",
       "      <td>...</td>\n",
       "    </tr>\n",
       "    <tr>\n",
       "      <td>65074</td>\n",
       "      <td>729CBB09</td>\n",
       "      <td>My Name</td>\n",
       "      <td>McLean</td>\n",
       "      <td>rnb</td>\n",
       "      <td>Moscow</td>\n",
       "      <td>13:32:28</td>\n",
       "      <td>Wednesday</td>\n",
       "    </tr>\n",
       "    <tr>\n",
       "      <td>65075</td>\n",
       "      <td>D08D4A55</td>\n",
       "      <td>Maybe One Day (feat. Black Spade)</td>\n",
       "      <td>Blu &amp; Exile</td>\n",
       "      <td>hip</td>\n",
       "      <td>Saint-Petersburg</td>\n",
       "      <td>10:00:00</td>\n",
       "      <td>Monday</td>\n",
       "    </tr>\n",
       "    <tr>\n",
       "      <td>65076</td>\n",
       "      <td>C5E3A0D5</td>\n",
       "      <td>Jalopiina</td>\n",
       "      <td>NaN</td>\n",
       "      <td>industrial</td>\n",
       "      <td>Moscow</td>\n",
       "      <td>20:09:26</td>\n",
       "      <td>Friday</td>\n",
       "    </tr>\n",
       "    <tr>\n",
       "      <td>65077</td>\n",
       "      <td>321D0506</td>\n",
       "      <td>Freight Train</td>\n",
       "      <td>Chas McDevitt</td>\n",
       "      <td>rock</td>\n",
       "      <td>Moscow</td>\n",
       "      <td>21:43:59</td>\n",
       "      <td>Friday</td>\n",
       "    </tr>\n",
       "    <tr>\n",
       "      <td>65078</td>\n",
       "      <td>3A64EF84</td>\n",
       "      <td>Tell Me Sweet Little Lies</td>\n",
       "      <td>Monica Lopez</td>\n",
       "      <td>country</td>\n",
       "      <td>Moscow</td>\n",
       "      <td>21:59:46</td>\n",
       "      <td>Friday</td>\n",
       "    </tr>\n",
       "  </tbody>\n",
       "</table>\n",
       "<p>65079 rows × 7 columns</p>\n",
       "</div>"
      ],
      "text/plain": [
       "         userID                              track            artist  \\\n",
       "0      FFB692EC                  Kamigata To Boots  The Mass Missile   \n",
       "1      55204538        Delayed Because of Accident  Andreas Rönnberg   \n",
       "2        20EC38                  Funiculì funiculà       Mario Lanza   \n",
       "3      A3DD03C9              Dragons in the Sunset        Fire + Ice   \n",
       "4      E2DC1FAE                        Soul People        Space Echo   \n",
       "...         ...                                ...               ...   \n",
       "65074  729CBB09                            My Name            McLean   \n",
       "65075  D08D4A55  Maybe One Day (feat. Black Spade)       Blu & Exile   \n",
       "65076  C5E3A0D5                          Jalopiina               NaN   \n",
       "65077  321D0506                      Freight Train     Chas McDevitt   \n",
       "65078  3A64EF84          Tell Me Sweet Little Lies      Monica Lopez   \n",
       "\n",
       "            genre            City        time        Day  \n",
       "0            rock  Saint-Petersburg  20:28:33  Wednesday  \n",
       "1            rock            Moscow  14:07:09     Friday  \n",
       "2             pop  Saint-Petersburg  20:58:07  Wednesday  \n",
       "3            folk  Saint-Petersburg  08:37:09     Monday  \n",
       "4           dance            Moscow  08:34:34     Monday  \n",
       "...           ...               ...       ...        ...  \n",
       "65074         rnb            Moscow  13:32:28  Wednesday  \n",
       "65075         hip  Saint-Petersburg  10:00:00     Monday  \n",
       "65076  industrial            Moscow  20:09:26     Friday  \n",
       "65077        rock            Moscow  21:43:59     Friday  \n",
       "65078     country            Moscow  21:59:46     Friday  \n",
       "\n",
       "[65079 rows x 7 columns]"
      ]
     },
     "execution_count": 5,
     "metadata": {},
     "output_type": "execute_result"
    }
   ],
   "source": [
    "#Саша, привет, тут я добавила строку, но не поняла, как сделать цветом;\n",
    "df.rename(columns={'  user_id': 'user_id', 'Track': 'track'})"
   ]
  },
  {
   "cell_type": "markdown",
   "metadata": {
    "id": "MCB6-dXG_Zct"
   },
   "source": [
    "**Выводы**\n",
    "\n",
    "В каждой строке таблицы — данные о прослушанном треке. Часть колонок описывает саму композицию: название, исполнителя и жанр. Остальные данные рассказывают о пользователе: из какого он города, когда он слушал музыку. \n",
    "\n",
    "Предварительно можно утверждать, что, данных достаточно для проверки гипотез. Но встречаются пропуски в данных, а в названиях колонок — расхождения с хорошим стилем.\n",
    "\n",
    "Чтобы двигаться дальше, нужно устранить проблемы в данных."
   ]
  },
  {
   "cell_type": "markdown",
   "metadata": {
    "id": "SjYF6Ub9_Zct"
   },
   "source": [
    "## Предобработка данных\n",
    "Исправьте стиль в заголовках столбцов, исключите пропуски. Затем проверьте данные на дубликаты."
   ]
  },
  {
   "cell_type": "markdown",
   "metadata": {
    "id": "dIaKXr29_Zct"
   },
   "source": [
    "### Стиль заголовков\n",
    "Выведите на экран названия столбцов:"
   ]
  },
  {
   "cell_type": "code",
   "execution_count": 6,
   "metadata": {
    "id": "oKOTdF_Q_Zct"
   },
   "outputs": [
    {
     "data": {
      "text/plain": [
       "Index(['  userID', 'Track', 'artist', 'genre', '  City  ', 'time', 'Day'], dtype='object')"
      ]
     },
     "execution_count": 6,
     "metadata": {},
     "output_type": "execute_result"
    }
   ],
   "source": [
    "# перечень названий столбцов таблицы \n",
    "df.columns"
   ]
  },
  {
   "cell_type": "markdown",
   "metadata": {
    "id": "zj5534cv_Zct"
   },
   "source": [
    "Приведите названия в соответствие с хорошим стилем:\n",
    "* несколько слов в названии запишите в «змеином_регистре»,\n",
    "* все символы сделайте строчными,\n",
    "* устраните пробелы.\n",
    "\n",
    "Для этого переименуйте колонки так:\n",
    "* `'  userID'` → `'user_id'`;\n",
    "* `'Track'` → `'track'`;\n",
    "* `'  City  '` → `'city'`;\n",
    "* `'Day'` → `'day'`."
   ]
  },
  {
   "cell_type": "code",
   "execution_count": 7,
   "metadata": {
    "id": "ISlFqs5y_Zct"
   },
   "outputs": [],
   "source": [
    "# переименование столбцов\n",
    "df = df.rename(columns={'  userID': 'user_id', 'Track': 'track', '  City  ': 'city', 'Day': 'day'})"
   ]
  },
  {
   "cell_type": "markdown",
   "metadata": {
    "id": "1dqbh00J_Zct"
   },
   "source": [
    "Проверьте результат. Для этого ещё раз выведите на экран названия столбцов:"
   ]
  },
  {
   "cell_type": "code",
   "execution_count": 8,
   "metadata": {
    "id": "d4NOAmTW_Zct"
   },
   "outputs": [
    {
     "name": "stdout",
     "output_type": "stream",
     "text": [
      "<class 'pandas.core.frame.DataFrame'>\n",
      "RangeIndex: 65079 entries, 0 to 65078\n",
      "Data columns (total 7 columns):\n",
      "user_id    65079 non-null object\n",
      "track      63848 non-null object\n",
      "artist     57876 non-null object\n",
      "genre      63881 non-null object\n",
      "city       65079 non-null object\n",
      "time       65079 non-null object\n",
      "day        65079 non-null object\n",
      "dtypes: object(7)\n",
      "memory usage: 3.5+ MB\n"
     ]
    }
   ],
   "source": [
    "# проверка результатов - перечень названий столбцов\n",
    "df.info()"
   ]
  },
  {
   "cell_type": "markdown",
   "metadata": {
    "id": "5ISfbcfY_Zct"
   },
   "source": [
    "### Пропуски значений\n",
    "Сначала посчитайте, сколько в таблице пропущенных значений. Для этого достаточно двух методов `pandas`:"
   ]
  },
  {
   "cell_type": "code",
   "execution_count": 9,
   "metadata": {
    "id": "RskX29qr_Zct"
   },
   "outputs": [
    {
     "data": {
      "text/plain": [
       "user_id       0\n",
       "track      1231\n",
       "artist     7203\n",
       "genre      1198\n",
       "city          0\n",
       "time          0\n",
       "day           0\n",
       "dtype: int64"
      ]
     },
     "execution_count": 9,
     "metadata": {},
     "output_type": "execute_result"
    }
   ],
   "source": [
    "# подсчёт пропусков\n",
    "df.isna().sum()"
   ]
  },
  {
   "cell_type": "markdown",
   "metadata": {
    "id": "qubhgnlO_Zct"
   },
   "source": [
    "Не все пропущенные значения влияют на исследование. Так в `track` и `artist` пропуски не важны для вашей работы. Достаточно заменить их явными обозначениями.\n",
    "\n",
    "Но пропуски в `genre` могут помешать сравнению музыкальных вкусов в Москве и Санкт-Петербурге. На практике было бы правильно установить причину пропусков и восстановить данные. Такой возможности нет в учебном проекте. Придётся:\n",
    "* заполнить и эти пропуски явными обозначениями,\n",
    "* оценить, насколько они повредят расчётам. "
   ]
  },
  {
   "cell_type": "markdown",
   "metadata": {
    "id": "fSv2laPA_Zct"
   },
   "source": [
    "Замените пропущенные значения в столбцах `track`, `artist` и `genre` на строку `'unknown'`. Для этого создайте список `columns_to_replace`, переберите его элементы циклом `for` и для каждого столбца выполните замену пропущенных значений:"
   ]
  },
  {
   "cell_type": "code",
   "execution_count": 10,
   "metadata": {
    "id": "KplB5qWs_Zct"
   },
   "outputs": [],
   "source": [
    "# перебор названий столбцов в цикле и замена пропущенных значений на 'unknown'\n",
    "columns_to_replace = ['track', 'artist', 'genre']\n",
    "for column in columns_to_replace:\n",
    "    df[column] = df[column].fillna('unknown')"
   ]
  },
  {
   "cell_type": "markdown",
   "metadata": {
    "id": "Ilsm-MZo_Zct"
   },
   "source": [
    "Убедитесь, что в таблице не осталось пропусков. Для этого ещё раз посчитайте пропущенные значения."
   ]
  },
  {
   "cell_type": "code",
   "execution_count": 11,
   "metadata": {
    "id": "Tq4nYRX4_Zct"
   },
   "outputs": [
    {
     "data": {
      "text/plain": [
       "user_id    0\n",
       "track      0\n",
       "artist     0\n",
       "genre      0\n",
       "city       0\n",
       "time       0\n",
       "day        0\n",
       "dtype: int64"
      ]
     },
     "execution_count": 11,
     "metadata": {},
     "output_type": "execute_result"
    }
   ],
   "source": [
    "# подсчёт пропусков\n",
    "df.isna().sum()"
   ]
  },
  {
   "cell_type": "markdown",
   "metadata": {
    "id": "BWKRtBJ3_Zct"
   },
   "source": [
    "### Дубликаты\n",
    "Посчитайте явные дубликаты в таблице одной командой:"
   ]
  },
  {
   "cell_type": "code",
   "execution_count": 12,
   "metadata": {
    "id": "36eES_S0_Zct"
   },
   "outputs": [
    {
     "data": {
      "text/plain": [
       "3826"
      ]
     },
     "execution_count": 12,
     "metadata": {},
     "output_type": "execute_result"
    }
   ],
   "source": [
    "# подсчёт явных дубликатов\n",
    "df.duplicated().sum()"
   ]
  },
  {
   "cell_type": "markdown",
   "metadata": {
    "id": "Ot25h6XR_Zct"
   },
   "source": [
    "Вызовите специальный метод `pandas`, чтобы удалить явные дубликаты:"
   ]
  },
  {
   "cell_type": "code",
   "execution_count": 13,
   "metadata": {
    "id": "exFHq6tt_Zct"
   },
   "outputs": [
    {
     "data": {
      "text/plain": [
       "0"
      ]
     },
     "execution_count": 13,
     "metadata": {},
     "output_type": "execute_result"
    }
   ],
   "source": [
    "# удаление явных дубликатов (с удалением старых индексов и формированием новых)\n",
    "df = df.drop_duplicates().reset_index(drop=True)\n",
    "df.duplicated().sum()"
   ]
  },
  {
   "cell_type": "markdown",
   "metadata": {
    "id": "Im2YwBEG_Zct"
   },
   "source": [
    "Ещё раз посчитайте явные дубликаты в таблице — убедитесь, что полностью от них избавились:"
   ]
  },
  {
   "cell_type": "code",
   "execution_count": 14,
   "metadata": {
    "id": "-8PuNWQ0_Zct"
   },
   "outputs": [
    {
     "data": {
      "text/plain": [
       "array(['acid', 'acoustic', 'action', 'adult', 'africa', 'afrikaans',\n",
       "       'alternative', 'alternativepunk', 'ambient', 'americana',\n",
       "       'animated', 'anime', 'arabesk', 'arabic', 'arena',\n",
       "       'argentinetango', 'art', 'audiobook', 'author', 'avantgarde',\n",
       "       'axé', 'baile', 'balkan', 'beats', 'bigroom', 'black', 'bluegrass',\n",
       "       'blues', 'bollywood', 'bossa', 'brazilian', 'breakbeat', 'breaks',\n",
       "       'broadway', 'cantautori', 'cantopop', 'canzone', 'caribbean',\n",
       "       'caucasian', 'celtic', 'chamber', 'chanson', 'children', 'chill',\n",
       "       'chinese', 'choral', 'christian', 'christmas', 'classical',\n",
       "       'classicmetal', 'club', 'colombian', 'comedy', 'conjazz',\n",
       "       'contemporary', 'country', 'cuban', 'dance', 'dancehall',\n",
       "       'dancepop', 'dark', 'death', 'deep', 'deutschrock', 'deutschspr',\n",
       "       'dirty', 'disco', 'dnb', 'documentary', 'downbeat', 'downtempo',\n",
       "       'drum', 'dub', 'dubstep', 'eastern', 'easy', 'electronic',\n",
       "       'electropop', 'emo', 'entehno', 'epicmetal', 'estrada', 'ethnic',\n",
       "       'eurofolk', 'european', 'experimental', 'extrememetal', 'fado',\n",
       "       'fairytail', 'film', 'fitness', 'flamenco', 'folk', 'folklore',\n",
       "       'folkmetal', 'folkrock', 'folktronica', 'forró', 'frankreich',\n",
       "       'französisch', 'french', 'funk', 'future', 'gangsta', 'garage',\n",
       "       'german', 'ghazal', 'gitarre', 'glitch', 'gospel', 'gothic',\n",
       "       'grime', 'grunge', 'gypsy', 'handsup', \"hard'n'heavy\", 'hardcore',\n",
       "       'hardstyle', 'hardtechno', 'hip', 'hiphop', 'historisch',\n",
       "       'holiday', 'horror', 'house', 'hymn', 'idm', 'independent',\n",
       "       'indian', 'indie', 'indipop', 'industrial', 'inspirational',\n",
       "       'instrumental', 'international', 'irish', 'jam', 'japanese',\n",
       "       'jazz', 'jewish', 'jpop', 'jungle', 'k-pop', 'karadeniz',\n",
       "       'karaoke', 'kayokyoku', 'korean', 'laiko', 'latin', 'latino',\n",
       "       'leftfield', 'local', 'lounge', 'loungeelectronic', 'lovers',\n",
       "       'malaysian', 'mandopop', 'marschmusik', 'meditative',\n",
       "       'mediterranean', 'melodic', 'metal', 'metalcore', 'mexican',\n",
       "       'middle', 'minimal', 'miscellaneous', 'modern', 'mood', 'mpb',\n",
       "       'muslim', 'native', 'neoklassik', 'neue', 'new', 'newage',\n",
       "       'newwave', 'nu', 'nujazz', 'numetal', 'oceania', 'old', 'opera',\n",
       "       'orchestral', 'other', 'piano', 'podcasts', 'pop', 'popdance',\n",
       "       'popelectronic', 'popeurodance', 'poprussian', 'post',\n",
       "       'posthardcore', 'postrock', 'power', 'progmetal', 'progressive',\n",
       "       'psychedelic', 'punjabi', 'punk', 'quebecois', 'ragga', 'ram',\n",
       "       'rancheras', 'rap', 'rave', 'reggae', 'reggaeton', 'regional',\n",
       "       'relax', 'religious', 'retro', 'rhythm', 'rnb', 'rnr', 'rock',\n",
       "       'rockabilly', 'rockalternative', 'rockindie', 'rockother',\n",
       "       'romance', 'roots', 'ruspop', 'rusrap', 'rusrock', 'russian',\n",
       "       'salsa', 'samba', 'scenic', 'schlager', 'self', 'sertanejo',\n",
       "       'shanson', 'shoegazing', 'showtunes', 'singer', 'ska', 'skarock',\n",
       "       'slow', 'smooth', 'soft', 'soul', 'soulful', 'sound', 'soundtrack',\n",
       "       'southern', 'specialty', 'speech', 'spiritual', 'sport',\n",
       "       'stonerrock', 'surf', 'swing', 'synthpop', 'synthrock',\n",
       "       'sängerportrait', 'tango', 'tanzorchester', 'taraftar', 'tatar',\n",
       "       'tech', 'techno', 'teen', 'thrash', 'top', 'traditional',\n",
       "       'tradjazz', 'trance', 'tribal', 'trip', 'triphop', 'tropical',\n",
       "       'türk', 'türkçe', 'ukrrock', 'unknown', 'urban', 'uzbek',\n",
       "       'variété', 'vi', 'videogame', 'vocal', 'western', 'world',\n",
       "       'worldbeat', 'ïîï', 'электроника'], dtype=object)"
      ]
     },
     "execution_count": 14,
     "metadata": {},
     "output_type": "execute_result"
    }
   ],
   "source": [
    "# проверка на отсутствие дубликатов\n",
    "df = df.sort_values(by='genre', ascending=False)\n",
    "df.duplicated().sum()\n",
    "df['genre'].sort_values().unique()"
   ]
  },
  {
   "cell_type": "markdown",
   "metadata": {
    "id": "QlFBsxAr_Zct"
   },
   "source": [
    "Теперь избавьтесь от неявных дубликатов в колонке `genre`. Например, название одного и того же жанра может быть записано немного по-разному. Такие ошибки тоже повлияют на результат исследования."
   ]
  },
  {
   "cell_type": "markdown",
   "metadata": {
    "id": "eSjWwsOh_Zct"
   },
   "source": [
    "Выведите на экран список уникальных названий жанров, отсортированный в алфавитном порядке. Для этого:\n",
    "* извлеките нужный столбец датафрейма, \n",
    "* примените к нему метод сортировки,\n",
    "* для отсортированного столбца вызовите метод, который вернёт уникальные значения из столбца."
   ]
  },
  {
   "cell_type": "code",
   "execution_count": 15,
   "metadata": {
    "id": "JIUcqzZN_Zct"
   },
   "outputs": [
    {
     "data": {
      "text/plain": [
       "array(['электроника', 'ïîï', 'worldbeat', 'world', 'western', 'vocal',\n",
       "       'videogame', 'vi', 'variété', 'uzbek', 'urban', 'unknown',\n",
       "       'ukrrock', 'türkçe', 'türk', 'tropical', 'triphop', 'trip',\n",
       "       'tribal', 'trance', 'tradjazz', 'traditional', 'top', 'thrash',\n",
       "       'teen', 'techno', 'tech', 'tatar', 'taraftar', 'tanzorchester',\n",
       "       'tango', 'sängerportrait', 'synthrock', 'synthpop', 'swing',\n",
       "       'surf', 'stonerrock', 'sport', 'spiritual', 'speech', 'specialty',\n",
       "       'southern', 'soundtrack', 'sound', 'soulful', 'soul', 'soft',\n",
       "       'smooth', 'slow', 'skarock', 'ska', 'singer', 'showtunes',\n",
       "       'shoegazing', 'shanson', 'sertanejo', 'self', 'schlager', 'scenic',\n",
       "       'samba', 'salsa', 'russian', 'rusrock', 'rusrap', 'ruspop',\n",
       "       'roots', 'romance', 'rockother', 'rockindie', 'rockalternative',\n",
       "       'rockabilly', 'rock', 'rnr', 'rnb', 'rhythm', 'retro', 'religious',\n",
       "       'relax', 'regional', 'reggaeton', 'reggae', 'rave', 'rap',\n",
       "       'rancheras', 'ram', 'ragga', 'quebecois', 'punk', 'punjabi',\n",
       "       'psychedelic', 'progressive', 'progmetal', 'power', 'postrock',\n",
       "       'posthardcore', 'post', 'poprussian', 'popeurodance',\n",
       "       'popelectronic', 'popdance', 'pop', 'podcasts', 'piano', 'other',\n",
       "       'orchestral', 'opera', 'old', 'oceania', 'numetal', 'nujazz', 'nu',\n",
       "       'newwave', 'newage', 'new', 'neue', 'neoklassik', 'native',\n",
       "       'muslim', 'mpb', 'mood', 'modern', 'miscellaneous', 'minimal',\n",
       "       'middle', 'mexican', 'metalcore', 'metal', 'melodic',\n",
       "       'mediterranean', 'meditative', 'marschmusik', 'mandopop',\n",
       "       'malaysian', 'lovers', 'loungeelectronic', 'lounge', 'local',\n",
       "       'leftfield', 'latino', 'latin', 'laiko', 'korean', 'kayokyoku',\n",
       "       'karaoke', 'karadeniz', 'k-pop', 'jungle', 'jpop', 'jewish',\n",
       "       'jazz', 'japanese', 'jam', 'irish', 'international',\n",
       "       'instrumental', 'inspirational', 'industrial', 'indipop', 'indie',\n",
       "       'indian', 'independent', 'idm', 'hymn', 'house', 'horror',\n",
       "       'holiday', 'historisch', 'hiphop', 'hip', 'hardtechno',\n",
       "       'hardstyle', 'hardcore', \"hard'n'heavy\", 'handsup', 'gypsy',\n",
       "       'grunge', 'grime', 'gothic', 'gospel', 'glitch', 'gitarre',\n",
       "       'ghazal', 'german', 'garage', 'gangsta', 'future', 'funk',\n",
       "       'french', 'französisch', 'frankreich', 'forró', 'folktronica',\n",
       "       'folkrock', 'folkmetal', 'folklore', 'folk', 'flamenco', 'fitness',\n",
       "       'film', 'fairytail', 'fado', 'extrememetal', 'experimental',\n",
       "       'european', 'eurofolk', 'ethnic', 'estrada', 'epicmetal',\n",
       "       'entehno', 'emo', 'electropop', 'electronic', 'easy', 'eastern',\n",
       "       'dubstep', 'dub', 'drum', 'downtempo', 'downbeat', 'documentary',\n",
       "       'dnb', 'disco', 'dirty', 'deutschspr', 'deutschrock', 'deep',\n",
       "       'death', 'dark', 'dancepop', 'dancehall', 'dance', 'cuban',\n",
       "       'country', 'contemporary', 'conjazz', 'comedy', 'colombian',\n",
       "       'club', 'classicmetal', 'classical', 'christmas', 'christian',\n",
       "       'choral', 'chinese', 'chill', 'children', 'chanson', 'chamber',\n",
       "       'celtic', 'caucasian', 'caribbean', 'canzone', 'cantopop',\n",
       "       'cantautori', 'broadway', 'breaks', 'breakbeat', 'brazilian',\n",
       "       'bossa', 'bollywood', 'blues', 'bluegrass', 'black', 'bigroom',\n",
       "       'beats', 'balkan', 'baile', 'axé', 'avantgarde', 'author',\n",
       "       'audiobook', 'art', 'argentinetango', 'arena', 'arabic', 'arabesk',\n",
       "       'anime', 'animated', 'americana', 'ambient', 'alternativepunk',\n",
       "       'alternative', 'afrikaans', 'africa', 'adult', 'action',\n",
       "       'acoustic', 'acid'], dtype=object)"
      ]
     },
     "execution_count": 15,
     "metadata": {},
     "output_type": "execute_result"
    }
   ],
   "source": [
    "# Просмотр уникальных названий жанров\n",
    "df['genre'].unique()"
   ]
  },
  {
   "cell_type": "markdown",
   "metadata": {
    "id": "qej-Qmuo_Zct"
   },
   "source": [
    "Просмотрите список и найдите неявные дубликаты названия `hiphop`. Это могут быть названия с ошибками или альтернативные названия того же жанра.\n",
    "\n",
    "Вы увидите следующие неявные дубликаты:\n",
    "* *hip*,\n",
    "* *hop*,\n",
    "* *hip-hop*.\n",
    "\n",
    "Чтобы очистить от них таблицу, напишите функцию `replace_wrong_genres()` с двумя параметрами: \n",
    "* `wrong_genres` — список дубликатов,\n",
    "* `correct_genre` — строка с правильным значением.\n",
    "\n",
    "Функция должна исправить колонку `genre` в таблице `df`: заменить каждое значение из списка `wrong_genres` на значение из `correct_genre`."
   ]
  },
  {
   "cell_type": "code",
   "execution_count": 16,
   "metadata": {
    "id": "ErNDkmns_Zct"
   },
   "outputs": [],
   "source": [
    "# Функция для замены неявных дубликатов\n",
    "def replace_wrong_genres(wrong_genres, correct_genre): # на вход функции подаются список неправильных значений и строка с правильным значением\n",
    "    for wrong_genre in wrong_genres: # перебираем неправильные имена\n",
    "        df['genre'] = df['genre'].replace(wrong_genre, correct_genre) # и для каждого неправильного имени вызываем метод replace()\n",
    " # правильное имя\n"
   ]
  },
  {
   "cell_type": "markdown",
   "metadata": {
    "id": "aDoBJxbA_Zct"
   },
   "source": [
    "Вызовите `replace_wrong_genres()` и передайте ей такие аргументы, чтобы она устранила неявные дубликаты: вместо `hip`, `hop` и `hip-hop` в таблице должно быть значение `hiphop`:"
   ]
  },
  {
   "cell_type": "code",
   "execution_count": 17,
   "metadata": {
    "id": "YN5i2hpmSo09"
   },
   "outputs": [
    {
     "data": {
      "text/plain": [
       "array(['acid', 'acoustic', 'action', 'adult', 'africa', 'afrikaans',\n",
       "       'alternative', 'alternativepunk', 'ambient', 'americana',\n",
       "       'animated', 'anime', 'arabesk', 'arabic', 'arena',\n",
       "       'argentinetango', 'art', 'audiobook', 'author', 'avantgarde',\n",
       "       'axé', 'baile', 'balkan', 'beats', 'bigroom', 'black', 'bluegrass',\n",
       "       'blues', 'bollywood', 'bossa', 'brazilian', 'breakbeat', 'breaks',\n",
       "       'broadway', 'cantautori', 'cantopop', 'canzone', 'caribbean',\n",
       "       'caucasian', 'celtic', 'chamber', 'chanson', 'children', 'chill',\n",
       "       'chinese', 'choral', 'christian', 'christmas', 'classical',\n",
       "       'classicmetal', 'club', 'colombian', 'comedy', 'conjazz',\n",
       "       'contemporary', 'country', 'cuban', 'dance', 'dancehall',\n",
       "       'dancepop', 'dark', 'death', 'deep', 'deutschrock', 'deutschspr',\n",
       "       'dirty', 'disco', 'dnb', 'documentary', 'downbeat', 'downtempo',\n",
       "       'drum', 'dub', 'dubstep', 'eastern', 'easy', 'electronic',\n",
       "       'electropop', 'emo', 'entehno', 'epicmetal', 'estrada', 'ethnic',\n",
       "       'eurofolk', 'european', 'experimental', 'extrememetal', 'fado',\n",
       "       'fairytail', 'film', 'fitness', 'flamenco', 'folk', 'folklore',\n",
       "       'folkmetal', 'folkrock', 'folktronica', 'forró', 'frankreich',\n",
       "       'französisch', 'french', 'funk', 'future', 'gangsta', 'garage',\n",
       "       'german', 'ghazal', 'gitarre', 'glitch', 'gospel', 'gothic',\n",
       "       'grime', 'grunge', 'gypsy', 'handsup', \"hard'n'heavy\", 'hardcore',\n",
       "       'hardstyle', 'hardtechno', 'hiphop', 'historisch', 'holiday',\n",
       "       'horror', 'house', 'hymn', 'idm', 'independent', 'indian', 'indie',\n",
       "       'indipop', 'industrial', 'inspirational', 'instrumental',\n",
       "       'international', 'irish', 'jam', 'japanese', 'jazz', 'jewish',\n",
       "       'jpop', 'jungle', 'k-pop', 'karadeniz', 'karaoke', 'kayokyoku',\n",
       "       'korean', 'laiko', 'latin', 'latino', 'leftfield', 'local',\n",
       "       'lounge', 'loungeelectronic', 'lovers', 'malaysian', 'mandopop',\n",
       "       'marschmusik', 'meditative', 'mediterranean', 'melodic', 'metal',\n",
       "       'metalcore', 'mexican', 'middle', 'minimal', 'miscellaneous',\n",
       "       'modern', 'mood', 'mpb', 'muslim', 'native', 'neoklassik', 'neue',\n",
       "       'new', 'newage', 'newwave', 'nu', 'nujazz', 'numetal', 'oceania',\n",
       "       'old', 'opera', 'orchestral', 'other', 'piano', 'podcasts', 'pop',\n",
       "       'popdance', 'popelectronic', 'popeurodance', 'poprussian', 'post',\n",
       "       'posthardcore', 'postrock', 'power', 'progmetal', 'progressive',\n",
       "       'psychedelic', 'punjabi', 'punk', 'quebecois', 'ragga', 'ram',\n",
       "       'rancheras', 'rap', 'rave', 'reggae', 'reggaeton', 'regional',\n",
       "       'relax', 'religious', 'retro', 'rhythm', 'rnb', 'rnr', 'rock',\n",
       "       'rockabilly', 'rockalternative', 'rockindie', 'rockother',\n",
       "       'romance', 'roots', 'ruspop', 'rusrap', 'rusrock', 'russian',\n",
       "       'salsa', 'samba', 'scenic', 'schlager', 'self', 'sertanejo',\n",
       "       'shanson', 'shoegazing', 'showtunes', 'singer', 'ska', 'skarock',\n",
       "       'slow', 'smooth', 'soft', 'soul', 'soulful', 'sound', 'soundtrack',\n",
       "       'southern', 'specialty', 'speech', 'spiritual', 'sport',\n",
       "       'stonerrock', 'surf', 'swing', 'synthpop', 'synthrock',\n",
       "       'sängerportrait', 'tango', 'tanzorchester', 'taraftar', 'tatar',\n",
       "       'tech', 'techno', 'teen', 'thrash', 'top', 'traditional',\n",
       "       'tradjazz', 'trance', 'tribal', 'trip', 'triphop', 'tropical',\n",
       "       'türk', 'türkçe', 'ukrrock', 'unknown', 'urban', 'uzbek',\n",
       "       'variété', 'vi', 'videogame', 'vocal', 'western', 'world',\n",
       "       'worldbeat', 'ïîï', 'электроника'], dtype=object)"
      ]
     },
     "execution_count": 17,
     "metadata": {},
     "output_type": "execute_result"
    }
   ],
   "source": [
    "# Устранение неявных дубликатов\n",
    "duplicates = ['hip', 'hop', 'hip-hop'] # список неправильных имён\n",
    "right_genre = 'hiphop'\n",
    "replace_wrong_genres(duplicates, right_genre)\n",
    "df['genre'].sort_values().unique()"
   ]
  },
  {
   "cell_type": "markdown",
   "metadata": {
    "id": "zQKF16_RG15m"
   },
   "source": [
    "Проверьте, что заменили неправильные названия:\n",
    "\n",
    "*   hip\n",
    "*   hop\n",
    "*   hip-hop\n",
    "\n",
    "Выведите отсортированный список уникальных значений столбца `genre`:"
   ]
  },
  {
   "cell_type": "code",
   "execution_count": 18,
   "metadata": {
    "id": "wvixALnFG15m"
   },
   "outputs": [
    {
     "data": {
      "text/plain": [
       "array(['acid', 'acoustic', 'action', 'adult', 'africa', 'afrikaans',\n",
       "       'alternative', 'alternativepunk', 'ambient', 'americana',\n",
       "       'animated', 'anime', 'arabesk', 'arabic', 'arena',\n",
       "       'argentinetango', 'art', 'audiobook', 'author', 'avantgarde',\n",
       "       'axé', 'baile', 'balkan', 'beats', 'bigroom', 'black', 'bluegrass',\n",
       "       'blues', 'bollywood', 'bossa', 'brazilian', 'breakbeat', 'breaks',\n",
       "       'broadway', 'cantautori', 'cantopop', 'canzone', 'caribbean',\n",
       "       'caucasian', 'celtic', 'chamber', 'chanson', 'children', 'chill',\n",
       "       'chinese', 'choral', 'christian', 'christmas', 'classical',\n",
       "       'classicmetal', 'club', 'colombian', 'comedy', 'conjazz',\n",
       "       'contemporary', 'country', 'cuban', 'dance', 'dancehall',\n",
       "       'dancepop', 'dark', 'death', 'deep', 'deutschrock', 'deutschspr',\n",
       "       'dirty', 'disco', 'dnb', 'documentary', 'downbeat', 'downtempo',\n",
       "       'drum', 'dub', 'dubstep', 'eastern', 'easy', 'electronic',\n",
       "       'electropop', 'emo', 'entehno', 'epicmetal', 'estrada', 'ethnic',\n",
       "       'eurofolk', 'european', 'experimental', 'extrememetal', 'fado',\n",
       "       'fairytail', 'film', 'fitness', 'flamenco', 'folk', 'folklore',\n",
       "       'folkmetal', 'folkrock', 'folktronica', 'forró', 'frankreich',\n",
       "       'französisch', 'french', 'funk', 'future', 'gangsta', 'garage',\n",
       "       'german', 'ghazal', 'gitarre', 'glitch', 'gospel', 'gothic',\n",
       "       'grime', 'grunge', 'gypsy', 'handsup', \"hard'n'heavy\", 'hardcore',\n",
       "       'hardstyle', 'hardtechno', 'hiphop', 'historisch', 'holiday',\n",
       "       'horror', 'house', 'hymn', 'idm', 'independent', 'indian', 'indie',\n",
       "       'indipop', 'industrial', 'inspirational', 'instrumental',\n",
       "       'international', 'irish', 'jam', 'japanese', 'jazz', 'jewish',\n",
       "       'jpop', 'jungle', 'k-pop', 'karadeniz', 'karaoke', 'kayokyoku',\n",
       "       'korean', 'laiko', 'latin', 'latino', 'leftfield', 'local',\n",
       "       'lounge', 'loungeelectronic', 'lovers', 'malaysian', 'mandopop',\n",
       "       'marschmusik', 'meditative', 'mediterranean', 'melodic', 'metal',\n",
       "       'metalcore', 'mexican', 'middle', 'minimal', 'miscellaneous',\n",
       "       'modern', 'mood', 'mpb', 'muslim', 'native', 'neoklassik', 'neue',\n",
       "       'new', 'newage', 'newwave', 'nu', 'nujazz', 'numetal', 'oceania',\n",
       "       'old', 'opera', 'orchestral', 'other', 'piano', 'podcasts', 'pop',\n",
       "       'popdance', 'popelectronic', 'popeurodance', 'poprussian', 'post',\n",
       "       'posthardcore', 'postrock', 'power', 'progmetal', 'progressive',\n",
       "       'psychedelic', 'punjabi', 'punk', 'quebecois', 'ragga', 'ram',\n",
       "       'rancheras', 'rap', 'rave', 'reggae', 'reggaeton', 'regional',\n",
       "       'relax', 'religious', 'retro', 'rhythm', 'rnb', 'rnr', 'rock',\n",
       "       'rockabilly', 'rockalternative', 'rockindie', 'rockother',\n",
       "       'romance', 'roots', 'ruspop', 'rusrap', 'rusrock', 'russian',\n",
       "       'salsa', 'samba', 'scenic', 'schlager', 'self', 'sertanejo',\n",
       "       'shanson', 'shoegazing', 'showtunes', 'singer', 'ska', 'skarock',\n",
       "       'slow', 'smooth', 'soft', 'soul', 'soulful', 'sound', 'soundtrack',\n",
       "       'southern', 'specialty', 'speech', 'spiritual', 'sport',\n",
       "       'stonerrock', 'surf', 'swing', 'synthpop', 'synthrock',\n",
       "       'sängerportrait', 'tango', 'tanzorchester', 'taraftar', 'tatar',\n",
       "       'tech', 'techno', 'teen', 'thrash', 'top', 'traditional',\n",
       "       'tradjazz', 'trance', 'tribal', 'trip', 'triphop', 'tropical',\n",
       "       'türk', 'türkçe', 'ukrrock', 'unknown', 'urban', 'uzbek',\n",
       "       'variété', 'vi', 'videogame', 'vocal', 'western', 'world',\n",
       "       'worldbeat', 'ïîï', 'электроника'], dtype=object)"
      ]
     },
     "execution_count": 18,
     "metadata": {},
     "output_type": "execute_result"
    }
   ],
   "source": [
    "# Проверка на неявные дубликаты\n",
    "df['genre'].sort_values().unique()"
   ]
  },
  {
   "cell_type": "markdown",
   "metadata": {
    "id": "jz6a9-7HQUDd"
   },
   "source": [
    "**Выводы**\n",
    "\n",
    "Предобработка обнаружила три проблемы в данных:\n",
    "\n",
    "- нарушения в стиле заголовков,\n",
    "- пропущенные значения,\n",
    "- дубликаты — явные и неявные.\n",
    "\n",
    "Вы исправили заголовки, чтобы упростить работу с таблицей. Без дубликатов исследование станет более точным.\n",
    "\n",
    "Пропущенные значения вы заменили на `'unknown'`. Ещё предстоит увидеть, не повредят ли исследованию пропуски в колонке `genre`.\n",
    "\n",
    "Теперь можно перейти к проверке гипотез. "
   ]
  },
  {
   "cell_type": "markdown",
   "metadata": {
    "id": "WttZHXH0SqKk"
   },
   "source": [
    "## Проверка гипотез"
   ]
  },
  {
   "cell_type": "markdown",
   "metadata": {
    "id": "Im936VVi_Zcu"
   },
   "source": [
    "### Сравнение поведения пользователей двух столиц"
   ]
  },
  {
   "cell_type": "markdown",
   "metadata": {
    "id": "nwt_MuaL_Zcu"
   },
   "source": [
    "Первая гипотеза утверждает, что пользователи по-разному слушают музыку в Москве и Санкт-Петербурге. Проверьте это предположение по данным о трёх днях недели — понедельнике, среде и пятнице. Для этого:\n",
    "\n",
    "* Разделите пользователей Москвы и Санкт-Петербурга\n",
    "* Сравните, сколько треков послушала каждая группа пользователей в понедельник, среду и пятницу.\n"
   ]
  },
  {
   "cell_type": "markdown",
   "metadata": {
    "id": "8Dw_YMmT_Zcu"
   },
   "source": [
    "Для тренировки сначала выполните каждый из расчётов по отдельности. \n",
    "\n",
    "Оцените активность пользователей в каждом городе. Сгруппируйте данные по городу и посчитайте прослушивания в каждой группе.\n",
    "\n"
   ]
  },
  {
   "cell_type": "code",
   "execution_count": 19,
   "metadata": {
    "id": "0_Qs96oh_Zcu"
   },
   "outputs": [
    {
     "data": {
      "text/plain": [
       "city\n",
       "Moscow              42741\n",
       "Saint-Petersburg    18512\n",
       "Name: genre, dtype: int64"
      ]
     },
     "execution_count": 19,
     "metadata": {},
     "output_type": "execute_result"
    }
   ],
   "source": [
    "# Подсчёт прослушиваний в каждом городе\n",
    "df.groupby('city')['genre'].count()"
   ]
  },
  {
   "cell_type": "markdown",
   "metadata": {
    "id": "dzli3w8o_Zcu"
   },
   "source": [
    "В Москве прослушиваний больше, чем в Петербурге. Из этого не следует, что московские пользователи чаще слушают музыку. Просто самих пользователей в Москве больше.\n",
    "\n",
    "Теперь сгруппируйте данные по дню недели и подсчитайте прослушивания в понедельник, среду и пятницу. Учтите, что в данных есть информация только о прослушиваниях только за эти дни.\n"
   ]
  },
  {
   "cell_type": "code",
   "execution_count": 20,
   "metadata": {
    "id": "uZMKjiJz_Zcu"
   },
   "outputs": [],
   "source": [
    "# Подсчёт прослушиваний в каждый из трёх дней\n",
    "city_group = df.groupby('city')['genre']\n",
    "city_count = df.groupby('city')['genre'].count()"
   ]
  },
  {
   "cell_type": "markdown",
   "metadata": {
    "id": "cC2tNrlL_Zcu"
   },
   "source": [
    "В среднем пользователи из двух городов менее активны по средам. Но картина может измениться, если рассмотреть каждый город в отдельности."
   ]
  },
  {
   "cell_type": "markdown",
   "metadata": {
    "id": "POzs8bGa_Zcu"
   },
   "source": [
    "Вы видели, как работает группировка по городу и по дням недели. Теперь напишите функцию, которая объединит два эти расчёта.\n",
    "\n",
    "Создайте функцию `number_tracks()`, которая посчитает прослушивания для заданного дня и города. Ей понадобятся два параметра:\n",
    "* день недели,\n",
    "* название города.\n",
    "\n",
    "В функции сохраните в переменную строки исходной таблицы, у которых значение:\n",
    "  * в колонке `day` равно параметру `day`,\n",
    "  * в колонке `city` равно параметру `city`.\n",
    "\n",
    "Для этого примените последовательную фильтрацию с логической индексацией.\n",
    "\n",
    "Затем посчитайте значения в столбце `user_id` получившейся таблицы. Результат сохраните в новую переменную. Верните эту переменную из функции."
   ]
  },
  {
   "cell_type": "code",
   "execution_count": 21,
   "metadata": {
    "id": "Nz3GdQB1_Zcu"
   },
   "outputs": [],
   "source": [
    "# <создание функции number_tracks()>\n",
    "def number_tracks(day, city):\n",
    "# Объявляется функция с двумя параметрами: day, city.\n",
    "    track_list = df[df['day'] == day]\n",
    "    track_list = track_list[track_list['city'] == city]\n",
    "# В переменной track_list сохраняются те строки таблицы df, для которых \n",
    "# значение в столбце 'day' равно параметру day и одновременно значение\n",
    "# в столбце 'city' равно параметру city (используйте последовательную фильтрацию\n",
    "# с помощью логической индексации).\n",
    "    track_list_count = track_list['user_id'].count()\n",
    "# В переменной track_list_count сохраняется число значений столбца 'user_id',\n",
    "# рассчитанное методом count() для таблицы track_list.\n",
    "# Функция возвращает число - значение track_list_count.\n",
    "    return track_list_count\n",
    "# Функция для подсчёта прослушиваний для конкретного города и дня.\n",
    "# С помощью последовательной фильтрации с логической индексацией она \n",
    "# сначала получит из исходной таблицы строки с нужным днём,\n",
    "# затем из результата отфильтрует строки с нужным городом,\n",
    "# методом count() посчитает количество значений в колонке user_id. \n",
    "# Это количество функция вернёт в качестве результата"
   ]
  },
  {
   "cell_type": "markdown",
   "metadata": {
    "id": "ytf7xFrFJQ2r"
   },
   "source": [
    "Вызовите `number_tracks()` шесть раз, меняя значение параметров — так, чтобы получить данные для каждого города в каждый из трёх дней."
   ]
  },
  {
   "cell_type": "code",
   "execution_count": 22,
   "metadata": {
    "id": "rJcRATNQ_Zcu"
   },
   "outputs": [
    {
     "data": {
      "text/plain": [
       "15740"
      ]
     },
     "execution_count": 22,
     "metadata": {},
     "output_type": "execute_result"
    }
   ],
   "source": [
    "# количество прослушиваний в Москве по понедельникам\n",
    "number_tracks('Monday', 'Moscow')"
   ]
  },
  {
   "cell_type": "code",
   "execution_count": 23,
   "metadata": {
    "id": "hq_ncZ5T_Zcu"
   },
   "outputs": [
    {
     "data": {
      "text/plain": [
       "5614"
      ]
     },
     "execution_count": 23,
     "metadata": {},
     "output_type": "execute_result"
    }
   ],
   "source": [
    "# количество прослушиваний в Санкт-Петербурге по понедельникам\n",
    "number_tracks('Monday', 'Saint-Petersburg')"
   ]
  },
  {
   "cell_type": "code",
   "execution_count": 24,
   "metadata": {
    "id": "_NTy2VPU_Zcu"
   },
   "outputs": [
    {
     "data": {
      "text/plain": [
       "11056"
      ]
     },
     "execution_count": 24,
     "metadata": {},
     "output_type": "execute_result"
    }
   ],
   "source": [
    "# количество прослушиваний в Москве по средам\n",
    "number_tracks('Wednesday', 'Moscow')"
   ]
  },
  {
   "cell_type": "code",
   "execution_count": 25,
   "metadata": {
    "id": "j2y3TAwo_Zcu"
   },
   "outputs": [
    {
     "data": {
      "text/plain": [
       "7003"
      ]
     },
     "execution_count": 25,
     "metadata": {},
     "output_type": "execute_result"
    }
   ],
   "source": [
    "# количество прослушиваний в Санкт-Петербурге по средам\n",
    "number_tracks('Wednesday', 'Saint-Petersburg')"
   ]
  },
  {
   "cell_type": "code",
   "execution_count": 26,
   "metadata": {
    "id": "vYDw5u_K_Zcu"
   },
   "outputs": [
    {
     "data": {
      "text/plain": [
       "15945"
      ]
     },
     "execution_count": 26,
     "metadata": {},
     "output_type": "execute_result"
    }
   ],
   "source": [
    "# количество прослушиваний в Москве по пятницам\n",
    "number_tracks('Friday', 'Moscow')"
   ]
  },
  {
   "cell_type": "code",
   "execution_count": 27,
   "metadata": {
    "id": "8_yzFtW3_Zcu"
   },
   "outputs": [
    {
     "data": {
      "text/plain": [
       "5895"
      ]
     },
     "execution_count": 27,
     "metadata": {},
     "output_type": "execute_result"
    }
   ],
   "source": [
    "# количество прослушиваний в Санкт-Петербурге по пятницам\n",
    "number_tracks('Friday', 'Saint-Petersburg')"
   ]
  },
  {
   "cell_type": "markdown",
   "metadata": {
    "id": "7QXffbO-_Zcu"
   },
   "source": [
    "Создайте c помощью конструктора `pd.DataFrame` таблицу, где\n",
    "* названия колонок — `['city', 'monday', 'wednesday', 'friday']`;\n",
    "* данные — результаты, которые вы получили с помощью `number_tracks`."
   ]
  },
  {
   "cell_type": "code",
   "execution_count": 28,
   "metadata": {
    "id": "APAcLpOr_Zcu"
   },
   "outputs": [
    {
     "data": {
      "text/html": [
       "<div>\n",
       "<style scoped>\n",
       "    .dataframe tbody tr th:only-of-type {\n",
       "        vertical-align: middle;\n",
       "    }\n",
       "\n",
       "    .dataframe tbody tr th {\n",
       "        vertical-align: top;\n",
       "    }\n",
       "\n",
       "    .dataframe thead th {\n",
       "        text-align: right;\n",
       "    }\n",
       "</style>\n",
       "<table border=\"1\" class=\"dataframe\">\n",
       "  <thead>\n",
       "    <tr style=\"text-align: right;\">\n",
       "      <th></th>\n",
       "      <th>city</th>\n",
       "      <th>monday</th>\n",
       "      <th>wednesday</th>\n",
       "      <th>friday</th>\n",
       "    </tr>\n",
       "  </thead>\n",
       "  <tbody>\n",
       "    <tr>\n",
       "      <td>0</td>\n",
       "      <td>Moscow</td>\n",
       "      <td>15347</td>\n",
       "      <td>10865</td>\n",
       "      <td>15680</td>\n",
       "    </tr>\n",
       "    <tr>\n",
       "      <td>1</td>\n",
       "      <td>Saint-Petersburg</td>\n",
       "      <td>5519</td>\n",
       "      <td>6913</td>\n",
       "      <td>5802</td>\n",
       "    </tr>\n",
       "  </tbody>\n",
       "</table>\n",
       "</div>"
      ],
      "text/plain": [
       "               city  monday  wednesday  friday\n",
       "0            Moscow   15347      10865   15680\n",
       "1  Saint-Petersburg    5519       6913    5802"
      ]
     },
     "execution_count": 28,
     "metadata": {},
     "output_type": "execute_result"
    }
   ],
   "source": [
    "# Таблица с результатами\n",
    "data = [['Moscow', 15347, 10865, 15680],\n",
    "       ['Saint-Petersburg', 5519, 6913, 5802]]\n",
    "columns = ['city','monday','wednesday','friday']\n",
    "table = pd.DataFrame(data = data, columns = columns)\n",
    "table"
   ]
  },
  {
   "cell_type": "markdown",
   "metadata": {
    "id": "-EgPIHYu_Zcu"
   },
   "source": [
    "**Выводы**\n",
    "\n",
    "Данные показывают разницу поведения пользователей:\n",
    "\n",
    "- В Москве пик прослушиваний приходится на понедельник и пятницу, а в среду заметен спад.\n",
    "- В Петербурге, наоборот, больше слушают музыку по средам. Активность в понедельник и пятницу здесь почти в равной мере уступает среде.\n",
    "\n",
    "Значит, данные говорят в пользу первой гипотезы."
   ]
  },
  {
   "cell_type": "markdown",
   "metadata": {
    "id": "atZAxtq4_Zcu"
   },
   "source": [
    "### Музыка в начале и в конце недели"
   ]
  },
  {
   "cell_type": "markdown",
   "metadata": {
    "id": "eXrQqXFH_Zcu"
   },
   "source": [
    "Согласно второй гипотезе, утром в понедельник в Москве преобладают одни жанры, а в Петербурге — другие. Так же и вечером пятницы преобладают разные жанры — в зависимости от города."
   ]
  },
  {
   "cell_type": "markdown",
   "metadata": {
    "id": "S8UcW6Hw_Zcu"
   },
   "source": [
    "Сохраните таблицы с данными в две переменные:\n",
    "* по Москве — в `moscow_general`;\n",
    "* по Санкт-Петербургу — в `spb_general`."
   ]
  },
  {
   "cell_type": "code",
   "execution_count": 29,
   "metadata": {
    "id": "qeaFfM_P_Zcu"
   },
   "outputs": [],
   "source": [
    "# получение таблицы moscow_general из тех строк таблицы df, \n",
    "# для которых значение в столбце 'city' равно 'Moscow'\n",
    "moscow_general = df[df['city'] == 'Moscow']"
   ]
  },
  {
   "cell_type": "code",
   "execution_count": 30,
   "metadata": {
    "id": "ORaVRKto_Zcu"
   },
   "outputs": [],
   "source": [
    "# получение таблицы spb_general из тех строк таблицы df,\n",
    "# для которых значение в столбце 'city' равно 'Saint-Petersburg'\n",
    "spb_general = df[df['city'] == 'Saint-Petersburg']"
   ]
  },
  {
   "cell_type": "markdown",
   "metadata": {
    "id": "MEJV-CX2_Zcu"
   },
   "source": [
    "Создайте функцию `genre_weekday()` с четырьмя параметрами:\n",
    "* таблица (датафрейм) с данными,\n",
    "* день недели,\n",
    "* начальная временная метка в формате 'hh:mm', \n",
    "* последняя временная метка в формате 'hh:mm'.\n",
    "\n",
    "Функция должна вернуть информацию о топ-10 жанров тех треков, которые прослушивали в указанный день, в промежутке между двумя отметками времени."
   ]
  },
  {
   "cell_type": "code",
   "execution_count": 31,
   "metadata": {
    "id": "laJT9BYl_Zcu"
   },
   "outputs": [],
   "source": [
    "# Объявление функции genre_weekday() с параметрами table, day, time1, time2,\n",
    "# которая возвращает информацию о самых популярных жанрах в указанный день в\n",
    "# заданное время:\n",
    "def genre_weekday(table, day, time1, time2):\n",
    "# 1) в переменную genre_df сохраняются те строки переданного датафрейма table, для\n",
    "#    которых одновременно:\n",
    "    genre_df = table[table['day'] == day]\n",
    "#    - значение в столбце day равно значению аргумента day\n",
    "    genre_df = genre_df[genre_df['time'] > time1]\n",
    "#    - значение в столбце time больше значения аргумента time1\n",
    "    genre_df = genre_df[genre_df['time'] < time2]\n",
    "#    - значение в столбце time меньше значения аргумента time2\n",
    "#    Используйте последовательную фильтрацию с помощью логической индексации.\n",
    "# 2) сгруппировать датафрейм genre_df по столбцу genre, взять один из его\n",
    "#    столбцов и посчитать методом count() количество записей для каждого из\n",
    "#    присутствующих жанров, получившийся Series записать в переменную\n",
    "#    genre_df_count\n",
    "    genre_df_count = genre_df.groupby('genre')['genre'].count()\n",
    "    \n",
    "# 3) отсортировать genre_df_count по убыванию встречаемости и сохранить\n",
    "#    в переменную genre_df_sorte\n",
    "    genre_df_sorted = genre_df_count.sort_values(ascending = False)\n",
    "# 4) вернуть Series из 10 первых значений genre_df_sorted, это будут топ-10\n",
    "#    популярных жанров (в указанный день, в заданное время)\n",
    "    return genre_df_sorted.head(10)\n",
    "    "
   ]
  },
  {
   "cell_type": "markdown",
   "metadata": {
    "id": "la2s2_PF_Zcu"
   },
   "source": [
    "Cравните результаты функции `genre_weekday()` для Москвы и Санкт-Петербурга в понедельник утром (с 7:00 до 11:00) и в пятницу вечером (с 17:00 до 23:00):"
   ]
  },
  {
   "cell_type": "code",
   "execution_count": 32,
   "metadata": {
    "id": "yz7itPUQ_Zcu"
   },
   "outputs": [
    {
     "data": {
      "text/plain": [
       "genre\n",
       "pop            781\n",
       "dance          549\n",
       "electronic     480\n",
       "rock           474\n",
       "hiphop         286\n",
       "ruspop         186\n",
       "world          181\n",
       "rusrap         175\n",
       "alternative    164\n",
       "unknown        161\n",
       "Name: genre, dtype: int64"
      ]
     },
     "execution_count": 32,
     "metadata": {},
     "output_type": "execute_result"
    }
   ],
   "source": [
    "# вызов функции для утра понедельника в Москве (вместо df — таблица moscow_general)\n",
    "# объекты, хранящие время, являются строками и сравниваются как строки\n",
    "# пример вызова: genre_weekday(moscow_general, 'Monday', '07:00', '11:00')\n",
    "genre_weekday(moscow_general, 'Monday', '07:00', '11:00')"
   ]
  },
  {
   "cell_type": "code",
   "execution_count": 33,
   "metadata": {
    "id": "kwUcHPdy_Zcu"
   },
   "outputs": [
    {
     "data": {
      "text/plain": [
       "genre\n",
       "pop            218\n",
       "dance          182\n",
       "rock           162\n",
       "electronic     147\n",
       "hiphop          80\n",
       "ruspop          64\n",
       "alternative     58\n",
       "rusrap          55\n",
       "jazz            44\n",
       "classical       40\n",
       "Name: genre, dtype: int64"
      ]
     },
     "execution_count": 33,
     "metadata": {},
     "output_type": "execute_result"
    }
   ],
   "source": [
    "# вызов функции для утра понедельника в Петербурге (вместо df — таблица spb_general)\n",
    "genre_weekday(spb_general, 'Monday', '07:00', '11:00')"
   ]
  },
  {
   "cell_type": "code",
   "execution_count": 34,
   "metadata": {
    "id": "EzXVRE1o_Zcu"
   },
   "outputs": [
    {
     "data": {
      "text/plain": [
       "genre\n",
       "pop            713\n",
       "rock           517\n",
       "dance          495\n",
       "electronic     482\n",
       "hiphop         273\n",
       "world          208\n",
       "ruspop         170\n",
       "alternative    163\n",
       "classical      163\n",
       "rusrap         142\n",
       "Name: genre, dtype: int64"
      ]
     },
     "execution_count": 34,
     "metadata": {},
     "output_type": "execute_result"
    }
   ],
   "source": [
    "# вызов функции для вечера пятницы в Москве\n",
    "genre_weekday(moscow_general, 'Friday', '17:00', '23:00')"
   ]
  },
  {
   "cell_type": "code",
   "execution_count": 35,
   "metadata": {
    "id": "JZaEKu5v_Zcu"
   },
   "outputs": [
    {
     "data": {
      "text/plain": [
       "genre\n",
       "pop            256\n",
       "rock           216\n",
       "electronic     216\n",
       "dance          210\n",
       "hiphop          97\n",
       "alternative     63\n",
       "jazz            61\n",
       "classical       60\n",
       "rusrap          59\n",
       "world           54\n",
       "Name: genre, dtype: int64"
      ]
     },
     "execution_count": 35,
     "metadata": {},
     "output_type": "execute_result"
    }
   ],
   "source": [
    "# вызов функции для вечера пятницы в Петербурге\n",
    "genre_weekday(spb_general, 'Friday', '17:00', '23:00')"
   ]
  },
  {
   "cell_type": "markdown",
   "metadata": {
    "id": "wrCe4MNX_Zcu"
   },
   "source": [
    "**Выводы**\n",
    "\n",
    "Если сравнить топ-10 жанров в понедельник утром, можно сделать такие выводы:\n",
    "\n",
    "1. В Москве и Петербурге слушают похожую музыку. Единственное отличие — в московский рейтинг вошёл жанр “world”, а в петербургский — джаз и классика.\n",
    "\n",
    "2. В Москве пропущенных значений оказалось так много, что значение `'unknown'` заняло десятое место среди самых популярных жанров. Значит, пропущенные значения занимают существенную долю в данных и угрожают достоверности исследования.\n",
    "\n",
    "Вечер пятницы не меняет эту картину. Некоторые жанры поднимаются немного выше, другие спускаются, но в целом топ-10 остаётся тем же самым.\n",
    "\n",
    "Таким образом, вторая гипотеза подтвердилась лишь частично:\n",
    "* Пользователи слушают похожую музыку в начале недели и в конце.\n",
    "* Разница между Москвой и Петербургом не слишком выражена. В Москве чаще слушают русскую популярную музыку, в Петербурге — джаз.\n",
    "\n",
    "Однако пропуски в данных ставят под сомнение этот результат. В Москве их так много, что рейтинг топ-10 мог бы выглядеть иначе, если бы не утерянные  данные о жанрах."
   ]
  },
  {
   "cell_type": "markdown",
   "metadata": {
    "id": "JolODAqr_Zcu"
   },
   "source": [
    "### Жанровые предпочтения в Москве и Петербурге\n",
    "\n",
    "Гипотеза: Петербург — столица рэпа, музыку этого жанра там слушают чаще, чем в Москве.  А Москва — город контрастов, в котором, тем не менее, преобладает поп-музыка."
   ]
  },
  {
   "cell_type": "markdown",
   "metadata": {
    "id": "DlegSvaT_Zcu"
   },
   "source": [
    "Сгруппируйте таблицу `moscow_general` по жанру и посчитайте прослушивания треков каждого жанра методом `count()`. Затем отсортируйте результат в порядке убывания и сохраните его в таблице `moscow_genres`."
   ]
  },
  {
   "cell_type": "code",
   "execution_count": 36,
   "metadata": {
    "id": "r19lIPke_Zcu"
   },
   "outputs": [],
   "source": [
    "# одной строкой: группировка таблицы moscow_general по столбцу 'genre', \n",
    "# подсчёт числа значений 'genre' в этой группировке методом count(), \n",
    "# сортировка получившегося Series в порядке убывания и сохранение в moscow_genres\n",
    "moscow_general=moscow_general.groupby('genre')['genre'].count().sort_values(ascending = False)"
   ]
  },
  {
   "cell_type": "markdown",
   "metadata": {
    "id": "6kMuomxTiIr8"
   },
   "source": [
    "Выведите на экран первые десять строк `moscow_genres`:"
   ]
  },
  {
   "cell_type": "code",
   "execution_count": 37,
   "metadata": {
    "id": "WhCSooF8_Zcv"
   },
   "outputs": [
    {
     "data": {
      "text/plain": [
       "genre\n",
       "pop            5892\n",
       "dance          4435\n",
       "rock           3965\n",
       "electronic     3786\n",
       "hiphop         2096\n",
       "classical      1616\n",
       "world          1432\n",
       "alternative    1379\n",
       "ruspop         1372\n",
       "rusrap         1161\n",
       "Name: genre, dtype: int64"
      ]
     },
     "execution_count": 37,
     "metadata": {},
     "output_type": "execute_result"
    }
   ],
   "source": [
    "# просмотр первых 10 строк moscow_genres\n",
    "moscow_general.head(10)"
   ]
  },
  {
   "cell_type": "markdown",
   "metadata": {
    "id": "cnPG2vnN_Zcv"
   },
   "source": [
    "Теперь повторите то же и для Петербурга.\n",
    "\n",
    "Сгруппируйте таблицу `spb_general` по жанру. Посчитайте прослушивания треков каждого жанра. Результат отсортируйте в порядке убывания и сохраните в таблице `spb_genres`:\n"
   ]
  },
  {
   "cell_type": "code",
   "execution_count": 38,
   "metadata": {
    "id": "gluLIpE7_Zcv"
   },
   "outputs": [],
   "source": [
    "# одной строкой: группировка таблицы spb_general по столбцу 'genre', \n",
    "# подсчёт числа значений 'genre' в этой группировке методом count(), \n",
    "# сортировка получившегося Series в порядке убывания и сохранение в spb_genres\n",
    "spb_general=spb_general.groupby('genre')['genre'].count().sort_values(ascending = False)"
   ]
  },
  {
   "cell_type": "markdown",
   "metadata": {
    "id": "5Doha_ODgyQ8"
   },
   "source": [
    "Выведите на экран первые десять строк `spb_genres`:"
   ]
  },
  {
   "cell_type": "code",
   "execution_count": 39,
   "metadata": {
    "id": "uaGJHjVU_Zcv"
   },
   "outputs": [
    {
     "data": {
      "text/plain": [
       "genre\n",
       "pop            2431\n",
       "dance          1932\n",
       "rock           1879\n",
       "electronic     1736\n",
       "hiphop          960\n",
       "alternative     649\n",
       "classical       646\n",
       "rusrap          564\n",
       "ruspop          538\n",
       "world           515\n",
       "Name: genre, dtype: int64"
      ]
     },
     "execution_count": 39,
     "metadata": {},
     "output_type": "execute_result"
    }
   ],
   "source": [
    "# просмотр первых 10 строк spb_genres\n",
    "spb_general.head(10)"
   ]
  },
  {
   "cell_type": "markdown",
   "metadata": {
    "id": "RY51YJYu_Zcv"
   },
   "source": [
    "**Выводы**"
   ]
  },
  {
   "cell_type": "markdown",
   "metadata": {
    "id": "nVhnJEm__Zcv"
   },
   "source": [
    "Гипотеза частично подтвердилась:\n",
    "* Поп-музыка — самый популярный жанр в Москве, как и предполагала гипотеза. Более того, в топ-10 жанров встречается близкий жанр — русская популярная музыка.\n",
    "* Вопреки ожиданиям, рэп одинаково популярен в Москве и Петербурге. \n"
   ]
  },
  {
   "cell_type": "markdown",
   "metadata": {
    "id": "ykKQ0N65_Zcv"
   },
   "source": [
    "## Итоги исследования"
   ]
  },
  {
   "cell_type": "markdown",
   "metadata": {
    "id": "tjUwbHb3_Zcv"
   },
   "source": [
    "Вы проверили три гипотезы и установили:\n",
    "\n",
    "1. День недели по-разному влияет на активность пользователей в Москве и Петербурге. \n",
    "\n",
    "Первая гипотеза полностью подтвердилась.\n",
    "\n",
    "2. Музыкальные предпочтения не сильно меняются в течение недели — будь то Москва или Петербург. Небольшие различия заметны в начале недели, по понедельникам:\n",
    "* в Москве слушают музыку жанра “world”,\n",
    "* в Петербурге — джаз и классику.\n",
    "\n",
    "Таким образом, вторая гипотеза подтвердилась лишь отчасти. Этот результат мог оказаться иным, если бы не пропуски в данных.\n",
    "\n",
    "3. Во вкусах пользователей Москвы и Петербурга больше общего чем различий. Вопреки ожиданиям, предпочтения жанров в Петербурге напоминают московские.\n",
    "\n",
    "Третья гипотеза не подтвердилась. Если различия в предпочтениях и существуют, на основной массе пользователей они незаметны.\n",
    "\n",
    "**На практике исследования содержат проверки статистических гипотез.**\n",
    "Из данных одного сервиса не всегда можно сделать вывод о всех жителях города.\n",
    "Проверки статистических гипотез покажут, насколько они достоверны, исходя из имеющихся данных. \n",
    "С методами проверок гипотез вы ещё познакомитесь в следующих темах."
   ]
  },
  {
   "cell_type": "code",
   "execution_count": null,
   "metadata": {},
   "outputs": [],
   "source": []
  }
 ],
 "metadata": {
  "ExecuteTimeLog": [
   {
    "duration": 4,
    "start_time": "2021-11-22T14:12:19.907Z"
   },
   {
    "duration": 3,
    "start_time": "2021-11-22T14:12:41.743Z"
   },
   {
    "duration": 3,
    "start_time": "2021-11-22T14:12:50.713Z"
   },
   {
    "duration": 3,
    "start_time": "2021-11-22T14:13:00.406Z"
   },
   {
    "duration": 103,
    "start_time": "2021-11-22T14:14:57.286Z"
   },
   {
    "duration": 4,
    "start_time": "2021-11-22T14:17:08.543Z"
   },
   {
    "duration": 382,
    "start_time": "2021-11-22T14:21:17.091Z"
   },
   {
    "duration": 289,
    "start_time": "2021-11-22T14:21:32.058Z"
   },
   {
    "duration": 318,
    "start_time": "2021-11-22T14:21:45.829Z"
   },
   {
    "duration": 4,
    "start_time": "2021-11-22T14:23:59.180Z"
   },
   {
    "duration": 287,
    "start_time": "2021-11-22T14:25:42.774Z"
   },
   {
    "duration": 1525,
    "start_time": "2021-11-22T14:31:15.724Z"
   },
   {
    "duration": 352,
    "start_time": "2021-11-22T14:31:53.434Z"
   },
   {
    "duration": 293,
    "start_time": "2021-11-22T14:32:13.875Z"
   },
   {
    "duration": 299,
    "start_time": "2021-11-22T14:34:05.855Z"
   },
   {
    "duration": 366,
    "start_time": "2021-11-22T14:40:15.782Z"
   },
   {
    "duration": 302,
    "start_time": "2021-11-22T14:41:42.836Z"
   },
   {
    "duration": 785,
    "start_time": "2021-11-22T14:44:11.077Z"
   },
   {
    "duration": 388,
    "start_time": "2021-11-22T14:44:11.865Z"
   },
   {
    "duration": -119,
    "start_time": "2021-11-22T14:44:12.379Z"
   },
   {
    "duration": -123,
    "start_time": "2021-11-22T14:44:12.385Z"
   },
   {
    "duration": -138,
    "start_time": "2021-11-22T14:44:12.401Z"
   },
   {
    "duration": -142,
    "start_time": "2021-11-22T14:44:12.407Z"
   },
   {
    "duration": -147,
    "start_time": "2021-11-22T14:44:12.413Z"
   },
   {
    "duration": -150,
    "start_time": "2021-11-22T14:44:12.417Z"
   },
   {
    "duration": -155,
    "start_time": "2021-11-22T14:44:12.423Z"
   },
   {
    "duration": -159,
    "start_time": "2021-11-22T14:44:12.429Z"
   },
   {
    "duration": -163,
    "start_time": "2021-11-22T14:44:12.434Z"
   },
   {
    "duration": -168,
    "start_time": "2021-11-22T14:44:12.440Z"
   },
   {
    "duration": -173,
    "start_time": "2021-11-22T14:44:12.447Z"
   },
   {
    "duration": -177,
    "start_time": "2021-11-22T14:44:12.453Z"
   },
   {
    "duration": -181,
    "start_time": "2021-11-22T14:44:12.458Z"
   },
   {
    "duration": -183,
    "start_time": "2021-11-22T14:44:12.462Z"
   },
   {
    "duration": -182,
    "start_time": "2021-11-22T14:44:12.465Z"
   },
   {
    "duration": -187,
    "start_time": "2021-11-22T14:44:12.471Z"
   },
   {
    "duration": -190,
    "start_time": "2021-11-22T14:44:12.476Z"
   },
   {
    "duration": -192,
    "start_time": "2021-11-22T14:44:12.480Z"
   },
   {
    "duration": -193,
    "start_time": "2021-11-22T14:44:12.483Z"
   },
   {
    "duration": -196,
    "start_time": "2021-11-22T14:44:12.488Z"
   },
   {
    "duration": -200,
    "start_time": "2021-11-22T14:44:12.493Z"
   },
   {
    "duration": -202,
    "start_time": "2021-11-22T14:44:12.497Z"
   },
   {
    "duration": -213,
    "start_time": "2021-11-22T14:44:12.510Z"
   },
   {
    "duration": -215,
    "start_time": "2021-11-22T14:44:12.514Z"
   },
   {
    "duration": -217,
    "start_time": "2021-11-22T14:44:12.517Z"
   },
   {
    "duration": -219,
    "start_time": "2021-11-22T14:44:12.521Z"
   },
   {
    "duration": -225,
    "start_time": "2021-11-22T14:44:12.528Z"
   },
   {
    "duration": -227,
    "start_time": "2021-11-22T14:44:12.532Z"
   },
   {
    "duration": -230,
    "start_time": "2021-11-22T14:44:12.536Z"
   },
   {
    "duration": -234,
    "start_time": "2021-11-22T14:44:12.542Z"
   },
   {
    "duration": -237,
    "start_time": "2021-11-22T14:44:12.546Z"
   },
   {
    "duration": -239,
    "start_time": "2021-11-22T14:44:12.550Z"
   },
   {
    "duration": -242,
    "start_time": "2021-11-22T14:44:12.554Z"
   },
   {
    "duration": -246,
    "start_time": "2021-11-22T14:44:12.559Z"
   },
   {
    "duration": -247,
    "start_time": "2021-11-22T14:44:12.562Z"
   },
   {
    "duration": -250,
    "start_time": "2021-11-22T14:44:12.566Z"
   },
   {
    "duration": 3,
    "start_time": "2021-11-22T14:45:22.435Z"
   },
   {
    "duration": 864,
    "start_time": "2021-11-22T14:45:40.376Z"
   },
   {
    "duration": 376,
    "start_time": "2021-11-22T14:45:41.243Z"
   },
   {
    "duration": -52,
    "start_time": "2021-11-22T14:45:41.675Z"
   },
   {
    "duration": -55,
    "start_time": "2021-11-22T14:45:41.679Z"
   },
   {
    "duration": -58,
    "start_time": "2021-11-22T14:45:41.684Z"
   },
   {
    "duration": -61,
    "start_time": "2021-11-22T14:45:41.688Z"
   },
   {
    "duration": -63,
    "start_time": "2021-11-22T14:45:41.692Z"
   },
   {
    "duration": -65,
    "start_time": "2021-11-22T14:45:41.695Z"
   },
   {
    "duration": -66,
    "start_time": "2021-11-22T14:45:41.698Z"
   },
   {
    "duration": -107,
    "start_time": "2021-11-22T14:45:41.740Z"
   },
   {
    "duration": -110,
    "start_time": "2021-11-22T14:45:41.744Z"
   },
   {
    "duration": -112,
    "start_time": "2021-11-22T14:45:41.748Z"
   },
   {
    "duration": -115,
    "start_time": "2021-11-22T14:45:41.752Z"
   },
   {
    "duration": -118,
    "start_time": "2021-11-22T14:45:41.757Z"
   },
   {
    "duration": -120,
    "start_time": "2021-11-22T14:45:41.760Z"
   },
   {
    "duration": -122,
    "start_time": "2021-11-22T14:45:41.764Z"
   },
   {
    "duration": -125,
    "start_time": "2021-11-22T14:45:41.768Z"
   },
   {
    "duration": -126,
    "start_time": "2021-11-22T14:45:41.771Z"
   },
   {
    "duration": -129,
    "start_time": "2021-11-22T14:45:41.775Z"
   },
   {
    "duration": -131,
    "start_time": "2021-11-22T14:45:41.778Z"
   },
   {
    "duration": -132,
    "start_time": "2021-11-22T14:45:41.781Z"
   },
   {
    "duration": -134,
    "start_time": "2021-11-22T14:45:41.784Z"
   },
   {
    "duration": -136,
    "start_time": "2021-11-22T14:45:41.787Z"
   },
   {
    "duration": -137,
    "start_time": "2021-11-22T14:45:41.790Z"
   },
   {
    "duration": -139,
    "start_time": "2021-11-22T14:45:41.794Z"
   },
   {
    "duration": -142,
    "start_time": "2021-11-22T14:45:41.798Z"
   },
   {
    "duration": -145,
    "start_time": "2021-11-22T14:45:41.802Z"
   },
   {
    "duration": -147,
    "start_time": "2021-11-22T14:45:41.806Z"
   },
   {
    "duration": -150,
    "start_time": "2021-11-22T14:45:41.810Z"
   },
   {
    "duration": -133,
    "start_time": "2021-11-22T14:45:41.814Z"
   },
   {
    "duration": -135,
    "start_time": "2021-11-22T14:45:41.818Z"
   },
   {
    "duration": -136,
    "start_time": "2021-11-22T14:45:41.821Z"
   },
   {
    "duration": -139,
    "start_time": "2021-11-22T14:45:41.825Z"
   },
   {
    "duration": -165,
    "start_time": "2021-11-22T14:45:41.852Z"
   },
   {
    "duration": -170,
    "start_time": "2021-11-22T14:45:41.859Z"
   },
   {
    "duration": -172,
    "start_time": "2021-11-22T14:45:41.862Z"
   },
   {
    "duration": -173,
    "start_time": "2021-11-22T14:45:41.865Z"
   },
   {
    "duration": -175,
    "start_time": "2021-11-22T14:45:41.868Z"
   },
   {
    "duration": 306,
    "start_time": "2021-11-22T14:45:51.774Z"
   },
   {
    "duration": 362,
    "start_time": "2021-11-22T14:46:05.474Z"
   },
   {
    "duration": 333,
    "start_time": "2021-11-22T14:46:14.939Z"
   },
   {
    "duration": 770,
    "start_time": "2021-11-22T14:47:14.583Z"
   },
   {
    "duration": 389,
    "start_time": "2021-11-22T14:47:18.327Z"
   },
   {
    "duration": 2777,
    "start_time": "2021-11-22T14:47:34.525Z"
   },
   {
    "duration": 272,
    "start_time": "2021-11-22T14:47:37.595Z"
   },
   {
    "duration": 191,
    "start_time": "2021-11-22T14:48:36.991Z"
   },
   {
    "duration": 29,
    "start_time": "2021-11-22T14:49:01.996Z"
   },
   {
    "duration": 32,
    "start_time": "2021-11-22T14:49:15.338Z"
   },
   {
    "duration": 311,
    "start_time": "2021-11-22T14:49:28.564Z"
   },
   {
    "duration": 6,
    "start_time": "2021-11-22T14:49:42.837Z"
   },
   {
    "duration": 117,
    "start_time": "2021-11-22T14:53:16.356Z"
   },
   {
    "duration": 71,
    "start_time": "2021-11-22T14:53:22.652Z"
   },
   {
    "duration": 27,
    "start_time": "2021-11-22T14:55:50.291Z"
   },
   {
    "duration": 23,
    "start_time": "2021-11-22T14:55:57.375Z"
   },
   {
    "duration": 305,
    "start_time": "2021-11-22T14:56:18.149Z"
   },
   {
    "duration": 288,
    "start_time": "2021-11-22T14:56:21.907Z"
   },
   {
    "duration": 305,
    "start_time": "2021-11-22T14:56:23.994Z"
   },
   {
    "duration": 37,
    "start_time": "2021-11-22T14:56:35.906Z"
   },
   {
    "duration": 30,
    "start_time": "2021-11-22T14:59:18.160Z"
   },
   {
    "duration": 239,
    "start_time": "2021-11-23T06:25:40.978Z"
   },
   {
    "duration": 185,
    "start_time": "2021-11-23T06:26:36.338Z"
   },
   {
    "duration": 187,
    "start_time": "2021-11-23T06:27:57.426Z"
   },
   {
    "duration": 182,
    "start_time": "2021-11-23T06:28:16.927Z"
   },
   {
    "duration": 177,
    "start_time": "2021-11-23T06:29:00.596Z"
   },
   {
    "duration": 173,
    "start_time": "2021-11-23T06:31:22.752Z"
   },
   {
    "duration": 180,
    "start_time": "2021-11-23T06:32:09.317Z"
   },
   {
    "duration": 62,
    "start_time": "2021-11-23T06:34:29.391Z"
   },
   {
    "duration": 72,
    "start_time": "2021-11-23T06:34:38.562Z"
   },
   {
    "duration": 58,
    "start_time": "2021-11-23T06:34:45.902Z"
   },
   {
    "duration": 70,
    "start_time": "2021-11-23T06:34:53.165Z"
   },
   {
    "duration": 61,
    "start_time": "2021-11-23T06:35:06.022Z"
   },
   {
    "duration": 60,
    "start_time": "2021-11-23T06:39:19.831Z"
   },
   {
    "duration": 65,
    "start_time": "2021-11-23T06:39:34.111Z"
   },
   {
    "duration": 289,
    "start_time": "2021-11-23T06:40:15.341Z"
   },
   {
    "duration": 201,
    "start_time": "2021-11-23T06:40:51.478Z"
   },
   {
    "duration": 573,
    "start_time": "2021-11-23T06:40:58.887Z"
   },
   {
    "duration": 374,
    "start_time": "2021-11-23T06:40:59.462Z"
   },
   {
    "duration": 15,
    "start_time": "2021-11-23T06:40:59.838Z"
   },
   {
    "duration": 36,
    "start_time": "2021-11-23T06:40:59.855Z"
   },
   {
    "duration": 11,
    "start_time": "2021-11-23T06:40:59.893Z"
   },
   {
    "duration": 33,
    "start_time": "2021-11-23T06:40:59.906Z"
   },
   {
    "duration": 43,
    "start_time": "2021-11-23T06:40:59.941Z"
   },
   {
    "duration": 47,
    "start_time": "2021-11-23T06:40:59.987Z"
   },
   {
    "duration": 4839,
    "start_time": "2021-11-23T06:41:00.036Z"
   },
   {
    "duration": -159,
    "start_time": "2021-11-23T06:41:05.037Z"
   },
   {
    "duration": -167,
    "start_time": "2021-11-23T06:41:05.046Z"
   },
   {
    "duration": -172,
    "start_time": "2021-11-23T06:41:05.052Z"
   },
   {
    "duration": -203,
    "start_time": "2021-11-23T06:41:05.084Z"
   },
   {
    "duration": -210,
    "start_time": "2021-11-23T06:41:05.092Z"
   },
   {
    "duration": -215,
    "start_time": "2021-11-23T06:41:05.098Z"
   },
   {
    "duration": -218,
    "start_time": "2021-11-23T06:41:05.102Z"
   },
   {
    "duration": -226,
    "start_time": "2021-11-23T06:41:05.111Z"
   },
   {
    "duration": -229,
    "start_time": "2021-11-23T06:41:05.115Z"
   },
   {
    "duration": -232,
    "start_time": "2021-11-23T06:41:05.119Z"
   },
   {
    "duration": -247,
    "start_time": "2021-11-23T06:41:05.135Z"
   },
   {
    "duration": -251,
    "start_time": "2021-11-23T06:41:05.140Z"
   },
   {
    "duration": -254,
    "start_time": "2021-11-23T06:41:05.144Z"
   },
   {
    "duration": -260,
    "start_time": "2021-11-23T06:41:05.150Z"
   },
   {
    "duration": -263,
    "start_time": "2021-11-23T06:41:05.155Z"
   },
   {
    "duration": -268,
    "start_time": "2021-11-23T06:41:05.160Z"
   },
   {
    "duration": -271,
    "start_time": "2021-11-23T06:41:05.165Z"
   },
   {
    "duration": -275,
    "start_time": "2021-11-23T06:41:05.169Z"
   },
   {
    "duration": -279,
    "start_time": "2021-11-23T06:41:05.174Z"
   },
   {
    "duration": -283,
    "start_time": "2021-11-23T06:41:05.179Z"
   },
   {
    "duration": -286,
    "start_time": "2021-11-23T06:41:05.183Z"
   },
   {
    "duration": -289,
    "start_time": "2021-11-23T06:41:05.188Z"
   },
   {
    "duration": -293,
    "start_time": "2021-11-23T06:41:05.193Z"
   },
   {
    "duration": -296,
    "start_time": "2021-11-23T06:41:05.197Z"
   },
   {
    "duration": -300,
    "start_time": "2021-11-23T06:41:05.202Z"
   },
   {
    "duration": -304,
    "start_time": "2021-11-23T06:41:05.207Z"
   },
   {
    "duration": -307,
    "start_time": "2021-11-23T06:41:05.211Z"
   },
   {
    "duration": -309,
    "start_time": "2021-11-23T06:41:05.214Z"
   },
   {
    "duration": -313,
    "start_time": "2021-11-23T06:41:05.219Z"
   },
   {
    "duration": 3,
    "start_time": "2021-11-23T06:41:11.151Z"
   },
   {
    "duration": -37,
    "start_time": "2021-11-23T06:41:31.109Z"
   },
   {
    "duration": 15,
    "start_time": "2021-11-23T06:41:50.365Z"
   },
   {
    "duration": 17,
    "start_time": "2021-11-23T06:42:03.566Z"
   },
   {
    "duration": 17,
    "start_time": "2021-11-23T06:44:11.770Z"
   },
   {
    "duration": 16,
    "start_time": "2021-11-23T06:49:36.731Z"
   },
   {
    "duration": 26,
    "start_time": "2021-11-23T06:49:54.827Z"
   },
   {
    "duration": -27,
    "start_time": "2021-11-23T06:50:16.359Z"
   },
   {
    "duration": 5639,
    "start_time": "2021-11-23T06:50:23.503Z"
   },
   {
    "duration": 25,
    "start_time": "2021-11-23T06:50:48.942Z"
   },
   {
    "duration": 4462,
    "start_time": "2021-11-23T06:52:50.280Z"
   },
   {
    "duration": 5300,
    "start_time": "2021-11-23T06:53:05.086Z"
   },
   {
    "duration": 4834,
    "start_time": "2021-11-23T06:53:24.231Z"
   },
   {
    "duration": 4967,
    "start_time": "2021-11-23T06:54:34.437Z"
   },
   {
    "duration": 20,
    "start_time": "2021-11-23T06:55:55.325Z"
   },
   {
    "duration": 24,
    "start_time": "2021-11-23T06:56:42.185Z"
   },
   {
    "duration": 22,
    "start_time": "2021-11-23T06:59:38.311Z"
   },
   {
    "duration": 63,
    "start_time": "2021-11-23T08:30:25.395Z"
   },
   {
    "duration": 77,
    "start_time": "2021-11-23T08:31:08.299Z"
   },
   {
    "duration": 9,
    "start_time": "2021-11-23T08:32:22.866Z"
   },
   {
    "duration": 4566,
    "start_time": "2021-11-23T08:35:40.794Z"
   },
   {
    "duration": 7,
    "start_time": "2021-11-23T08:35:54.869Z"
   },
   {
    "duration": 4644,
    "start_time": "2021-11-23T08:37:34.352Z"
   },
   {
    "duration": 4854,
    "start_time": "2021-11-23T08:38:35.535Z"
   },
   {
    "duration": 5,
    "start_time": "2021-11-23T08:41:30.943Z"
   },
   {
    "duration": 11,
    "start_time": "2021-11-23T08:41:51.925Z"
   },
   {
    "duration": 194,
    "start_time": "2021-11-23T08:42:44.523Z"
   },
   {
    "duration": 185,
    "start_time": "2021-11-23T08:43:01.532Z"
   },
   {
    "duration": 189,
    "start_time": "2021-11-23T08:43:27.458Z"
   },
   {
    "duration": 61,
    "start_time": "2021-11-23T08:45:54.389Z"
   },
   {
    "duration": 9,
    "start_time": "2021-11-23T08:46:44.016Z"
   },
   {
    "duration": 196,
    "start_time": "2021-11-23T08:54:42.476Z"
   },
   {
    "duration": 186,
    "start_time": "2021-11-23T08:55:18.445Z"
   },
   {
    "duration": 64,
    "start_time": "2021-11-23T08:57:09.792Z"
   },
   {
    "duration": 189,
    "start_time": "2021-11-23T08:57:25.610Z"
   },
   {
    "duration": 4,
    "start_time": "2021-11-23T08:59:25.485Z"
   },
   {
    "duration": 3,
    "start_time": "2021-11-23T08:59:28.933Z"
   },
   {
    "duration": 3,
    "start_time": "2021-11-23T09:00:07.870Z"
   },
   {
    "duration": 200,
    "start_time": "2021-11-23T09:00:17.823Z"
   },
   {
    "duration": 5637,
    "start_time": "2021-11-23T09:00:58.714Z"
   },
   {
    "duration": 8,
    "start_time": "2021-11-23T09:02:04.776Z"
   },
   {
    "duration": 7,
    "start_time": "2021-11-23T09:07:36.852Z"
   },
   {
    "duration": 193,
    "start_time": "2021-11-23T09:11:40.227Z"
   },
   {
    "duration": 219,
    "start_time": "2021-11-23T09:12:42.405Z"
   },
   {
    "duration": 3,
    "start_time": "2021-11-23T09:13:12.697Z"
   },
   {
    "duration": 910,
    "start_time": "2021-11-23T09:13:14.922Z"
   },
   {
    "duration": 197,
    "start_time": "2021-11-23T09:13:50.725Z"
   },
   {
    "duration": 239,
    "start_time": "2021-11-23T09:15:31.862Z"
   },
   {
    "duration": 197,
    "start_time": "2021-11-23T09:16:28.909Z"
   },
   {
    "duration": 176,
    "start_time": "2021-11-23T09:17:11.857Z"
   },
   {
    "duration": 174,
    "start_time": "2021-11-23T09:17:48.187Z"
   },
   {
    "duration": 3,
    "start_time": "2021-11-23T09:17:50.592Z"
   },
   {
    "duration": 182,
    "start_time": "2021-11-23T09:17:52.828Z"
   },
   {
    "duration": 325,
    "start_time": "2021-11-23T09:19:56.241Z"
   },
   {
    "duration": 3,
    "start_time": "2021-11-23T09:20:05.480Z"
   },
   {
    "duration": 213,
    "start_time": "2021-11-23T09:20:08.544Z"
   },
   {
    "duration": 172,
    "start_time": "2021-11-23T09:20:10.397Z"
   },
   {
    "duration": 188,
    "start_time": "2021-11-23T09:21:38.521Z"
   },
   {
    "duration": 6,
    "start_time": "2021-11-23T09:29:40.692Z"
   },
   {
    "duration": 182,
    "start_time": "2021-11-23T09:29:48.677Z"
   },
   {
    "duration": 8,
    "start_time": "2021-11-23T09:29:52.857Z"
   },
   {
    "duration": 252,
    "start_time": "2021-11-23T14:19:05.372Z"
   },
   {
    "duration": 10,
    "start_time": "2021-11-23T14:19:13.192Z"
   },
   {
    "duration": 213,
    "start_time": "2021-11-23T14:21:50.575Z"
   },
   {
    "duration": 193,
    "start_time": "2021-11-23T14:22:41.844Z"
   },
   {
    "duration": 188,
    "start_time": "2021-11-23T14:23:28.845Z"
   },
   {
    "duration": 203,
    "start_time": "2021-11-23T14:23:53.998Z"
   },
   {
    "duration": 193,
    "start_time": "2021-11-23T14:23:57.523Z"
   },
   {
    "duration": 204,
    "start_time": "2021-11-23T14:24:38.232Z"
   },
   {
    "duration": 9,
    "start_time": "2021-11-23T14:29:27.605Z"
   },
   {
    "duration": 10,
    "start_time": "2021-11-23T14:29:30.771Z"
   },
   {
    "duration": 60,
    "start_time": "2021-11-23T14:46:59.346Z"
   },
   {
    "duration": 64,
    "start_time": "2021-11-23T14:47:23.987Z"
   },
   {
    "duration": 377,
    "start_time": "2021-11-23T14:47:31.358Z"
   },
   {
    "duration": 3,
    "start_time": "2021-11-23T14:47:56.864Z"
   },
   {
    "duration": 8,
    "start_time": "2021-11-23T14:58:21.227Z"
   },
   {
    "duration": 9,
    "start_time": "2021-11-23T14:59:00.159Z"
   },
   {
    "duration": 294,
    "start_time": "2021-11-23T15:00:44.490Z"
   },
   {
    "duration": 12,
    "start_time": "2021-11-23T15:01:00.915Z"
   },
   {
    "duration": 357,
    "start_time": "2021-11-24T06:56:54.530Z"
   },
   {
    "duration": 238,
    "start_time": "2021-11-24T06:57:01.523Z"
   },
   {
    "duration": 124,
    "start_time": "2021-11-24T06:57:20.341Z"
   },
   {
    "duration": 280,
    "start_time": "2021-11-24T06:57:24.920Z"
   },
   {
    "duration": 231,
    "start_time": "2021-11-24T06:59:09.835Z"
   },
   {
    "duration": 236,
    "start_time": "2021-11-24T07:00:05.516Z"
   },
   {
    "duration": 231,
    "start_time": "2021-11-24T07:01:06.956Z"
   },
   {
    "duration": 247,
    "start_time": "2021-11-24T07:02:24.005Z"
   },
   {
    "duration": 799,
    "start_time": "2021-11-24T07:02:53.920Z"
   },
   {
    "duration": 192,
    "start_time": "2021-11-24T07:02:54.722Z"
   },
   {
    "duration": 31,
    "start_time": "2021-11-24T07:02:54.918Z"
   },
   {
    "duration": 44,
    "start_time": "2021-11-24T07:02:54.953Z"
   },
   {
    "duration": 10,
    "start_time": "2021-11-24T07:02:55.000Z"
   },
   {
    "duration": 46,
    "start_time": "2021-11-24T07:02:55.012Z"
   },
   {
    "duration": 45,
    "start_time": "2021-11-24T07:02:55.061Z"
   },
   {
    "duration": 44,
    "start_time": "2021-11-24T07:02:55.109Z"
   },
   {
    "duration": 25,
    "start_time": "2021-11-24T07:02:55.159Z"
   },
   {
    "duration": 51,
    "start_time": "2021-11-24T07:02:55.188Z"
   },
   {
    "duration": 99,
    "start_time": "2021-11-24T07:02:55.242Z"
   },
   {
    "duration": 121,
    "start_time": "2021-11-24T07:02:55.344Z"
   },
   {
    "duration": 19,
    "start_time": "2021-11-24T07:02:55.468Z"
   },
   {
    "duration": 52,
    "start_time": "2021-11-24T07:02:55.490Z"
   },
   {
    "duration": 15,
    "start_time": "2021-11-24T07:02:55.545Z"
   },
   {
    "duration": 385,
    "start_time": "2021-11-24T07:02:55.562Z"
   },
   {
    "duration": -164,
    "start_time": "2021-11-24T07:02:56.115Z"
   },
   {
    "duration": -167,
    "start_time": "2021-11-24T07:02:56.120Z"
   },
   {
    "duration": -170,
    "start_time": "2021-11-24T07:02:56.125Z"
   },
   {
    "duration": -174,
    "start_time": "2021-11-24T07:02:56.132Z"
   },
   {
    "duration": -177,
    "start_time": "2021-11-24T07:02:56.137Z"
   },
   {
    "duration": -179,
    "start_time": "2021-11-24T07:02:56.141Z"
   },
   {
    "duration": -182,
    "start_time": "2021-11-24T07:02:56.146Z"
   },
   {
    "duration": -236,
    "start_time": "2021-11-24T07:02:56.202Z"
   },
   {
    "duration": -244,
    "start_time": "2021-11-24T07:02:56.212Z"
   },
   {
    "duration": -252,
    "start_time": "2021-11-24T07:02:56.223Z"
   },
   {
    "duration": -256,
    "start_time": "2021-11-24T07:02:56.229Z"
   },
   {
    "duration": -268,
    "start_time": "2021-11-24T07:02:56.243Z"
   },
   {
    "duration": -268,
    "start_time": "2021-11-24T07:02:56.246Z"
   },
   {
    "duration": -269,
    "start_time": "2021-11-24T07:02:56.249Z"
   },
   {
    "duration": -275,
    "start_time": "2021-11-24T07:02:56.257Z"
   },
   {
    "duration": -277,
    "start_time": "2021-11-24T07:02:56.261Z"
   },
   {
    "duration": -278,
    "start_time": "2021-11-24T07:02:56.264Z"
   },
   {
    "duration": -242,
    "start_time": "2021-11-24T07:02:56.270Z"
   },
   {
    "duration": -243,
    "start_time": "2021-11-24T07:02:56.274Z"
   },
   {
    "duration": -245,
    "start_time": "2021-11-24T07:02:56.278Z"
   },
   {
    "duration": -246,
    "start_time": "2021-11-24T07:02:56.281Z"
   },
   {
    "duration": -252,
    "start_time": "2021-11-24T07:02:56.289Z"
   },
   {
    "duration": 15,
    "start_time": "2021-11-24T07:03:14.110Z"
   },
   {
    "duration": 12,
    "start_time": "2021-11-24T07:03:16.211Z"
   },
   {
    "duration": 5,
    "start_time": "2021-11-24T07:03:20.455Z"
   },
   {
    "duration": 624,
    "start_time": "2021-11-24T07:03:24.867Z"
   },
   {
    "duration": -116,
    "start_time": "2021-11-24T07:03:25.610Z"
   },
   {
    "duration": 257,
    "start_time": "2021-11-24T07:03:39.152Z"
   },
   {
    "duration": 4,
    "start_time": "2021-11-24T07:03:43.829Z"
   },
   {
    "duration": 325,
    "start_time": "2021-11-24T07:03:48.516Z"
   },
   {
    "duration": 18,
    "start_time": "2021-11-24T07:06:47.261Z"
   },
   {
    "duration": 12,
    "start_time": "2021-11-24T07:06:52.388Z"
   },
   {
    "duration": 12,
    "start_time": "2021-11-24T07:06:56.499Z"
   },
   {
    "duration": 13,
    "start_time": "2021-11-24T07:07:02.941Z"
   },
   {
    "duration": 11,
    "start_time": "2021-11-24T07:07:08.407Z"
   },
   {
    "duration": 24,
    "start_time": "2021-11-24T07:08:13.704Z"
   },
   {
    "duration": 22,
    "start_time": "2021-11-24T07:08:20.457Z"
   },
   {
    "duration": 22,
    "start_time": "2021-11-24T07:08:24.986Z"
   },
   {
    "duration": 18,
    "start_time": "2021-11-24T07:08:29.901Z"
   },
   {
    "duration": 23,
    "start_time": "2021-11-24T07:08:36.447Z"
   },
   {
    "duration": 24,
    "start_time": "2021-11-24T07:08:59.635Z"
   },
   {
    "duration": 6,
    "start_time": "2021-11-24T07:09:35.450Z"
   },
   {
    "duration": 12,
    "start_time": "2021-11-24T07:09:56.963Z"
   },
   {
    "duration": 15,
    "start_time": "2021-11-24T07:10:15.285Z"
   },
   {
    "duration": 15,
    "start_time": "2021-11-24T07:10:17.384Z"
   },
   {
    "duration": 99,
    "start_time": "2021-11-24T07:47:53.229Z"
   },
   {
    "duration": 85,
    "start_time": "2021-11-24T07:48:01.325Z"
   },
   {
    "duration": 5,
    "start_time": "2021-11-24T07:48:16.702Z"
   },
   {
    "duration": 5,
    "start_time": "2021-11-24T07:48:21.681Z"
   },
   {
    "duration": 95,
    "start_time": "2021-11-24T07:51:57.000Z"
   },
   {
    "duration": 239,
    "start_time": "2021-11-24T07:52:03.547Z"
   },
   {
    "duration": 7223,
    "start_time": "2021-11-24T07:52:17.354Z"
   },
   {
    "duration": 6,
    "start_time": "2021-11-24T07:53:16.080Z"
   },
   {
    "duration": 6680,
    "start_time": "2021-11-24T07:53:20.046Z"
   },
   {
    "duration": 5,
    "start_time": "2021-11-24T07:54:42.806Z"
   },
   {
    "duration": 6,
    "start_time": "2021-11-24T07:54:53.441Z"
   },
   {
    "duration": 477,
    "start_time": "2021-11-24T07:54:57.818Z"
   },
   {
    "duration": 8,
    "start_time": "2021-11-24T07:55:37.064Z"
   },
   {
    "duration": 491,
    "start_time": "2021-11-24T07:55:40.683Z"
   },
   {
    "duration": 627,
    "start_time": "2021-11-24T07:56:15.821Z"
   },
   {
    "duration": 5,
    "start_time": "2021-11-24T07:56:25.986Z"
   },
   {
    "duration": 18,
    "start_time": "2021-11-24T07:56:28.183Z"
   },
   {
    "duration": 239,
    "start_time": "2021-11-24T07:56:51.324Z"
   },
   {
    "duration": 12,
    "start_time": "2021-11-24T07:57:35.593Z"
   },
   {
    "duration": 241,
    "start_time": "2021-11-24T07:57:38.871Z"
   },
   {
    "duration": 246,
    "start_time": "2021-11-24T07:57:41.763Z"
   },
   {
    "duration": 777,
    "start_time": "2021-11-24T07:57:49.302Z"
   },
   {
    "duration": 189,
    "start_time": "2021-11-24T07:57:50.082Z"
   },
   {
    "duration": 28,
    "start_time": "2021-11-24T07:57:50.274Z"
   },
   {
    "duration": 48,
    "start_time": "2021-11-24T07:57:50.305Z"
   },
   {
    "duration": 5,
    "start_time": "2021-11-24T07:57:50.355Z"
   },
   {
    "duration": 26,
    "start_time": "2021-11-24T07:57:50.363Z"
   },
   {
    "duration": 60,
    "start_time": "2021-11-24T07:57:50.391Z"
   },
   {
    "duration": 30,
    "start_time": "2021-11-24T07:57:50.455Z"
   },
   {
    "duration": 44,
    "start_time": "2021-11-24T07:57:50.488Z"
   },
   {
    "duration": 30,
    "start_time": "2021-11-24T07:57:50.534Z"
   },
   {
    "duration": 107,
    "start_time": "2021-11-24T07:57:50.566Z"
   },
   {
    "duration": 124,
    "start_time": "2021-11-24T07:57:50.676Z"
   },
   {
    "duration": 14,
    "start_time": "2021-11-24T07:57:50.802Z"
   },
   {
    "duration": 10,
    "start_time": "2021-11-24T07:57:50.830Z"
   },
   {
    "duration": 5,
    "start_time": "2021-11-24T07:57:50.843Z"
   },
   {
    "duration": 340,
    "start_time": "2021-11-24T07:57:50.850Z"
   },
   {
    "duration": -44,
    "start_time": "2021-11-24T07:57:51.237Z"
   },
   {
    "duration": -46,
    "start_time": "2021-11-24T07:57:51.241Z"
   },
   {
    "duration": -49,
    "start_time": "2021-11-24T07:57:51.245Z"
   },
   {
    "duration": -53,
    "start_time": "2021-11-24T07:57:51.250Z"
   },
   {
    "duration": -62,
    "start_time": "2021-11-24T07:57:51.260Z"
   },
   {
    "duration": -65,
    "start_time": "2021-11-24T07:57:51.264Z"
   },
   {
    "duration": -66,
    "start_time": "2021-11-24T07:57:51.267Z"
   },
   {
    "duration": -70,
    "start_time": "2021-11-24T07:57:51.272Z"
   },
   {
    "duration": -72,
    "start_time": "2021-11-24T07:57:51.275Z"
   },
   {
    "duration": -75,
    "start_time": "2021-11-24T07:57:51.279Z"
   },
   {
    "duration": -77,
    "start_time": "2021-11-24T07:57:51.282Z"
   },
   {
    "duration": -79,
    "start_time": "2021-11-24T07:57:51.286Z"
   },
   {
    "duration": -82,
    "start_time": "2021-11-24T07:57:51.290Z"
   },
   {
    "duration": -84,
    "start_time": "2021-11-24T07:57:51.293Z"
   },
   {
    "duration": -85,
    "start_time": "2021-11-24T07:57:51.296Z"
   },
   {
    "duration": -88,
    "start_time": "2021-11-24T07:57:51.300Z"
   },
   {
    "duration": -90,
    "start_time": "2021-11-24T07:57:51.303Z"
   },
   {
    "duration": -133,
    "start_time": "2021-11-24T07:57:51.348Z"
   },
   {
    "duration": -136,
    "start_time": "2021-11-24T07:57:51.352Z"
   },
   {
    "duration": -139,
    "start_time": "2021-11-24T07:57:51.356Z"
   },
   {
    "duration": -142,
    "start_time": "2021-11-24T07:57:51.360Z"
   },
   {
    "duration": -144,
    "start_time": "2021-11-24T07:57:51.364Z"
   },
   {
    "duration": 10,
    "start_time": "2021-11-24T07:58:00.805Z"
   },
   {
    "duration": 15,
    "start_time": "2021-11-24T07:58:03.964Z"
   },
   {
    "duration": 12,
    "start_time": "2021-11-24T07:58:05.893Z"
   },
   {
    "duration": 4,
    "start_time": "2021-11-24T07:58:08.893Z"
   },
   {
    "duration": 24,
    "start_time": "2021-11-24T07:58:10.964Z"
   },
   {
    "duration": 22,
    "start_time": "2021-11-24T07:58:12.443Z"
   },
   {
    "duration": 20,
    "start_time": "2021-11-24T07:58:13.844Z"
   },
   {
    "duration": 19,
    "start_time": "2021-11-24T07:58:16.053Z"
   },
   {
    "duration": 23,
    "start_time": "2021-11-24T07:58:17.475Z"
   },
   {
    "duration": 22,
    "start_time": "2021-11-24T07:58:19.004Z"
   },
   {
    "duration": 15,
    "start_time": "2021-11-24T07:58:24.784Z"
   },
   {
    "duration": 13,
    "start_time": "2021-11-24T07:58:26.484Z"
   },
   {
    "duration": 6,
    "start_time": "2021-11-24T07:58:30.306Z"
   },
   {
    "duration": 26,
    "start_time": "2021-11-24T07:58:37.172Z"
   },
   {
    "duration": 232,
    "start_time": "2021-11-24T07:58:39.794Z"
   },
   {
    "duration": 299,
    "start_time": "2021-11-24T07:58:51.132Z"
   },
   {
    "duration": 735,
    "start_time": "2021-11-24T07:58:58.942Z"
   },
   {
    "duration": 291,
    "start_time": "2021-11-24T07:58:59.679Z"
   },
   {
    "duration": 28,
    "start_time": "2021-11-24T07:58:59.973Z"
   },
   {
    "duration": 51,
    "start_time": "2021-11-24T07:59:00.004Z"
   },
   {
    "duration": 34,
    "start_time": "2021-11-24T07:59:00.058Z"
   },
   {
    "duration": 34,
    "start_time": "2021-11-24T07:59:00.095Z"
   },
   {
    "duration": 48,
    "start_time": "2021-11-24T07:59:00.132Z"
   },
   {
    "duration": 30,
    "start_time": "2021-11-24T07:59:00.182Z"
   },
   {
    "duration": 29,
    "start_time": "2021-11-24T07:59:00.217Z"
   },
   {
    "duration": 32,
    "start_time": "2021-11-24T07:59:00.249Z"
   },
   {
    "duration": 124,
    "start_time": "2021-11-24T07:59:00.284Z"
   },
   {
    "duration": 122,
    "start_time": "2021-11-24T07:59:00.411Z"
   },
   {
    "duration": 15,
    "start_time": "2021-11-24T07:59:00.536Z"
   },
   {
    "duration": 18,
    "start_time": "2021-11-24T07:59:00.554Z"
   },
   {
    "duration": 13,
    "start_time": "2021-11-24T07:59:00.575Z"
   },
   {
    "duration": 353,
    "start_time": "2021-11-24T07:59:00.591Z"
   },
   {
    "duration": -192,
    "start_time": "2021-11-24T07:59:01.139Z"
   },
   {
    "duration": -217,
    "start_time": "2021-11-24T07:59:01.166Z"
   },
   {
    "duration": -221,
    "start_time": "2021-11-24T07:59:01.171Z"
   },
   {
    "duration": -227,
    "start_time": "2021-11-24T07:59:01.179Z"
   },
   {
    "duration": -260,
    "start_time": "2021-11-24T07:59:01.213Z"
   },
   {
    "duration": -263,
    "start_time": "2021-11-24T07:59:01.218Z"
   },
   {
    "duration": -266,
    "start_time": "2021-11-24T07:59:01.222Z"
   },
   {
    "duration": -269,
    "start_time": "2021-11-24T07:59:01.226Z"
   },
   {
    "duration": -281,
    "start_time": "2021-11-24T07:59:01.240Z"
   },
   {
    "duration": -285,
    "start_time": "2021-11-24T07:59:01.245Z"
   },
   {
    "duration": -288,
    "start_time": "2021-11-24T07:59:01.250Z"
   },
   {
    "duration": -290,
    "start_time": "2021-11-24T07:59:01.253Z"
   },
   {
    "duration": -292,
    "start_time": "2021-11-24T07:59:01.257Z"
   },
   {
    "duration": -303,
    "start_time": "2021-11-24T07:59:01.269Z"
   },
   {
    "duration": -306,
    "start_time": "2021-11-24T07:59:01.274Z"
   },
   {
    "duration": -310,
    "start_time": "2021-11-24T07:59:01.279Z"
   },
   {
    "duration": -414,
    "start_time": "2021-11-24T07:59:01.384Z"
   },
   {
    "duration": -416,
    "start_time": "2021-11-24T07:59:01.387Z"
   },
   {
    "duration": -418,
    "start_time": "2021-11-24T07:59:01.391Z"
   },
   {
    "duration": -423,
    "start_time": "2021-11-24T07:59:01.397Z"
   },
   {
    "duration": -435,
    "start_time": "2021-11-24T07:59:01.411Z"
   },
   {
    "duration": -447,
    "start_time": "2021-11-24T07:59:01.424Z"
   },
   {
    "duration": 12,
    "start_time": "2021-11-24T07:59:08.335Z"
   },
   {
    "duration": 16,
    "start_time": "2021-11-24T07:59:11.692Z"
   },
   {
    "duration": 14,
    "start_time": "2021-11-24T07:59:13.674Z"
   },
   {
    "duration": 5,
    "start_time": "2021-11-24T07:59:17.975Z"
   },
   {
    "duration": 24,
    "start_time": "2021-11-24T07:59:22.124Z"
   },
   {
    "duration": 21,
    "start_time": "2021-11-24T07:59:25.124Z"
   },
   {
    "duration": 21,
    "start_time": "2021-11-24T07:59:26.604Z"
   },
   {
    "duration": 20,
    "start_time": "2021-11-24T07:59:28.073Z"
   },
   {
    "duration": 23,
    "start_time": "2021-11-24T07:59:30.614Z"
   },
   {
    "duration": 22,
    "start_time": "2021-11-24T07:59:32.114Z"
   },
   {
    "duration": 13,
    "start_time": "2021-11-24T07:59:34.933Z"
   },
   {
    "duration": 15,
    "start_time": "2021-11-24T07:59:43.084Z"
   },
   {
    "duration": 339,
    "start_time": "2021-11-24T08:00:05.702Z"
   },
   {
    "duration": 6,
    "start_time": "2021-11-24T08:00:20.867Z"
   },
   {
    "duration": 234,
    "start_time": "2021-11-24T08:00:25.964Z"
   },
   {
    "duration": 27,
    "start_time": "2021-11-24T08:00:27.664Z"
   },
   {
    "duration": 490,
    "start_time": "2021-11-24T08:00:29.903Z"
   },
   {
    "duration": 18,
    "start_time": "2021-11-24T08:00:41.874Z"
   },
   {
    "duration": 13,
    "start_time": "2021-11-24T08:00:43.434Z"
   },
   {
    "duration": 18,
    "start_time": "2021-11-24T08:00:47.453Z"
   },
   {
    "duration": 31,
    "start_time": "2021-11-24T08:01:08.472Z"
   },
   {
    "duration": 17,
    "start_time": "2021-11-24T08:01:17.785Z"
   },
   {
    "duration": 248,
    "start_time": "2021-11-24T08:05:17.033Z"
   },
   {
    "duration": 246,
    "start_time": "2021-11-24T08:05:32.085Z"
   },
   {
    "duration": 86,
    "start_time": "2021-11-24T08:07:28.762Z"
   },
   {
    "duration": 265,
    "start_time": "2021-11-24T08:08:20.054Z"
   },
   {
    "duration": 11,
    "start_time": "2021-11-24T08:08:34.284Z"
   },
   {
    "duration": 7,
    "start_time": "2021-11-24T08:08:38.444Z"
   },
   {
    "duration": 240,
    "start_time": "2021-11-24T08:08:51.213Z"
   },
   {
    "duration": 17,
    "start_time": "2021-11-24T08:09:07.797Z"
   },
   {
    "duration": 16,
    "start_time": "2021-11-24T08:09:39.694Z"
   },
   {
    "duration": 537,
    "start_time": "2021-11-24T13:13:06.094Z"
   },
   {
    "duration": 119,
    "start_time": "2021-11-24T13:13:06.633Z"
   },
   {
    "duration": 15,
    "start_time": "2021-11-24T13:13:06.754Z"
   },
   {
    "duration": 26,
    "start_time": "2021-11-24T13:13:06.771Z"
   },
   {
    "duration": 3,
    "start_time": "2021-11-24T13:13:06.799Z"
   },
   {
    "duration": 16,
    "start_time": "2021-11-24T13:13:06.804Z"
   },
   {
    "duration": 20,
    "start_time": "2021-11-24T13:13:06.821Z"
   },
   {
    "duration": 19,
    "start_time": "2021-11-24T13:13:06.843Z"
   },
   {
    "duration": 37,
    "start_time": "2021-11-24T13:13:06.864Z"
   },
   {
    "duration": 19,
    "start_time": "2021-11-24T13:13:06.902Z"
   },
   {
    "duration": 65,
    "start_time": "2021-11-24T13:13:06.923Z"
   },
   {
    "duration": 64,
    "start_time": "2021-11-24T13:13:06.990Z"
   },
   {
    "duration": 8,
    "start_time": "2021-11-24T13:13:07.055Z"
   },
   {
    "duration": 24,
    "start_time": "2021-11-24T13:13:07.064Z"
   },
   {
    "duration": 3,
    "start_time": "2021-11-24T13:13:07.089Z"
   },
   {
    "duration": 296,
    "start_time": "2021-11-24T13:13:07.093Z"
   },
   {
    "duration": -66,
    "start_time": "2021-11-24T13:13:07.457Z"
   },
   {
    "duration": -69,
    "start_time": "2021-11-24T13:13:07.461Z"
   },
   {
    "duration": -71,
    "start_time": "2021-11-24T13:13:07.464Z"
   },
   {
    "duration": -72,
    "start_time": "2021-11-24T13:13:07.466Z"
   },
   {
    "duration": -73,
    "start_time": "2021-11-24T13:13:07.468Z"
   },
   {
    "duration": -74,
    "start_time": "2021-11-24T13:13:07.470Z"
   },
   {
    "duration": -75,
    "start_time": "2021-11-24T13:13:07.472Z"
   },
   {
    "duration": -75,
    "start_time": "2021-11-24T13:13:07.474Z"
   },
   {
    "duration": -76,
    "start_time": "2021-11-24T13:13:07.476Z"
   },
   {
    "duration": -82,
    "start_time": "2021-11-24T13:13:07.483Z"
   },
   {
    "duration": -84,
    "start_time": "2021-11-24T13:13:07.485Z"
   },
   {
    "duration": -85,
    "start_time": "2021-11-24T13:13:07.488Z"
   },
   {
    "duration": -87,
    "start_time": "2021-11-24T13:13:07.490Z"
   },
   {
    "duration": -88,
    "start_time": "2021-11-24T13:13:07.492Z"
   },
   {
    "duration": -89,
    "start_time": "2021-11-24T13:13:07.494Z"
   },
   {
    "duration": -90,
    "start_time": "2021-11-24T13:13:07.496Z"
   },
   {
    "duration": -91,
    "start_time": "2021-11-24T13:13:07.498Z"
   },
   {
    "duration": -92,
    "start_time": "2021-11-24T13:13:07.500Z"
   },
   {
    "duration": -92,
    "start_time": "2021-11-24T13:13:07.501Z"
   },
   {
    "duration": -94,
    "start_time": "2021-11-24T13:13:07.504Z"
   },
   {
    "duration": -95,
    "start_time": "2021-11-24T13:13:07.506Z"
   },
   {
    "duration": -96,
    "start_time": "2021-11-24T13:13:07.508Z"
   },
   {
    "duration": 374,
    "start_time": "2021-11-25T07:11:07.901Z"
   },
   {
    "duration": 263,
    "start_time": "2021-11-25T07:11:11.858Z"
   },
   {
    "duration": 260,
    "start_time": "2021-11-25T07:11:40.746Z"
   },
   {
    "duration": 284,
    "start_time": "2021-11-25T07:11:44.132Z"
   },
   {
    "duration": 542,
    "start_time": "2021-11-25T07:12:04.864Z"
   },
   {
    "duration": 1075,
    "start_time": "2021-11-25T07:12:15.119Z"
   },
   {
    "duration": 184,
    "start_time": "2021-11-25T07:12:16.196Z"
   },
   {
    "duration": 25,
    "start_time": "2021-11-25T07:12:16.382Z"
   },
   {
    "duration": 49,
    "start_time": "2021-11-25T07:12:16.410Z"
   },
   {
    "duration": 14,
    "start_time": "2021-11-25T07:12:16.461Z"
   },
   {
    "duration": 48,
    "start_time": "2021-11-25T07:12:16.477Z"
   },
   {
    "duration": 43,
    "start_time": "2021-11-25T07:12:16.528Z"
   },
   {
    "duration": 46,
    "start_time": "2021-11-25T07:12:16.575Z"
   },
   {
    "duration": 31,
    "start_time": "2021-11-25T07:12:16.624Z"
   },
   {
    "duration": 46,
    "start_time": "2021-11-25T07:12:16.658Z"
   },
   {
    "duration": 97,
    "start_time": "2021-11-25T07:12:16.706Z"
   },
   {
    "duration": 120,
    "start_time": "2021-11-25T07:12:16.805Z"
   },
   {
    "duration": 14,
    "start_time": "2021-11-25T07:12:16.927Z"
   },
   {
    "duration": 34,
    "start_time": "2021-11-25T07:12:16.943Z"
   },
   {
    "duration": 6,
    "start_time": "2021-11-25T07:12:16.980Z"
   },
   {
    "duration": 887,
    "start_time": "2021-11-25T07:12:16.989Z"
   },
   {
    "duration": -20,
    "start_time": "2021-11-25T07:12:17.901Z"
   },
   {
    "duration": -45,
    "start_time": "2021-11-25T07:12:17.928Z"
   },
   {
    "duration": -53,
    "start_time": "2021-11-25T07:12:17.938Z"
   },
   {
    "duration": -60,
    "start_time": "2021-11-25T07:12:17.947Z"
   },
   {
    "duration": -70,
    "start_time": "2021-11-25T07:12:17.959Z"
   },
   {
    "duration": -73,
    "start_time": "2021-11-25T07:12:17.965Z"
   },
   {
    "duration": -77,
    "start_time": "2021-11-25T07:12:17.971Z"
   },
   {
    "duration": -81,
    "start_time": "2021-11-25T07:12:17.977Z"
   },
   {
    "duration": -84,
    "start_time": "2021-11-25T07:12:17.982Z"
   },
   {
    "duration": -86,
    "start_time": "2021-11-25T07:12:17.987Z"
   },
   {
    "duration": -101,
    "start_time": "2021-11-25T07:12:18.004Z"
   },
   {
    "duration": -105,
    "start_time": "2021-11-25T07:12:18.010Z"
   },
   {
    "duration": -107,
    "start_time": "2021-11-25T07:12:18.014Z"
   },
   {
    "duration": -111,
    "start_time": "2021-11-25T07:12:18.020Z"
   },
   {
    "duration": -124,
    "start_time": "2021-11-25T07:12:18.035Z"
   },
   {
    "duration": -129,
    "start_time": "2021-11-25T07:12:18.042Z"
   },
   {
    "duration": -136,
    "start_time": "2021-11-25T07:12:18.051Z"
   },
   {
    "duration": -142,
    "start_time": "2021-11-25T07:12:18.059Z"
   },
   {
    "duration": -154,
    "start_time": "2021-11-25T07:12:18.073Z"
   },
   {
    "duration": -157,
    "start_time": "2021-11-25T07:12:18.078Z"
   },
   {
    "duration": -161,
    "start_time": "2021-11-25T07:12:18.083Z"
   },
   {
    "duration": -167,
    "start_time": "2021-11-25T07:12:18.090Z"
   },
   {
    "duration": 288,
    "start_time": "2021-11-25T07:13:20.441Z"
   },
   {
    "duration": 82,
    "start_time": "2021-11-25T07:13:27.249Z"
   },
   {
    "duration": 9,
    "start_time": "2021-11-25T07:14:01.209Z"
   },
   {
    "duration": 4,
    "start_time": "2021-11-25T07:14:05.245Z"
   },
   {
    "duration": 5,
    "start_time": "2021-11-25T07:14:28.237Z"
   },
   {
    "duration": 256,
    "start_time": "2021-11-25T07:17:24.428Z"
   },
   {
    "duration": 4,
    "start_time": "2021-11-25T07:17:26.869Z"
   },
   {
    "duration": 329,
    "start_time": "2021-11-25T07:17:29.685Z"
   },
   {
    "duration": 5,
    "start_time": "2021-11-25T07:17:55.333Z"
   },
   {
    "duration": 266,
    "start_time": "2021-11-25T07:17:59.239Z"
   },
   {
    "duration": 249,
    "start_time": "2021-11-25T07:19:31.476Z"
   },
   {
    "duration": 5,
    "start_time": "2021-11-25T07:21:51.192Z"
   },
   {
    "duration": 278,
    "start_time": "2021-11-25T07:21:55.890Z"
   },
   {
    "duration": 247,
    "start_time": "2021-11-25T07:24:37.072Z"
   },
   {
    "duration": 5,
    "start_time": "2021-11-25T07:24:42.185Z"
   },
   {
    "duration": 765,
    "start_time": "2021-11-25T07:28:39.608Z"
   },
   {
    "duration": 190,
    "start_time": "2021-11-25T07:28:40.376Z"
   },
   {
    "duration": 25,
    "start_time": "2021-11-25T07:28:40.569Z"
   },
   {
    "duration": 56,
    "start_time": "2021-11-25T07:28:40.597Z"
   },
   {
    "duration": 15,
    "start_time": "2021-11-25T07:28:40.655Z"
   },
   {
    "duration": 39,
    "start_time": "2021-11-25T07:28:40.673Z"
   },
   {
    "duration": 35,
    "start_time": "2021-11-25T07:28:40.714Z"
   },
   {
    "duration": 46,
    "start_time": "2021-11-25T07:28:40.753Z"
   },
   {
    "duration": 51,
    "start_time": "2021-11-25T07:28:40.803Z"
   },
   {
    "duration": 29,
    "start_time": "2021-11-25T07:28:40.857Z"
   },
   {
    "duration": 107,
    "start_time": "2021-11-25T07:28:40.888Z"
   },
   {
    "duration": 125,
    "start_time": "2021-11-25T07:28:40.998Z"
   },
   {
    "duration": 79,
    "start_time": "2021-11-25T07:28:41.126Z"
   },
   {
    "duration": 22,
    "start_time": "2021-11-25T07:28:41.208Z"
   },
   {
    "duration": 4,
    "start_time": "2021-11-25T07:28:41.232Z"
   },
   {
    "duration": 455,
    "start_time": "2021-11-25T07:28:41.238Z"
   },
   {
    "duration": -37,
    "start_time": "2021-11-25T07:28:41.734Z"
   },
   {
    "duration": -49,
    "start_time": "2021-11-25T07:28:41.748Z"
   },
   {
    "duration": -54,
    "start_time": "2021-11-25T07:28:41.755Z"
   },
   {
    "duration": -56,
    "start_time": "2021-11-25T07:28:41.760Z"
   },
   {
    "duration": -59,
    "start_time": "2021-11-25T07:28:41.765Z"
   },
   {
    "duration": -62,
    "start_time": "2021-11-25T07:28:41.770Z"
   },
   {
    "duration": -64,
    "start_time": "2021-11-25T07:28:41.774Z"
   },
   {
    "duration": -66,
    "start_time": "2021-11-25T07:28:41.779Z"
   },
   {
    "duration": -68,
    "start_time": "2021-11-25T07:28:41.783Z"
   },
   {
    "duration": -71,
    "start_time": "2021-11-25T07:28:41.788Z"
   },
   {
    "duration": -73,
    "start_time": "2021-11-25T07:28:41.792Z"
   },
   {
    "duration": -74,
    "start_time": "2021-11-25T07:28:41.796Z"
   },
   {
    "duration": -76,
    "start_time": "2021-11-25T07:28:41.800Z"
   },
   {
    "duration": -79,
    "start_time": "2021-11-25T07:28:41.805Z"
   },
   {
    "duration": -82,
    "start_time": "2021-11-25T07:28:41.810Z"
   },
   {
    "duration": -83,
    "start_time": "2021-11-25T07:28:41.814Z"
   },
   {
    "duration": -85,
    "start_time": "2021-11-25T07:28:41.818Z"
   },
   {
    "duration": -87,
    "start_time": "2021-11-25T07:28:41.822Z"
   },
   {
    "duration": -88,
    "start_time": "2021-11-25T07:28:41.825Z"
   },
   {
    "duration": -100,
    "start_time": "2021-11-25T07:28:41.839Z"
   },
   {
    "duration": -104,
    "start_time": "2021-11-25T07:28:41.844Z"
   },
   {
    "duration": -106,
    "start_time": "2021-11-25T07:28:41.848Z"
   },
   {
    "duration": 4,
    "start_time": "2021-11-25T07:28:58.557Z"
   },
   {
    "duration": 283,
    "start_time": "2021-11-25T07:29:03.254Z"
   },
   {
    "duration": 251,
    "start_time": "2021-11-25T07:34:08.525Z"
   },
   {
    "duration": 4,
    "start_time": "2021-11-25T07:34:12.862Z"
   },
   {
    "duration": 254,
    "start_time": "2021-11-25T07:34:16.832Z"
   },
   {
    "duration": 3,
    "start_time": "2021-11-25T07:34:32.696Z"
   },
   {
    "duration": 4,
    "start_time": "2021-11-25T07:34:37.785Z"
   },
   {
    "duration": 428,
    "start_time": "2021-11-25T07:34:43.499Z"
   },
   {
    "duration": 4,
    "start_time": "2021-11-25T07:35:44.191Z"
   },
   {
    "duration": 295,
    "start_time": "2021-11-25T07:35:46.716Z"
   },
   {
    "duration": 5,
    "start_time": "2021-11-25T07:36:03.683Z"
   },
   {
    "duration": -75,
    "start_time": "2021-11-25T07:36:27.992Z"
   },
   {
    "duration": -96,
    "start_time": "2021-11-25T07:36:28.015Z"
   },
   {
    "duration": -100,
    "start_time": "2021-11-25T07:36:28.020Z"
   },
   {
    "duration": -100,
    "start_time": "2021-11-25T07:36:28.029Z"
   },
   {
    "duration": -104,
    "start_time": "2021-11-25T07:36:28.034Z"
   },
   {
    "duration": -105,
    "start_time": "2021-11-25T07:36:28.037Z"
   },
   {
    "duration": -109,
    "start_time": "2021-11-25T07:36:28.043Z"
   },
   {
    "duration": -113,
    "start_time": "2021-11-25T07:36:28.048Z"
   },
   {
    "duration": -116,
    "start_time": "2021-11-25T07:36:28.053Z"
   },
   {
    "duration": -119,
    "start_time": "2021-11-25T07:36:28.057Z"
   },
   {
    "duration": -121,
    "start_time": "2021-11-25T07:36:28.061Z"
   },
   {
    "duration": -131,
    "start_time": "2021-11-25T07:36:28.072Z"
   },
   {
    "duration": -134,
    "start_time": "2021-11-25T07:36:28.077Z"
   },
   {
    "duration": -138,
    "start_time": "2021-11-25T07:36:28.082Z"
   },
   {
    "duration": -141,
    "start_time": "2021-11-25T07:36:28.087Z"
   },
   {
    "duration": -143,
    "start_time": "2021-11-25T07:36:28.091Z"
   },
   {
    "duration": -147,
    "start_time": "2021-11-25T07:36:28.096Z"
   },
   {
    "duration": -151,
    "start_time": "2021-11-25T07:36:28.101Z"
   },
   {
    "duration": -154,
    "start_time": "2021-11-25T07:36:28.105Z"
   },
   {
    "duration": -156,
    "start_time": "2021-11-25T07:36:28.109Z"
   },
   {
    "duration": -160,
    "start_time": "2021-11-25T07:36:28.115Z"
   },
   {
    "duration": -162,
    "start_time": "2021-11-25T07:36:28.119Z"
   },
   {
    "duration": -166,
    "start_time": "2021-11-25T07:36:28.124Z"
   },
   {
    "duration": -169,
    "start_time": "2021-11-25T07:36:28.129Z"
   },
   {
    "duration": -173,
    "start_time": "2021-11-25T07:36:28.134Z"
   },
   {
    "duration": -178,
    "start_time": "2021-11-25T07:36:28.140Z"
   },
   {
    "duration": -182,
    "start_time": "2021-11-25T07:36:28.146Z"
   },
   {
    "duration": -184,
    "start_time": "2021-11-25T07:36:28.150Z"
   },
   {
    "duration": -126,
    "start_time": "2021-11-25T07:36:28.156Z"
   },
   {
    "duration": -130,
    "start_time": "2021-11-25T07:36:28.161Z"
   },
   {
    "duration": -134,
    "start_time": "2021-11-25T07:36:28.166Z"
   },
   {
    "duration": -137,
    "start_time": "2021-11-25T07:36:28.171Z"
   },
   {
    "duration": -153,
    "start_time": "2021-11-25T07:36:28.188Z"
   },
   {
    "duration": -162,
    "start_time": "2021-11-25T07:36:28.199Z"
   },
   {
    "duration": -168,
    "start_time": "2021-11-25T07:36:28.206Z"
   },
   {
    "duration": -172,
    "start_time": "2021-11-25T07:36:28.211Z"
   },
   {
    "duration": -174,
    "start_time": "2021-11-25T07:36:28.215Z"
   },
   {
    "duration": -178,
    "start_time": "2021-11-25T07:36:28.220Z"
   },
   {
    "duration": 267,
    "start_time": "2021-11-25T07:37:24.656Z"
   },
   {
    "duration": 743,
    "start_time": "2021-11-25T07:37:33.114Z"
   },
   {
    "duration": 184,
    "start_time": "2021-11-25T07:37:33.859Z"
   },
   {
    "duration": 25,
    "start_time": "2021-11-25T07:37:34.046Z"
   },
   {
    "duration": 69,
    "start_time": "2021-11-25T07:37:34.074Z"
   },
   {
    "duration": 32,
    "start_time": "2021-11-25T07:37:34.145Z"
   },
   {
    "duration": 31,
    "start_time": "2021-11-25T07:37:34.179Z"
   },
   {
    "duration": 74,
    "start_time": "2021-11-25T07:37:34.212Z"
   },
   {
    "duration": 38,
    "start_time": "2021-11-25T07:37:34.289Z"
   },
   {
    "duration": 46,
    "start_time": "2021-11-25T07:37:34.330Z"
   },
   {
    "duration": 38,
    "start_time": "2021-11-25T07:37:34.379Z"
   },
   {
    "duration": 84,
    "start_time": "2021-11-25T07:37:34.420Z"
   },
   {
    "duration": 111,
    "start_time": "2021-11-25T07:37:34.506Z"
   },
   {
    "duration": 85,
    "start_time": "2021-11-25T07:37:34.619Z"
   },
   {
    "duration": 23,
    "start_time": "2021-11-25T07:37:34.706Z"
   },
   {
    "duration": 19,
    "start_time": "2021-11-25T07:37:34.731Z"
   },
   {
    "duration": 371,
    "start_time": "2021-11-25T07:37:34.752Z"
   },
   {
    "duration": -89,
    "start_time": "2021-11-25T07:37:35.215Z"
   },
   {
    "duration": -97,
    "start_time": "2021-11-25T07:37:35.225Z"
   },
   {
    "duration": -102,
    "start_time": "2021-11-25T07:37:35.231Z"
   },
   {
    "duration": -132,
    "start_time": "2021-11-25T07:37:35.263Z"
   },
   {
    "duration": -141,
    "start_time": "2021-11-25T07:37:35.273Z"
   },
   {
    "duration": -145,
    "start_time": "2021-11-25T07:37:35.278Z"
   },
   {
    "duration": -149,
    "start_time": "2021-11-25T07:37:35.283Z"
   },
   {
    "duration": -168,
    "start_time": "2021-11-25T07:37:35.303Z"
   },
   {
    "duration": -172,
    "start_time": "2021-11-25T07:37:35.309Z"
   },
   {
    "duration": -175,
    "start_time": "2021-11-25T07:37:35.313Z"
   },
   {
    "duration": -192,
    "start_time": "2021-11-25T07:37:35.331Z"
   },
   {
    "duration": -197,
    "start_time": "2021-11-25T07:37:35.337Z"
   },
   {
    "duration": -202,
    "start_time": "2021-11-25T07:37:35.343Z"
   },
   {
    "duration": -205,
    "start_time": "2021-11-25T07:37:35.347Z"
   },
   {
    "duration": -222,
    "start_time": "2021-11-25T07:37:35.366Z"
   },
   {
    "duration": -227,
    "start_time": "2021-11-25T07:37:35.372Z"
   },
   {
    "duration": -231,
    "start_time": "2021-11-25T07:37:35.377Z"
   },
   {
    "duration": -234,
    "start_time": "2021-11-25T07:37:35.381Z"
   },
   {
    "duration": -251,
    "start_time": "2021-11-25T07:37:35.399Z"
   },
   {
    "duration": -257,
    "start_time": "2021-11-25T07:37:35.406Z"
   },
   {
    "duration": -271,
    "start_time": "2021-11-25T07:37:35.422Z"
   },
   {
    "duration": -286,
    "start_time": "2021-11-25T07:37:35.438Z"
   },
   {
    "duration": 4,
    "start_time": "2021-11-25T07:37:54.482Z"
   },
   {
    "duration": 281,
    "start_time": "2021-11-25T07:37:57.074Z"
   },
   {
    "duration": 775,
    "start_time": "2021-11-25T07:45:10.025Z"
   },
   {
    "duration": 182,
    "start_time": "2021-11-25T07:45:10.802Z"
   },
   {
    "duration": 25,
    "start_time": "2021-11-25T07:45:10.987Z"
   },
   {
    "duration": 46,
    "start_time": "2021-11-25T07:45:11.014Z"
   },
   {
    "duration": 11,
    "start_time": "2021-11-25T07:45:11.062Z"
   },
   {
    "duration": 39,
    "start_time": "2021-11-25T07:45:11.076Z"
   },
   {
    "duration": 61,
    "start_time": "2021-11-25T07:45:11.117Z"
   },
   {
    "duration": 56,
    "start_time": "2021-11-25T07:45:11.182Z"
   },
   {
    "duration": 35,
    "start_time": "2021-11-25T07:45:11.241Z"
   },
   {
    "duration": 38,
    "start_time": "2021-11-25T07:45:11.279Z"
   },
   {
    "duration": 93,
    "start_time": "2021-11-25T07:45:11.319Z"
   },
   {
    "duration": 118,
    "start_time": "2021-11-25T07:45:11.414Z"
   },
   {
    "duration": 95,
    "start_time": "2021-11-25T07:45:11.535Z"
   },
   {
    "duration": 10,
    "start_time": "2021-11-25T07:45:11.633Z"
   },
   {
    "duration": 25,
    "start_time": "2021-11-25T07:45:11.645Z"
   },
   {
    "duration": 410,
    "start_time": "2021-11-25T07:45:11.672Z"
   },
   {
    "duration": -66,
    "start_time": "2021-11-25T07:45:12.151Z"
   },
   {
    "duration": -73,
    "start_time": "2021-11-25T07:45:12.159Z"
   },
   {
    "duration": -80,
    "start_time": "2021-11-25T07:45:12.168Z"
   },
   {
    "duration": -87,
    "start_time": "2021-11-25T07:45:12.176Z"
   },
   {
    "duration": -92,
    "start_time": "2021-11-25T07:45:12.182Z"
   },
   {
    "duration": -97,
    "start_time": "2021-11-25T07:45:12.189Z"
   },
   {
    "duration": -116,
    "start_time": "2021-11-25T07:45:12.209Z"
   },
   {
    "duration": -121,
    "start_time": "2021-11-25T07:45:12.216Z"
   },
   {
    "duration": -147,
    "start_time": "2021-11-25T07:45:12.243Z"
   },
   {
    "duration": -150,
    "start_time": "2021-11-25T07:45:12.248Z"
   },
   {
    "duration": -169,
    "start_time": "2021-11-25T07:45:12.268Z"
   },
   {
    "duration": -185,
    "start_time": "2021-11-25T07:45:12.286Z"
   },
   {
    "duration": -200,
    "start_time": "2021-11-25T07:45:12.302Z"
   },
   {
    "duration": -213,
    "start_time": "2021-11-25T07:45:12.317Z"
   },
   {
    "duration": -237,
    "start_time": "2021-11-25T07:45:12.342Z"
   },
   {
    "duration": -255,
    "start_time": "2021-11-25T07:45:12.361Z"
   },
   {
    "duration": -261,
    "start_time": "2021-11-25T07:45:12.369Z"
   },
   {
    "duration": -279,
    "start_time": "2021-11-25T07:45:12.388Z"
   },
   {
    "duration": -296,
    "start_time": "2021-11-25T07:45:12.407Z"
   },
   {
    "duration": -300,
    "start_time": "2021-11-25T07:45:12.412Z"
   },
   {
    "duration": -305,
    "start_time": "2021-11-25T07:45:12.419Z"
   },
   {
    "duration": -319,
    "start_time": "2021-11-25T07:45:12.435Z"
   },
   {
    "duration": 795,
    "start_time": "2021-11-25T07:49:31.144Z"
   },
   {
    "duration": 201,
    "start_time": "2021-11-25T07:49:31.942Z"
   },
   {
    "duration": 28,
    "start_time": "2021-11-25T07:49:32.147Z"
   },
   {
    "duration": 57,
    "start_time": "2021-11-25T07:49:32.178Z"
   },
   {
    "duration": 11,
    "start_time": "2021-11-25T07:49:32.238Z"
   },
   {
    "duration": 57,
    "start_time": "2021-11-25T07:49:32.251Z"
   },
   {
    "duration": 66,
    "start_time": "2021-11-25T07:49:32.311Z"
   },
   {
    "duration": 49,
    "start_time": "2021-11-25T07:49:32.381Z"
   },
   {
    "duration": 42,
    "start_time": "2021-11-25T07:49:32.433Z"
   },
   {
    "duration": 31,
    "start_time": "2021-11-25T07:49:32.478Z"
   },
   {
    "duration": 103,
    "start_time": "2021-11-25T07:49:32.511Z"
   },
   {
    "duration": 114,
    "start_time": "2021-11-25T07:49:32.617Z"
   },
   {
    "duration": 97,
    "start_time": "2021-11-25T07:49:32.733Z"
   },
   {
    "duration": 9,
    "start_time": "2021-11-25T07:49:32.833Z"
   },
   {
    "duration": 23,
    "start_time": "2021-11-25T07:49:32.844Z"
   },
   {
    "duration": 395,
    "start_time": "2021-11-25T07:49:32.871Z"
   },
   {
    "duration": -90,
    "start_time": "2021-11-25T07:49:33.359Z"
   },
   {
    "duration": -117,
    "start_time": "2021-11-25T07:49:33.388Z"
   },
   {
    "duration": -133,
    "start_time": "2021-11-25T07:49:33.406Z"
   },
   {
    "duration": -145,
    "start_time": "2021-11-25T07:49:33.419Z"
   },
   {
    "duration": -151,
    "start_time": "2021-11-25T07:49:33.427Z"
   },
   {
    "duration": -163,
    "start_time": "2021-11-25T07:49:33.440Z"
   },
   {
    "duration": -170,
    "start_time": "2021-11-25T07:49:33.449Z"
   },
   {
    "duration": -173,
    "start_time": "2021-11-25T07:49:33.453Z"
   },
   {
    "duration": -179,
    "start_time": "2021-11-25T07:49:33.461Z"
   },
   {
    "duration": -183,
    "start_time": "2021-11-25T07:49:33.466Z"
   },
   {
    "duration": -188,
    "start_time": "2021-11-25T07:49:33.473Z"
   },
   {
    "duration": -194,
    "start_time": "2021-11-25T07:49:33.480Z"
   },
   {
    "duration": -198,
    "start_time": "2021-11-25T07:49:33.485Z"
   },
   {
    "duration": -204,
    "start_time": "2021-11-25T07:49:33.493Z"
   },
   {
    "duration": -208,
    "start_time": "2021-11-25T07:49:33.498Z"
   },
   {
    "duration": -212,
    "start_time": "2021-11-25T07:49:33.504Z"
   },
   {
    "duration": -219,
    "start_time": "2021-11-25T07:49:33.512Z"
   },
   {
    "duration": -222,
    "start_time": "2021-11-25T07:49:33.517Z"
   },
   {
    "duration": -227,
    "start_time": "2021-11-25T07:49:33.523Z"
   },
   {
    "duration": -230,
    "start_time": "2021-11-25T07:49:33.528Z"
   },
   {
    "duration": -234,
    "start_time": "2021-11-25T07:49:33.533Z"
   },
   {
    "duration": -237,
    "start_time": "2021-11-25T07:49:33.538Z"
   },
   {
    "duration": 96,
    "start_time": "2021-11-25T07:52:02.926Z"
   },
   {
    "duration": 140,
    "start_time": "2021-11-25T07:52:11.260Z"
   },
   {
    "duration": 100,
    "start_time": "2021-11-25T07:52:29.817Z"
   },
   {
    "duration": 34,
    "start_time": "2021-11-25T07:58:00.629Z"
   },
   {
    "duration": 87,
    "start_time": "2021-11-25T07:58:51.260Z"
   },
   {
    "duration": 117,
    "start_time": "2021-11-25T07:59:18.756Z"
   },
   {
    "duration": 84,
    "start_time": "2021-11-25T07:59:25.536Z"
   },
   {
    "duration": 91,
    "start_time": "2021-11-25T07:59:27.451Z"
   },
   {
    "duration": 34,
    "start_time": "2021-11-25T07:59:35.044Z"
   },
   {
    "duration": 754,
    "start_time": "2021-11-25T07:59:48.055Z"
   },
   {
    "duration": 196,
    "start_time": "2021-11-25T07:59:48.813Z"
   },
   {
    "duration": 32,
    "start_time": "2021-11-25T07:59:49.012Z"
   },
   {
    "duration": 54,
    "start_time": "2021-11-25T07:59:49.051Z"
   },
   {
    "duration": 71,
    "start_time": "2021-11-25T07:59:49.108Z"
   },
   {
    "duration": 6,
    "start_time": "2021-11-25T07:59:49.181Z"
   },
   {
    "duration": 56,
    "start_time": "2021-11-25T07:59:49.190Z"
   },
   {
    "duration": 31,
    "start_time": "2021-11-25T07:59:49.250Z"
   },
   {
    "duration": 54,
    "start_time": "2021-11-25T07:59:49.285Z"
   },
   {
    "duration": 36,
    "start_time": "2021-11-25T07:59:49.342Z"
   },
   {
    "duration": 64,
    "start_time": "2021-11-25T07:59:49.381Z"
   },
   {
    "duration": 107,
    "start_time": "2021-11-25T07:59:49.449Z"
   },
   {
    "duration": 127,
    "start_time": "2021-11-25T07:59:49.559Z"
   },
   {
    "duration": 97,
    "start_time": "2021-11-25T07:59:49.689Z"
   },
   {
    "duration": 11,
    "start_time": "2021-11-25T07:59:49.789Z"
   },
   {
    "duration": 26,
    "start_time": "2021-11-25T07:59:49.803Z"
   },
   {
    "duration": 387,
    "start_time": "2021-11-25T07:59:49.833Z"
   },
   {
    "duration": -90,
    "start_time": "2021-11-25T07:59:50.315Z"
   },
   {
    "duration": -99,
    "start_time": "2021-11-25T07:59:50.325Z"
   },
   {
    "duration": -102,
    "start_time": "2021-11-25T07:59:50.330Z"
   },
   {
    "duration": -116,
    "start_time": "2021-11-25T07:59:50.346Z"
   },
   {
    "duration": -126,
    "start_time": "2021-11-25T07:59:50.358Z"
   },
   {
    "duration": -132,
    "start_time": "2021-11-25T07:59:50.365Z"
   },
   {
    "duration": -134,
    "start_time": "2021-11-25T07:59:50.369Z"
   },
   {
    "duration": -141,
    "start_time": "2021-11-25T07:59:50.377Z"
   },
   {
    "duration": -149,
    "start_time": "2021-11-25T07:59:50.387Z"
   },
   {
    "duration": -151,
    "start_time": "2021-11-25T07:59:50.394Z"
   },
   {
    "duration": -155,
    "start_time": "2021-11-25T07:59:50.400Z"
   },
   {
    "duration": -158,
    "start_time": "2021-11-25T07:59:50.405Z"
   },
   {
    "duration": -160,
    "start_time": "2021-11-25T07:59:50.411Z"
   },
   {
    "duration": -162,
    "start_time": "2021-11-25T07:59:50.415Z"
   },
   {
    "duration": -165,
    "start_time": "2021-11-25T07:59:50.420Z"
   },
   {
    "duration": -169,
    "start_time": "2021-11-25T07:59:50.426Z"
   },
   {
    "duration": -172,
    "start_time": "2021-11-25T07:59:50.431Z"
   },
   {
    "duration": -175,
    "start_time": "2021-11-25T07:59:50.436Z"
   },
   {
    "duration": -178,
    "start_time": "2021-11-25T07:59:50.442Z"
   },
   {
    "duration": -181,
    "start_time": "2021-11-25T07:59:50.447Z"
   },
   {
    "duration": -184,
    "start_time": "2021-11-25T07:59:50.452Z"
   },
   {
    "duration": -186,
    "start_time": "2021-11-25T07:59:50.457Z"
   },
   {
    "duration": 5,
    "start_time": "2021-11-25T08:02:18.978Z"
   },
   {
    "duration": 15,
    "start_time": "2021-11-25T08:02:35.556Z"
   },
   {
    "duration": 14,
    "start_time": "2021-11-25T08:02:44.374Z"
   },
   {
    "duration": 11,
    "start_time": "2021-11-25T08:02:47.241Z"
   },
   {
    "duration": 4,
    "start_time": "2021-11-25T08:03:10.306Z"
   },
   {
    "duration": 13,
    "start_time": "2021-11-25T08:03:19.358Z"
   },
   {
    "duration": 5,
    "start_time": "2021-11-25T08:03:23.395Z"
   },
   {
    "duration": 23,
    "start_time": "2021-11-25T08:03:25.679Z"
   },
   {
    "duration": 20,
    "start_time": "2021-11-25T08:03:27.362Z"
   },
   {
    "duration": 21,
    "start_time": "2021-11-25T08:03:28.987Z"
   },
   {
    "duration": 19,
    "start_time": "2021-11-25T08:03:31.073Z"
   },
   {
    "duration": 31,
    "start_time": "2021-11-25T08:03:32.726Z"
   },
   {
    "duration": 21,
    "start_time": "2021-11-25T08:03:34.779Z"
   },
   {
    "duration": 13,
    "start_time": "2021-11-25T08:04:06.668Z"
   },
   {
    "duration": 16,
    "start_time": "2021-11-25T08:04:10.161Z"
   },
   {
    "duration": 15,
    "start_time": "2021-11-25T08:04:11.731Z"
   },
   {
    "duration": 6,
    "start_time": "2021-11-25T08:04:14.574Z"
   },
   {
    "duration": 27,
    "start_time": "2021-11-25T08:04:17.092Z"
   },
   {
    "duration": 18,
    "start_time": "2021-11-25T08:04:19.188Z"
   },
   {
    "duration": 25,
    "start_time": "2021-11-25T08:04:21.378Z"
   },
   {
    "duration": 23,
    "start_time": "2021-11-25T08:04:23.393Z"
   },
   {
    "duration": 15,
    "start_time": "2021-11-25T08:04:26.801Z"
   },
   {
    "duration": 6,
    "start_time": "2021-11-25T08:04:29.515Z"
   },
   {
    "duration": 281,
    "start_time": "2021-11-25T08:04:32.064Z"
   },
   {
    "duration": 279,
    "start_time": "2021-11-25T08:04:58.272Z"
   },
   {
    "duration": 10,
    "start_time": "2021-11-25T08:05:29.703Z"
   },
   {
    "duration": 248,
    "start_time": "2021-11-25T08:05:34.551Z"
   },
   {
    "duration": 992,
    "start_time": "2021-11-25T08:05:55.318Z"
   },
   {
    "duration": 191,
    "start_time": "2021-11-25T08:05:56.312Z"
   },
   {
    "duration": 33,
    "start_time": "2021-11-25T08:05:56.506Z"
   },
   {
    "duration": 40,
    "start_time": "2021-11-25T08:05:56.542Z"
   },
   {
    "duration": 65,
    "start_time": "2021-11-25T08:05:56.585Z"
   },
   {
    "duration": 7,
    "start_time": "2021-11-25T08:05:56.652Z"
   },
   {
    "duration": 29,
    "start_time": "2021-11-25T08:05:56.661Z"
   },
   {
    "duration": 52,
    "start_time": "2021-11-25T08:05:56.693Z"
   },
   {
    "duration": 33,
    "start_time": "2021-11-25T08:05:56.748Z"
   },
   {
    "duration": 55,
    "start_time": "2021-11-25T08:05:56.784Z"
   },
   {
    "duration": 30,
    "start_time": "2021-11-25T08:05:56.841Z"
   },
   {
    "duration": 104,
    "start_time": "2021-11-25T08:05:56.873Z"
   },
   {
    "duration": 141,
    "start_time": "2021-11-25T08:05:56.979Z"
   },
   {
    "duration": 119,
    "start_time": "2021-11-25T08:05:57.130Z"
   },
   {
    "duration": 9,
    "start_time": "2021-11-25T08:05:57.252Z"
   },
   {
    "duration": 13,
    "start_time": "2021-11-25T08:05:57.264Z"
   },
   {
    "duration": 24,
    "start_time": "2021-11-25T08:05:57.280Z"
   },
   {
    "duration": 33,
    "start_time": "2021-11-25T08:05:57.307Z"
   },
   {
    "duration": 15,
    "start_time": "2021-11-25T08:05:57.344Z"
   },
   {
    "duration": 12,
    "start_time": "2021-11-25T08:05:57.361Z"
   },
   {
    "duration": 5,
    "start_time": "2021-11-25T08:05:57.375Z"
   },
   {
    "duration": 65,
    "start_time": "2021-11-25T08:05:57.383Z"
   },
   {
    "duration": 21,
    "start_time": "2021-11-25T08:05:57.457Z"
   },
   {
    "duration": 19,
    "start_time": "2021-11-25T08:05:57.482Z"
   },
   {
    "duration": 50,
    "start_time": "2021-11-25T08:05:57.503Z"
   },
   {
    "duration": 24,
    "start_time": "2021-11-25T08:05:57.555Z"
   },
   {
    "duration": 44,
    "start_time": "2021-11-25T08:05:57.581Z"
   },
   {
    "duration": 15,
    "start_time": "2021-11-25T08:05:57.636Z"
   },
   {
    "duration": 36,
    "start_time": "2021-11-25T08:05:57.653Z"
   },
   {
    "duration": 30,
    "start_time": "2021-11-25T08:05:57.691Z"
   },
   {
    "duration": 31,
    "start_time": "2021-11-25T08:05:57.724Z"
   },
   {
    "duration": 65,
    "start_time": "2021-11-25T08:05:57.757Z"
   },
   {
    "duration": 31,
    "start_time": "2021-11-25T08:05:57.825Z"
   },
   {
    "duration": 183,
    "start_time": "2021-11-25T08:05:57.859Z"
   },
   {
    "duration": 21,
    "start_time": "2021-11-25T08:05:58.046Z"
   },
   {
    "duration": 22,
    "start_time": "2021-11-25T08:05:58.070Z"
   },
   {
    "duration": 25,
    "start_time": "2021-11-25T08:05:58.095Z"
   },
   {
    "duration": 35,
    "start_time": "2021-11-25T08:05:58.123Z"
   },
   {
    "duration": 59,
    "start_time": "2021-11-25T08:05:58.160Z"
   },
   {
    "duration": 90,
    "start_time": "2021-11-25T08:09:01.450Z"
   },
   {
    "duration": 34,
    "start_time": "2021-11-25T08:09:38.974Z"
   },
   {
    "duration": 753,
    "start_time": "2021-11-25T08:09:46.436Z"
   },
   {
    "duration": 196,
    "start_time": "2021-11-25T08:09:47.192Z"
   },
   {
    "duration": 25,
    "start_time": "2021-11-25T08:09:47.392Z"
   },
   {
    "duration": 42,
    "start_time": "2021-11-25T08:09:47.429Z"
   },
   {
    "duration": 54,
    "start_time": "2021-11-25T08:09:47.473Z"
   },
   {
    "duration": 22,
    "start_time": "2021-11-25T08:09:47.531Z"
   },
   {
    "duration": 37,
    "start_time": "2021-11-25T08:09:47.555Z"
   },
   {
    "duration": 50,
    "start_time": "2021-11-25T08:09:47.596Z"
   },
   {
    "duration": 36,
    "start_time": "2021-11-25T08:09:47.649Z"
   },
   {
    "duration": 56,
    "start_time": "2021-11-25T08:09:47.687Z"
   },
   {
    "duration": 33,
    "start_time": "2021-11-25T08:09:47.746Z"
   },
   {
    "duration": 96,
    "start_time": "2021-11-25T08:09:47.781Z"
   },
   {
    "duration": 121,
    "start_time": "2021-11-25T08:09:47.880Z"
   },
   {
    "duration": 103,
    "start_time": "2021-11-25T08:09:48.003Z"
   },
   {
    "duration": 29,
    "start_time": "2021-11-25T08:09:48.108Z"
   },
   {
    "duration": 5,
    "start_time": "2021-11-25T08:09:48.139Z"
   },
   {
    "duration": 34,
    "start_time": "2021-11-25T08:09:48.147Z"
   },
   {
    "duration": 34,
    "start_time": "2021-11-25T08:09:48.184Z"
   },
   {
    "duration": 29,
    "start_time": "2021-11-25T08:09:48.220Z"
   },
   {
    "duration": 18,
    "start_time": "2021-11-25T08:09:48.251Z"
   },
   {
    "duration": 12,
    "start_time": "2021-11-25T08:09:48.272Z"
   },
   {
    "duration": 49,
    "start_time": "2021-11-25T08:09:48.286Z"
   },
   {
    "duration": 35,
    "start_time": "2021-11-25T08:09:48.343Z"
   },
   {
    "duration": 20,
    "start_time": "2021-11-25T08:09:48.381Z"
   },
   {
    "duration": 37,
    "start_time": "2021-11-25T08:09:48.403Z"
   },
   {
    "duration": 24,
    "start_time": "2021-11-25T08:09:48.443Z"
   },
   {
    "duration": 21,
    "start_time": "2021-11-25T08:09:48.469Z"
   },
   {
    "duration": 40,
    "start_time": "2021-11-25T08:09:48.493Z"
   },
   {
    "duration": 18,
    "start_time": "2021-11-25T08:09:48.541Z"
   },
   {
    "duration": 12,
    "start_time": "2021-11-25T08:09:48.562Z"
   },
   {
    "duration": 7,
    "start_time": "2021-11-25T08:09:48.577Z"
   },
   {
    "duration": 56,
    "start_time": "2021-11-25T08:09:48.586Z"
   },
   {
    "duration": 19,
    "start_time": "2021-11-25T08:09:48.645Z"
   },
   {
    "duration": 27,
    "start_time": "2021-11-25T08:09:48.667Z"
   },
   {
    "duration": 58,
    "start_time": "2021-11-25T08:09:48.697Z"
   },
   {
    "duration": 16,
    "start_time": "2021-11-25T08:09:48.757Z"
   },
   {
    "duration": 9,
    "start_time": "2021-11-25T08:09:48.775Z"
   },
   {
    "duration": 43,
    "start_time": "2021-11-25T08:09:48.786Z"
   },
   {
    "duration": 8,
    "start_time": "2021-11-25T08:09:48.833Z"
   },
   {
    "duration": 618,
    "start_time": "2021-11-25T12:19:38.925Z"
   },
   {
    "duration": 126,
    "start_time": "2021-11-25T12:19:39.545Z"
   },
   {
    "duration": 16,
    "start_time": "2021-11-25T12:19:39.673Z"
   },
   {
    "duration": 47,
    "start_time": "2021-11-25T12:19:39.690Z"
   },
   {
    "duration": 29,
    "start_time": "2021-11-25T12:19:39.739Z"
   },
   {
    "duration": 19,
    "start_time": "2021-11-25T12:19:39.770Z"
   },
   {
    "duration": 30,
    "start_time": "2021-11-25T12:19:39.791Z"
   },
   {
    "duration": 27,
    "start_time": "2021-11-25T12:19:39.823Z"
   },
   {
    "duration": 25,
    "start_time": "2021-11-25T12:19:39.853Z"
   },
   {
    "duration": 28,
    "start_time": "2021-11-25T12:19:39.880Z"
   },
   {
    "duration": 22,
    "start_time": "2021-11-25T12:19:39.910Z"
   },
   {
    "duration": 72,
    "start_time": "2021-11-25T12:19:39.934Z"
   },
   {
    "duration": 70,
    "start_time": "2021-11-25T12:19:40.007Z"
   },
   {
    "duration": 49,
    "start_time": "2021-11-25T12:19:40.079Z"
   },
   {
    "duration": 16,
    "start_time": "2021-11-25T12:19:40.129Z"
   },
   {
    "duration": 9,
    "start_time": "2021-11-25T12:19:40.146Z"
   },
   {
    "duration": 38,
    "start_time": "2021-11-25T12:19:40.157Z"
   },
   {
    "duration": 9,
    "start_time": "2021-11-25T12:19:40.197Z"
   },
   {
    "duration": 21,
    "start_time": "2021-11-25T12:19:40.207Z"
   },
   {
    "duration": 10,
    "start_time": "2021-11-25T12:19:40.229Z"
   },
   {
    "duration": 15,
    "start_time": "2021-11-25T12:19:40.241Z"
   },
   {
    "duration": 28,
    "start_time": "2021-11-25T12:19:40.258Z"
   },
   {
    "duration": 26,
    "start_time": "2021-11-25T12:19:40.288Z"
   },
   {
    "duration": 47,
    "start_time": "2021-11-25T12:19:40.316Z"
   },
   {
    "duration": 13,
    "start_time": "2021-11-25T12:19:40.365Z"
   },
   {
    "duration": 22,
    "start_time": "2021-11-25T12:19:40.380Z"
   },
   {
    "duration": 20,
    "start_time": "2021-11-25T12:19:40.405Z"
   },
   {
    "duration": 17,
    "start_time": "2021-11-25T12:19:40.427Z"
   },
   {
    "duration": 16,
    "start_time": "2021-11-25T12:19:40.446Z"
   },
   {
    "duration": 9,
    "start_time": "2021-11-25T12:19:40.464Z"
   },
   {
    "duration": 23,
    "start_time": "2021-11-25T12:19:40.474Z"
   },
   {
    "duration": 29,
    "start_time": "2021-11-25T12:19:40.499Z"
   },
   {
    "duration": 12,
    "start_time": "2021-11-25T12:19:40.530Z"
   },
   {
    "duration": 34,
    "start_time": "2021-11-25T12:19:40.544Z"
   },
   {
    "duration": 13,
    "start_time": "2021-11-25T12:19:40.579Z"
   },
   {
    "duration": 23,
    "start_time": "2021-11-25T12:19:40.594Z"
   },
   {
    "duration": 5,
    "start_time": "2021-11-25T12:19:40.619Z"
   },
   {
    "duration": 29,
    "start_time": "2021-11-25T12:19:40.626Z"
   },
   {
    "duration": 10,
    "start_time": "2021-11-25T12:19:40.656Z"
   },
   {
    "duration": 51,
    "start_time": "2021-11-25T12:31:09.521Z"
   },
   {
    "duration": 63,
    "start_time": "2021-11-25T12:31:20.190Z"
   },
   {
    "duration": 53,
    "start_time": "2021-11-25T12:31:24.881Z"
   },
   {
    "duration": 318,
    "start_time": "2021-11-26T07:15:02.990Z"
   },
   {
    "duration": 1215,
    "start_time": "2021-11-26T07:17:11.587Z"
   },
   {
    "duration": 648,
    "start_time": "2021-11-26T07:24:07.968Z"
   },
   {
    "duration": 135,
    "start_time": "2021-11-26T07:24:08.617Z"
   },
   {
    "duration": 16,
    "start_time": "2021-11-26T07:24:08.754Z"
   },
   {
    "duration": 23,
    "start_time": "2021-11-26T07:24:08.771Z"
   },
   {
    "duration": 27,
    "start_time": "2021-11-26T07:24:08.796Z"
   },
   {
    "duration": 22,
    "start_time": "2021-11-26T07:24:08.825Z"
   },
   {
    "duration": 19,
    "start_time": "2021-11-26T07:24:08.848Z"
   },
   {
    "duration": 20,
    "start_time": "2021-11-26T07:24:08.870Z"
   },
   {
    "duration": 23,
    "start_time": "2021-11-26T07:24:08.893Z"
   },
   {
    "duration": 21,
    "start_time": "2021-11-26T07:24:08.945Z"
   },
   {
    "duration": 23,
    "start_time": "2021-11-26T07:24:08.967Z"
   },
   {
    "duration": 74,
    "start_time": "2021-11-26T07:24:08.992Z"
   },
   {
    "duration": 63,
    "start_time": "2021-11-26T07:24:09.068Z"
   },
   {
    "duration": 50,
    "start_time": "2021-11-26T07:24:09.145Z"
   },
   {
    "duration": 8,
    "start_time": "2021-11-26T07:24:09.197Z"
   },
   {
    "duration": 3,
    "start_time": "2021-11-26T07:24:09.207Z"
   },
   {
    "duration": 35,
    "start_time": "2021-11-26T07:24:09.212Z"
   },
   {
    "duration": 9,
    "start_time": "2021-11-26T07:24:09.249Z"
   },
   {
    "duration": 15,
    "start_time": "2021-11-26T07:24:09.260Z"
   },
   {
    "duration": 11,
    "start_time": "2021-11-26T07:24:09.277Z"
   },
   {
    "duration": 4,
    "start_time": "2021-11-26T07:24:09.290Z"
   },
   {
    "duration": 19,
    "start_time": "2021-11-26T07:24:09.296Z"
   },
   {
    "duration": 20,
    "start_time": "2021-11-26T07:24:09.352Z"
   },
   {
    "duration": 15,
    "start_time": "2021-11-26T07:24:09.374Z"
   },
   {
    "duration": 14,
    "start_time": "2021-11-26T07:24:09.391Z"
   },
   {
    "duration": 50,
    "start_time": "2021-11-26T07:24:09.407Z"
   },
   {
    "duration": 21,
    "start_time": "2021-11-26T07:24:09.459Z"
   },
   {
    "duration": 9,
    "start_time": "2021-11-26T07:24:09.482Z"
   },
   {
    "duration": 13,
    "start_time": "2021-11-26T07:24:09.493Z"
   },
   {
    "duration": 39,
    "start_time": "2021-11-26T07:24:09.508Z"
   },
   {
    "duration": 5,
    "start_time": "2021-11-26T07:24:09.549Z"
   },
   {
    "duration": 23,
    "start_time": "2021-11-26T07:24:09.556Z"
   },
   {
    "duration": 12,
    "start_time": "2021-11-26T07:24:09.581Z"
   },
   {
    "duration": 18,
    "start_time": "2021-11-26T07:24:09.595Z"
   },
   {
    "duration": 41,
    "start_time": "2021-11-26T07:24:09.614Z"
   },
   {
    "duration": 13,
    "start_time": "2021-11-26T07:24:09.657Z"
   },
   {
    "duration": 26,
    "start_time": "2021-11-26T07:24:09.672Z"
   },
   {
    "duration": 17,
    "start_time": "2021-11-26T07:24:09.700Z"
   },
   {
    "duration": 14,
    "start_time": "2021-11-26T07:24:09.718Z"
   },
   {
    "duration": 61,
    "start_time": "2021-11-26T07:24:43.361Z"
   },
   {
    "duration": 614,
    "start_time": "2021-11-26T07:24:49.636Z"
   },
   {
    "duration": 140,
    "start_time": "2021-11-26T07:24:50.252Z"
   },
   {
    "duration": 15,
    "start_time": "2021-11-26T07:24:50.394Z"
   },
   {
    "duration": 38,
    "start_time": "2021-11-26T07:24:50.411Z"
   },
   {
    "duration": 29,
    "start_time": "2021-11-26T07:24:50.451Z"
   },
   {
    "duration": 6,
    "start_time": "2021-11-26T07:24:50.482Z"
   },
   {
    "duration": 29,
    "start_time": "2021-11-26T07:24:50.490Z"
   },
   {
    "duration": 46,
    "start_time": "2021-11-26T07:24:50.522Z"
   },
   {
    "duration": 22,
    "start_time": "2021-11-26T07:24:50.571Z"
   },
   {
    "duration": 19,
    "start_time": "2021-11-26T07:24:50.595Z"
   },
   {
    "duration": 50,
    "start_time": "2021-11-26T07:24:50.615Z"
   },
   {
    "duration": 61,
    "start_time": "2021-11-26T07:24:50.667Z"
   },
   {
    "duration": 77,
    "start_time": "2021-11-26T07:24:50.730Z"
   },
   {
    "duration": 64,
    "start_time": "2021-11-26T07:24:50.809Z"
   },
   {
    "duration": 6,
    "start_time": "2021-11-26T07:24:50.875Z"
   },
   {
    "duration": 3,
    "start_time": "2021-11-26T07:24:50.882Z"
   },
   {
    "duration": 15,
    "start_time": "2021-11-26T07:24:50.887Z"
   },
   {
    "duration": 10,
    "start_time": "2021-11-26T07:24:50.904Z"
   },
   {
    "duration": 31,
    "start_time": "2021-11-26T07:24:50.916Z"
   },
   {
    "duration": 8,
    "start_time": "2021-11-26T07:24:50.948Z"
   },
   {
    "duration": 3,
    "start_time": "2021-11-26T07:24:50.958Z"
   },
   {
    "duration": 22,
    "start_time": "2021-11-26T07:24:50.962Z"
   },
   {
    "duration": 14,
    "start_time": "2021-11-26T07:24:50.987Z"
   },
   {
    "duration": 17,
    "start_time": "2021-11-26T07:24:51.003Z"
   },
   {
    "duration": 37,
    "start_time": "2021-11-26T07:24:51.022Z"
   },
   {
    "duration": 17,
    "start_time": "2021-11-26T07:24:51.061Z"
   },
   {
    "duration": 15,
    "start_time": "2021-11-26T07:24:51.080Z"
   },
   {
    "duration": 8,
    "start_time": "2021-11-26T07:24:51.097Z"
   },
   {
    "duration": 11,
    "start_time": "2021-11-26T07:24:51.144Z"
   },
   {
    "duration": 10,
    "start_time": "2021-11-26T07:24:51.157Z"
   },
   {
    "duration": 5,
    "start_time": "2021-11-26T07:24:51.168Z"
   },
   {
    "duration": 23,
    "start_time": "2021-11-26T07:24:51.175Z"
   },
   {
    "duration": 13,
    "start_time": "2021-11-26T07:24:51.200Z"
   },
   {
    "duration": 47,
    "start_time": "2021-11-26T07:24:51.215Z"
   },
   {
    "duration": 12,
    "start_time": "2021-11-26T07:24:51.264Z"
   },
   {
    "duration": 11,
    "start_time": "2021-11-26T07:24:51.278Z"
   },
   {
    "duration": 8,
    "start_time": "2021-11-26T07:24:51.291Z"
   },
   {
    "duration": 17,
    "start_time": "2021-11-26T07:24:51.301Z"
   },
   {
    "duration": 6,
    "start_time": "2021-11-26T07:24:51.344Z"
   },
   {
    "duration": 54,
    "start_time": "2021-11-26T07:24:58.531Z"
   },
   {
    "duration": 50,
    "start_time": "2021-11-26T07:25:04.734Z"
   },
   {
    "duration": 324,
    "start_time": "2021-11-26T07:28:24.094Z"
   },
   {
    "duration": 324,
    "start_time": "2021-11-26T07:28:41.479Z"
   },
   {
    "duration": 178,
    "start_time": "2021-11-26T07:28:48.279Z"
   },
   {
    "duration": 156,
    "start_time": "2021-11-26T07:33:29.372Z"
   },
   {
    "duration": 321,
    "start_time": "2021-11-26T07:37:11.700Z"
   },
   {
    "duration": 141,
    "start_time": "2021-11-26T07:37:46.922Z"
   },
   {
    "duration": 93,
    "start_time": "2021-11-26T07:37:59.105Z"
   },
   {
    "duration": 93,
    "start_time": "2021-11-26T07:38:39.231Z"
   },
   {
    "duration": 94,
    "start_time": "2021-11-26T07:38:57.174Z"
   },
   {
    "duration": 110,
    "start_time": "2021-11-26T07:39:24.419Z"
   },
   {
    "duration": 102,
    "start_time": "2021-11-26T07:39:36.255Z"
   },
   {
    "duration": 99,
    "start_time": "2021-11-26T07:40:54.293Z"
   },
   {
    "duration": 154,
    "start_time": "2021-11-26T07:41:07.631Z"
   },
   {
    "duration": 116,
    "start_time": "2021-11-26T07:41:13.656Z"
   },
   {
    "duration": 121,
    "start_time": "2021-11-26T07:41:18.327Z"
   },
   {
    "duration": 93,
    "start_time": "2021-11-26T07:41:28.926Z"
   },
   {
    "duration": 572,
    "start_time": "2021-11-26T07:41:44.891Z"
   },
   {
    "duration": 140,
    "start_time": "2021-11-26T07:41:45.465Z"
   },
   {
    "duration": 18,
    "start_time": "2021-11-26T07:41:45.607Z"
   },
   {
    "duration": 30,
    "start_time": "2021-11-26T07:41:45.627Z"
   },
   {
    "duration": 94,
    "start_time": "2021-11-26T07:41:45.659Z"
   },
   {
    "duration": -90,
    "start_time": "2021-11-26T07:41:45.846Z"
   },
   {
    "duration": -97,
    "start_time": "2021-11-26T07:41:45.854Z"
   },
   {
    "duration": -104,
    "start_time": "2021-11-26T07:41:45.862Z"
   },
   {
    "duration": -113,
    "start_time": "2021-11-26T07:41:45.872Z"
   },
   {
    "duration": -118,
    "start_time": "2021-11-26T07:41:45.878Z"
   },
   {
    "duration": -125,
    "start_time": "2021-11-26T07:41:45.886Z"
   },
   {
    "duration": -132,
    "start_time": "2021-11-26T07:41:45.893Z"
   },
   {
    "duration": -137,
    "start_time": "2021-11-26T07:41:45.899Z"
   },
   {
    "duration": -141,
    "start_time": "2021-11-26T07:41:45.904Z"
   },
   {
    "duration": -146,
    "start_time": "2021-11-26T07:41:45.910Z"
   },
   {
    "duration": -152,
    "start_time": "2021-11-26T07:41:45.917Z"
   },
   {
    "duration": -158,
    "start_time": "2021-11-26T07:41:45.923Z"
   },
   {
    "duration": -163,
    "start_time": "2021-11-26T07:41:45.929Z"
   },
   {
    "duration": -167,
    "start_time": "2021-11-26T07:41:45.934Z"
   },
   {
    "duration": -186,
    "start_time": "2021-11-26T07:41:45.954Z"
   },
   {
    "duration": -217,
    "start_time": "2021-11-26T07:41:45.986Z"
   },
   {
    "duration": -221,
    "start_time": "2021-11-26T07:41:45.991Z"
   },
   {
    "duration": -227,
    "start_time": "2021-11-26T07:41:45.998Z"
   },
   {
    "duration": -232,
    "start_time": "2021-11-26T07:41:46.004Z"
   },
   {
    "duration": -237,
    "start_time": "2021-11-26T07:41:46.010Z"
   },
   {
    "duration": -243,
    "start_time": "2021-11-26T07:41:46.016Z"
   },
   {
    "duration": -247,
    "start_time": "2021-11-26T07:41:46.022Z"
   },
   {
    "duration": -252,
    "start_time": "2021-11-26T07:41:46.027Z"
   },
   {
    "duration": -257,
    "start_time": "2021-11-26T07:41:46.034Z"
   },
   {
    "duration": -262,
    "start_time": "2021-11-26T07:41:46.039Z"
   },
   {
    "duration": -265,
    "start_time": "2021-11-26T07:41:46.044Z"
   },
   {
    "duration": -268,
    "start_time": "2021-11-26T07:41:46.048Z"
   },
   {
    "duration": -283,
    "start_time": "2021-11-26T07:41:46.064Z"
   },
   {
    "duration": -287,
    "start_time": "2021-11-26T07:41:46.069Z"
   },
   {
    "duration": -291,
    "start_time": "2021-11-26T07:41:46.074Z"
   },
   {
    "duration": -295,
    "start_time": "2021-11-26T07:41:46.079Z"
   },
   {
    "duration": -301,
    "start_time": "2021-11-26T07:41:46.085Z"
   },
   {
    "duration": -315,
    "start_time": "2021-11-26T07:41:46.100Z"
   },
   {
    "duration": -319,
    "start_time": "2021-11-26T07:41:46.105Z"
   },
   {
    "duration": -322,
    "start_time": "2021-11-26T07:41:46.109Z"
   },
   {
    "duration": 99,
    "start_time": "2021-11-26T07:41:57.368Z"
   },
   {
    "duration": 110,
    "start_time": "2021-11-26T07:42:17.096Z"
   },
   {
    "duration": 4,
    "start_time": "2021-11-26T07:51:14.931Z"
   },
   {
    "duration": 21,
    "start_time": "2021-11-26T07:51:18.787Z"
   },
   {
    "duration": 38,
    "start_time": "2021-11-26T07:51:20.931Z"
   },
   {
    "duration": 22,
    "start_time": "2021-11-26T07:51:23.807Z"
   },
   {
    "duration": 23,
    "start_time": "2021-11-26T07:51:26.745Z"
   },
   {
    "duration": 23,
    "start_time": "2021-11-26T07:51:29.946Z"
   },
   {
    "duration": 58,
    "start_time": "2021-11-26T07:51:32.324Z"
   },
   {
    "duration": 92,
    "start_time": "2021-11-26T07:51:34.484Z"
   },
   {
    "duration": 365,
    "start_time": "2021-11-26T07:57:56.936Z"
   },
   {
    "duration": 294,
    "start_time": "2021-11-26T08:00:24.610Z"
   },
   {
    "duration": 331,
    "start_time": "2021-11-26T08:00:46.303Z"
   },
   {
    "duration": 355,
    "start_time": "2021-11-26T08:01:03.612Z"
   },
   {
    "duration": 318,
    "start_time": "2021-11-26T08:02:11.049Z"
   },
   {
    "duration": 345,
    "start_time": "2021-11-26T08:02:16.791Z"
   },
   {
    "duration": 330,
    "start_time": "2021-11-26T08:05:37.112Z"
   },
   {
    "duration": 398,
    "start_time": "2021-11-26T08:06:11.792Z"
   },
   {
    "duration": 59,
    "start_time": "2021-11-26T08:06:22.097Z"
   },
   {
    "duration": 636,
    "start_time": "2021-11-26T08:06:54.319Z"
   },
   {
    "duration": 141,
    "start_time": "2021-11-26T08:06:54.957Z"
   },
   {
    "duration": 17,
    "start_time": "2021-11-26T08:06:55.100Z"
   },
   {
    "duration": 38,
    "start_time": "2021-11-26T08:06:55.120Z"
   },
   {
    "duration": 38,
    "start_time": "2021-11-26T08:06:55.160Z"
   },
   {
    "duration": 5,
    "start_time": "2021-11-26T08:06:55.200Z"
   },
   {
    "duration": 31,
    "start_time": "2021-11-26T08:06:55.207Z"
   },
   {
    "duration": 34,
    "start_time": "2021-11-26T08:06:55.241Z"
   },
   {
    "duration": 31,
    "start_time": "2021-11-26T08:06:55.277Z"
   },
   {
    "duration": 43,
    "start_time": "2021-11-26T08:06:55.310Z"
   },
   {
    "duration": 41,
    "start_time": "2021-11-26T08:06:55.355Z"
   },
   {
    "duration": 69,
    "start_time": "2021-11-26T08:06:55.398Z"
   },
   {
    "duration": 64,
    "start_time": "2021-11-26T08:06:55.469Z"
   },
   {
    "duration": 65,
    "start_time": "2021-11-26T08:06:55.535Z"
   },
   {
    "duration": 7,
    "start_time": "2021-11-26T08:06:55.601Z"
   },
   {
    "duration": 11,
    "start_time": "2021-11-26T08:06:55.610Z"
   },
   {
    "duration": 27,
    "start_time": "2021-11-26T08:06:55.623Z"
   },
   {
    "duration": 8,
    "start_time": "2021-11-26T08:06:55.653Z"
   },
   {
    "duration": 25,
    "start_time": "2021-11-26T08:06:55.662Z"
   },
   {
    "duration": 16,
    "start_time": "2021-11-26T08:06:55.689Z"
   },
   {
    "duration": 12,
    "start_time": "2021-11-26T08:06:55.707Z"
   },
   {
    "duration": 32,
    "start_time": "2021-11-26T08:06:55.720Z"
   },
   {
    "duration": 16,
    "start_time": "2021-11-26T08:06:55.756Z"
   },
   {
    "duration": 30,
    "start_time": "2021-11-26T08:06:55.774Z"
   },
   {
    "duration": 15,
    "start_time": "2021-11-26T08:06:55.806Z"
   },
   {
    "duration": 29,
    "start_time": "2021-11-26T08:06:55.823Z"
   },
   {
    "duration": 15,
    "start_time": "2021-11-26T08:06:55.854Z"
   },
   {
    "duration": 12,
    "start_time": "2021-11-26T08:06:55.871Z"
   },
   {
    "duration": 17,
    "start_time": "2021-11-26T08:06:55.885Z"
   },
   {
    "duration": 48,
    "start_time": "2021-11-26T08:06:55.904Z"
   },
   {
    "duration": 5,
    "start_time": "2021-11-26T08:06:55.955Z"
   },
   {
    "duration": 52,
    "start_time": "2021-11-26T08:06:55.962Z"
   },
   {
    "duration": 18,
    "start_time": "2021-11-26T08:06:56.017Z"
   },
   {
    "duration": 38,
    "start_time": "2021-11-26T08:06:56.037Z"
   },
   {
    "duration": 17,
    "start_time": "2021-11-26T08:06:56.077Z"
   },
   {
    "duration": 15,
    "start_time": "2021-11-26T08:06:56.097Z"
   },
   {
    "duration": 6,
    "start_time": "2021-11-26T08:06:56.114Z"
   },
   {
    "duration": 25,
    "start_time": "2021-11-26T08:06:56.122Z"
   },
   {
    "duration": 23,
    "start_time": "2021-11-26T08:06:56.149Z"
   },
   {
    "duration": 98,
    "start_time": "2021-11-26T08:32:26.932Z"
   },
   {
    "duration": 91,
    "start_time": "2021-11-26T08:32:30.510Z"
   },
   {
    "duration": 615,
    "start_time": "2021-11-26T08:33:16.208Z"
   },
   {
    "duration": 141,
    "start_time": "2021-11-26T08:33:16.826Z"
   },
   {
    "duration": 18,
    "start_time": "2021-11-26T08:33:16.970Z"
   },
   {
    "duration": 27,
    "start_time": "2021-11-26T08:33:16.990Z"
   },
   {
    "duration": 51,
    "start_time": "2021-11-26T08:33:17.019Z"
   },
   {
    "duration": 4,
    "start_time": "2021-11-26T08:33:17.072Z"
   },
   {
    "duration": 20,
    "start_time": "2021-11-26T08:33:17.078Z"
   },
   {
    "duration": 22,
    "start_time": "2021-11-26T08:33:17.101Z"
   },
   {
    "duration": 35,
    "start_time": "2021-11-26T08:33:17.147Z"
   },
   {
    "duration": 21,
    "start_time": "2021-11-26T08:33:17.184Z"
   },
   {
    "duration": 41,
    "start_time": "2021-11-26T08:33:17.207Z"
   },
   {
    "duration": 58,
    "start_time": "2021-11-26T08:33:17.250Z"
   },
   {
    "duration": 83,
    "start_time": "2021-11-26T08:33:17.310Z"
   },
   {
    "duration": 55,
    "start_time": "2021-11-26T08:33:17.395Z"
   },
   {
    "duration": 6,
    "start_time": "2021-11-26T08:33:17.452Z"
   },
   {
    "duration": 7,
    "start_time": "2021-11-26T08:33:17.460Z"
   },
   {
    "duration": 16,
    "start_time": "2021-11-26T08:33:17.469Z"
   },
   {
    "duration": 7,
    "start_time": "2021-11-26T08:33:17.487Z"
   },
   {
    "duration": 12,
    "start_time": "2021-11-26T08:33:17.496Z"
   },
   {
    "duration": 39,
    "start_time": "2021-11-26T08:33:17.510Z"
   },
   {
    "duration": 3,
    "start_time": "2021-11-26T08:33:17.551Z"
   },
   {
    "duration": 21,
    "start_time": "2021-11-26T08:33:17.556Z"
   },
   {
    "duration": 14,
    "start_time": "2021-11-26T08:33:17.580Z"
   },
   {
    "duration": 15,
    "start_time": "2021-11-26T08:33:17.595Z"
   },
   {
    "duration": 43,
    "start_time": "2021-11-26T08:33:17.611Z"
   },
   {
    "duration": 16,
    "start_time": "2021-11-26T08:33:17.656Z"
   },
   {
    "duration": 15,
    "start_time": "2021-11-26T08:33:17.673Z"
   },
   {
    "duration": 9,
    "start_time": "2021-11-26T08:33:17.689Z"
   },
   {
    "duration": 15,
    "start_time": "2021-11-26T08:33:17.699Z"
   },
   {
    "duration": 33,
    "start_time": "2021-11-26T08:33:17.716Z"
   },
   {
    "duration": 4,
    "start_time": "2021-11-26T08:33:17.751Z"
   },
   {
    "duration": 23,
    "start_time": "2021-11-26T08:33:17.757Z"
   },
   {
    "duration": 12,
    "start_time": "2021-11-26T08:33:17.782Z"
   },
   {
    "duration": 17,
    "start_time": "2021-11-26T08:33:17.796Z"
   },
   {
    "duration": 42,
    "start_time": "2021-11-26T08:33:17.815Z"
   },
   {
    "duration": 13,
    "start_time": "2021-11-26T08:33:17.859Z"
   },
   {
    "duration": 6,
    "start_time": "2021-11-26T08:33:17.874Z"
   },
   {
    "duration": 9,
    "start_time": "2021-11-26T08:33:17.882Z"
   },
   {
    "duration": 5,
    "start_time": "2021-11-26T08:33:17.893Z"
   },
   {
    "duration": 89,
    "start_time": "2021-11-26T08:33:31.766Z"
   },
   {
    "duration": 91,
    "start_time": "2021-11-26T08:33:57.256Z"
   },
   {
    "duration": 7,
    "start_time": "2021-11-26T08:37:29.301Z"
   },
   {
    "duration": 54,
    "start_time": "2021-11-26T08:37:55.687Z"
   },
   {
    "duration": 10,
    "start_time": "2021-11-26T08:38:01.718Z"
   },
   {
    "duration": 62,
    "start_time": "2021-11-26T08:38:21.736Z"
   },
   {
    "duration": 6,
    "start_time": "2021-11-26T08:38:43.761Z"
   },
   {
    "duration": 945,
    "start_time": "2021-11-26T08:38:55.492Z"
   },
   {
    "duration": 210,
    "start_time": "2021-11-26T08:38:56.439Z"
   },
   {
    "duration": 24,
    "start_time": "2021-11-26T08:38:56.652Z"
   },
   {
    "duration": 44,
    "start_time": "2021-11-26T08:38:56.679Z"
   },
   {
    "duration": 56,
    "start_time": "2021-11-26T08:38:56.725Z"
   },
   {
    "duration": 5,
    "start_time": "2021-11-26T08:38:56.784Z"
   },
   {
    "duration": 25,
    "start_time": "2021-11-26T08:38:56.791Z"
   },
   {
    "duration": 63,
    "start_time": "2021-11-26T08:38:56.820Z"
   },
   {
    "duration": 62,
    "start_time": "2021-11-26T08:38:56.886Z"
   },
   {
    "duration": 28,
    "start_time": "2021-11-26T08:38:56.950Z"
   },
   {
    "duration": 40,
    "start_time": "2021-11-26T08:38:56.980Z"
   },
   {
    "duration": 85,
    "start_time": "2021-11-26T08:38:57.023Z"
   },
   {
    "duration": 74,
    "start_time": "2021-11-26T08:38:57.110Z"
   },
   {
    "duration": 62,
    "start_time": "2021-11-26T08:38:57.186Z"
   },
   {
    "duration": 7,
    "start_time": "2021-11-26T08:38:57.250Z"
   },
   {
    "duration": 24,
    "start_time": "2021-11-26T08:38:57.259Z"
   },
   {
    "duration": 80,
    "start_time": "2021-11-26T08:38:57.285Z"
   },
   {
    "duration": 8,
    "start_time": "2021-11-26T08:38:57.366Z"
   },
   {
    "duration": 25,
    "start_time": "2021-11-26T08:38:57.376Z"
   },
   {
    "duration": 22,
    "start_time": "2021-11-26T08:38:57.403Z"
   },
   {
    "duration": 12,
    "start_time": "2021-11-26T08:38:57.427Z"
   },
   {
    "duration": 19,
    "start_time": "2021-11-26T08:38:57.441Z"
   },
   {
    "duration": 15,
    "start_time": "2021-11-26T08:38:57.465Z"
   },
   {
    "duration": 16,
    "start_time": "2021-11-26T08:38:57.482Z"
   },
   {
    "duration": 20,
    "start_time": "2021-11-26T08:38:57.500Z"
   },
   {
    "duration": 25,
    "start_time": "2021-11-26T08:38:57.545Z"
   },
   {
    "duration": 21,
    "start_time": "2021-11-26T08:38:57.572Z"
   },
   {
    "duration": 12,
    "start_time": "2021-11-26T08:38:57.595Z"
   },
   {
    "duration": 46,
    "start_time": "2021-11-26T08:38:57.609Z"
   },
   {
    "duration": 13,
    "start_time": "2021-11-26T08:38:57.658Z"
   },
   {
    "duration": 4,
    "start_time": "2021-11-26T08:38:57.673Z"
   },
   {
    "duration": 39,
    "start_time": "2021-11-26T08:38:57.679Z"
   },
   {
    "duration": 29,
    "start_time": "2021-11-26T08:38:57.720Z"
   },
   {
    "duration": 25,
    "start_time": "2021-11-26T08:38:57.752Z"
   },
   {
    "duration": 16,
    "start_time": "2021-11-26T08:38:57.779Z"
   },
   {
    "duration": 13,
    "start_time": "2021-11-26T08:38:57.797Z"
   },
   {
    "duration": 5,
    "start_time": "2021-11-26T08:38:57.812Z"
   },
   {
    "duration": 9,
    "start_time": "2021-11-26T08:38:57.844Z"
   },
   {
    "duration": 5,
    "start_time": "2021-11-26T08:38:57.856Z"
   },
   {
    "duration": 11,
    "start_time": "2021-11-26T08:39:18.666Z"
   },
   {
    "duration": 10,
    "start_time": "2021-11-26T08:39:27.690Z"
   },
   {
    "duration": 66,
    "start_time": "2021-11-26T08:40:01.879Z"
   },
   {
    "duration": 622,
    "start_time": "2021-11-26T08:40:07.525Z"
   },
   {
    "duration": 137,
    "start_time": "2021-11-26T08:40:08.149Z"
   },
   {
    "duration": 20,
    "start_time": "2021-11-26T08:40:08.291Z"
   },
   {
    "duration": 41,
    "start_time": "2021-11-26T08:40:08.313Z"
   },
   {
    "duration": 29,
    "start_time": "2021-11-26T08:40:08.356Z"
   },
   {
    "duration": 4,
    "start_time": "2021-11-26T08:40:08.387Z"
   },
   {
    "duration": 20,
    "start_time": "2021-11-26T08:40:08.395Z"
   },
   {
    "duration": 44,
    "start_time": "2021-11-26T08:40:08.418Z"
   },
   {
    "duration": 26,
    "start_time": "2021-11-26T08:40:08.464Z"
   },
   {
    "duration": 18,
    "start_time": "2021-11-26T08:40:08.492Z"
   },
   {
    "duration": 50,
    "start_time": "2021-11-26T08:40:08.512Z"
   },
   {
    "duration": 59,
    "start_time": "2021-11-26T08:40:08.564Z"
   },
   {
    "duration": 72,
    "start_time": "2021-11-26T08:40:08.625Z"
   },
   {
    "duration": 59,
    "start_time": "2021-11-26T08:40:08.699Z"
   },
   {
    "duration": 6,
    "start_time": "2021-11-26T08:40:08.760Z"
   },
   {
    "duration": 3,
    "start_time": "2021-11-26T08:40:08.768Z"
   },
   {
    "duration": 77,
    "start_time": "2021-11-26T08:40:08.772Z"
   },
   {
    "duration": 7,
    "start_time": "2021-11-26T08:40:08.851Z"
   },
   {
    "duration": 14,
    "start_time": "2021-11-26T08:40:08.860Z"
   },
   {
    "duration": 8,
    "start_time": "2021-11-26T08:40:08.875Z"
   },
   {
    "duration": 3,
    "start_time": "2021-11-26T08:40:08.885Z"
   },
   {
    "duration": 52,
    "start_time": "2021-11-26T08:40:08.892Z"
   },
   {
    "duration": 14,
    "start_time": "2021-11-26T08:40:08.947Z"
   },
   {
    "duration": 13,
    "start_time": "2021-11-26T08:40:08.963Z"
   },
   {
    "duration": 13,
    "start_time": "2021-11-26T08:40:08.978Z"
   },
   {
    "duration": 56,
    "start_time": "2021-11-26T08:40:08.993Z"
   },
   {
    "duration": 16,
    "start_time": "2021-11-26T08:40:09.051Z"
   },
   {
    "duration": 9,
    "start_time": "2021-11-26T08:40:09.069Z"
   },
   {
    "duration": 12,
    "start_time": "2021-11-26T08:40:09.079Z"
   },
   {
    "duration": 9,
    "start_time": "2021-11-26T08:40:09.093Z"
   },
   {
    "duration": 3,
    "start_time": "2021-11-26T08:40:09.104Z"
   },
   {
    "duration": 52,
    "start_time": "2021-11-26T08:40:09.109Z"
   },
   {
    "duration": 13,
    "start_time": "2021-11-26T08:40:09.163Z"
   },
   {
    "duration": 16,
    "start_time": "2021-11-26T08:40:09.178Z"
   },
   {
    "duration": 12,
    "start_time": "2021-11-26T08:40:09.196Z"
   },
   {
    "duration": 42,
    "start_time": "2021-11-26T08:40:09.210Z"
   },
   {
    "duration": 6,
    "start_time": "2021-11-26T08:40:09.254Z"
   },
   {
    "duration": 10,
    "start_time": "2021-11-26T08:40:09.262Z"
   },
   {
    "duration": 7,
    "start_time": "2021-11-26T08:40:09.273Z"
   },
   {
    "duration": 51,
    "start_time": "2021-11-26T08:41:05.223Z"
   },
   {
    "duration": 7,
    "start_time": "2021-11-26T08:41:14.152Z"
   },
   {
    "duration": 3,
    "start_time": "2021-11-26T08:41:18.173Z"
   },
   {
    "duration": 63,
    "start_time": "2021-11-26T08:41:21.560Z"
   },
   {
    "duration": 7,
    "start_time": "2021-11-26T08:41:25.797Z"
   },
   {
    "duration": 131,
    "start_time": "2021-11-26T08:41:48.873Z"
   },
   {
    "duration": 92,
    "start_time": "2021-11-26T08:49:22.965Z"
   },
   {
    "duration": 10,
    "start_time": "2021-11-26T08:49:45.686Z"
   },
   {
    "duration": 60,
    "start_time": "2021-11-26T08:52:57.890Z"
   },
   {
    "duration": -96,
    "start_time": "2021-11-26T08:53:52.755Z"
   },
   {
    "duration": 8522,
    "start_time": "2021-11-26T08:53:57.297Z"
   },
   {
    "duration": 9,
    "start_time": "2021-11-26T08:54:15.460Z"
   },
   {
    "duration": 14,
    "start_time": "2021-11-26T08:54:26.537Z"
   },
   {
    "duration": -34,
    "start_time": "2021-11-26T08:54:51.942Z"
   },
   {
    "duration": 45,
    "start_time": "2021-11-26T09:03:07.589Z"
   },
   {
    "duration": 39,
    "start_time": "2021-11-26T09:03:09.880Z"
   },
   {
    "duration": 580,
    "start_time": "2021-11-26T09:03:15.897Z"
   },
   {
    "duration": 140,
    "start_time": "2021-11-26T09:03:16.479Z"
   },
   {
    "duration": 26,
    "start_time": "2021-11-26T09:03:16.621Z"
   },
   {
    "duration": 30,
    "start_time": "2021-11-26T09:03:16.649Z"
   },
   {
    "duration": 30,
    "start_time": "2021-11-26T09:03:16.681Z"
   },
   {
    "duration": 4,
    "start_time": "2021-11-26T09:03:16.712Z"
   },
   {
    "duration": 38,
    "start_time": "2021-11-26T09:03:16.718Z"
   },
   {
    "duration": 24,
    "start_time": "2021-11-26T09:03:16.759Z"
   },
   {
    "duration": 39,
    "start_time": "2021-11-26T09:03:16.786Z"
   },
   {
    "duration": 26,
    "start_time": "2021-11-26T09:03:16.845Z"
   },
   {
    "duration": 39,
    "start_time": "2021-11-26T09:03:16.873Z"
   },
   {
    "duration": 97,
    "start_time": "2021-11-26T09:03:16.914Z"
   },
   {
    "duration": 172,
    "start_time": "2021-11-26T09:03:17.014Z"
   },
   {
    "duration": 64,
    "start_time": "2021-11-26T09:03:17.188Z"
   },
   {
    "duration": 7,
    "start_time": "2021-11-26T09:03:17.253Z"
   },
   {
    "duration": 17,
    "start_time": "2021-11-26T09:03:17.261Z"
   },
   {
    "duration": 58,
    "start_time": "2021-11-26T09:03:17.280Z"
   },
   {
    "duration": 6,
    "start_time": "2021-11-26T09:03:17.340Z"
   },
   {
    "duration": 20,
    "start_time": "2021-11-26T09:03:17.348Z"
   },
   {
    "duration": 9,
    "start_time": "2021-11-26T09:03:17.369Z"
   },
   {
    "duration": 4,
    "start_time": "2021-11-26T09:03:17.379Z"
   },
   {
    "duration": 21,
    "start_time": "2021-11-26T09:03:17.384Z"
   },
   {
    "duration": 13,
    "start_time": "2021-11-26T09:03:17.408Z"
   },
   {
    "duration": 34,
    "start_time": "2021-11-26T09:03:17.423Z"
   },
   {
    "duration": 14,
    "start_time": "2021-11-26T09:03:17.459Z"
   },
   {
    "duration": 17,
    "start_time": "2021-11-26T09:03:17.474Z"
   },
   {
    "duration": 15,
    "start_time": "2021-11-26T09:03:17.492Z"
   },
   {
    "duration": 37,
    "start_time": "2021-11-26T09:03:17.508Z"
   },
   {
    "duration": 12,
    "start_time": "2021-11-26T09:03:17.547Z"
   },
   {
    "duration": 10,
    "start_time": "2021-11-26T09:03:17.561Z"
   },
   {
    "duration": 4,
    "start_time": "2021-11-26T09:03:17.573Z"
   },
   {
    "duration": 24,
    "start_time": "2021-11-26T09:03:17.579Z"
   },
   {
    "duration": 40,
    "start_time": "2021-11-26T09:03:17.605Z"
   },
   {
    "duration": 18,
    "start_time": "2021-11-26T09:03:17.647Z"
   },
   {
    "duration": 14,
    "start_time": "2021-11-26T09:03:17.667Z"
   },
   {
    "duration": 10,
    "start_time": "2021-11-26T09:03:17.682Z"
   },
   {
    "duration": 4,
    "start_time": "2021-11-26T09:03:17.694Z"
   },
   {
    "duration": 46,
    "start_time": "2021-11-26T09:03:17.700Z"
   },
   {
    "duration": 4,
    "start_time": "2021-11-26T09:03:17.748Z"
   },
   {
    "duration": 98,
    "start_time": "2021-11-26T09:03:50.595Z"
   },
   {
    "duration": 6,
    "start_time": "2021-11-26T09:03:54.800Z"
   },
   {
    "duration": 3,
    "start_time": "2021-11-26T09:04:03.682Z"
   },
   {
    "duration": 54,
    "start_time": "2021-11-26T09:04:05.661Z"
   },
   {
    "duration": 6,
    "start_time": "2021-11-26T09:04:10.027Z"
   },
   {
    "duration": 10,
    "start_time": "2021-11-26T09:04:16.470Z"
   },
   {
    "duration": 12,
    "start_time": "2021-11-26T09:04:19.522Z"
   },
   {
    "duration": -83,
    "start_time": "2021-11-26T09:04:46.104Z"
   },
   {
    "duration": 586,
    "start_time": "2021-11-26T09:04:48.672Z"
   },
   {
    "duration": 169,
    "start_time": "2021-11-26T09:04:49.260Z"
   },
   {
    "duration": 22,
    "start_time": "2021-11-26T09:04:49.431Z"
   },
   {
    "duration": 30,
    "start_time": "2021-11-26T09:04:49.456Z"
   },
   {
    "duration": 32,
    "start_time": "2021-11-26T09:04:49.488Z"
   },
   {
    "duration": 23,
    "start_time": "2021-11-26T09:04:49.521Z"
   },
   {
    "duration": 19,
    "start_time": "2021-11-26T09:04:49.546Z"
   },
   {
    "duration": 27,
    "start_time": "2021-11-26T09:04:49.568Z"
   },
   {
    "duration": 56,
    "start_time": "2021-11-26T09:04:49.598Z"
   },
   {
    "duration": 20,
    "start_time": "2021-11-26T09:04:49.657Z"
   },
   {
    "duration": 21,
    "start_time": "2021-11-26T09:04:49.679Z"
   },
   {
    "duration": 91,
    "start_time": "2021-11-26T09:04:49.702Z"
   },
   {
    "duration": 116,
    "start_time": "2021-11-26T09:04:49.796Z"
   },
   {
    "duration": 119,
    "start_time": "2021-11-26T09:04:49.914Z"
   },
   {
    "duration": 11,
    "start_time": "2021-11-26T09:04:50.035Z"
   },
   {
    "duration": 7,
    "start_time": "2021-11-26T09:04:50.047Z"
   },
   {
    "duration": 88,
    "start_time": "2021-11-26T09:04:50.055Z"
   },
   {
    "duration": 8,
    "start_time": "2021-11-26T09:04:50.145Z"
   },
   {
    "duration": 12,
    "start_time": "2021-11-26T09:04:50.155Z"
   },
   {
    "duration": 9,
    "start_time": "2021-11-26T09:04:50.169Z"
   },
   {
    "duration": 3,
    "start_time": "2021-11-26T09:04:50.180Z"
   },
   {
    "duration": 28,
    "start_time": "2021-11-26T09:04:50.185Z"
   },
   {
    "duration": 39,
    "start_time": "2021-11-26T09:04:50.217Z"
   },
   {
    "duration": 17,
    "start_time": "2021-11-26T09:04:50.259Z"
   },
   {
    "duration": 17,
    "start_time": "2021-11-26T09:04:50.277Z"
   },
   {
    "duration": 53,
    "start_time": "2021-11-26T09:04:50.295Z"
   },
   {
    "duration": 16,
    "start_time": "2021-11-26T09:04:50.350Z"
   },
   {
    "duration": 8,
    "start_time": "2021-11-26T09:04:50.368Z"
   },
   {
    "duration": 13,
    "start_time": "2021-11-26T09:04:50.377Z"
   },
   {
    "duration": 9,
    "start_time": "2021-11-26T09:04:50.392Z"
   },
   {
    "duration": 4,
    "start_time": "2021-11-26T09:04:50.403Z"
   },
   {
    "duration": 52,
    "start_time": "2021-11-26T09:04:50.409Z"
   },
   {
    "duration": 13,
    "start_time": "2021-11-26T09:04:50.463Z"
   },
   {
    "duration": 18,
    "start_time": "2021-11-26T09:04:50.478Z"
   },
   {
    "duration": 13,
    "start_time": "2021-11-26T09:04:50.498Z"
   },
   {
    "duration": 40,
    "start_time": "2021-11-26T09:04:50.513Z"
   },
   {
    "duration": 5,
    "start_time": "2021-11-26T09:04:50.555Z"
   },
   {
    "duration": 9,
    "start_time": "2021-11-26T09:04:50.561Z"
   },
   {
    "duration": 6,
    "start_time": "2021-11-26T09:04:50.572Z"
   },
   {
    "duration": 719,
    "start_time": "2021-11-26T09:05:19.887Z"
   },
   {
    "duration": 203,
    "start_time": "2021-11-26T09:05:20.608Z"
   },
   {
    "duration": 24,
    "start_time": "2021-11-26T09:05:20.814Z"
   },
   {
    "duration": 42,
    "start_time": "2021-11-26T09:05:20.845Z"
   },
   {
    "duration": 55,
    "start_time": "2021-11-26T09:05:20.890Z"
   },
   {
    "duration": 5,
    "start_time": "2021-11-26T09:05:20.948Z"
   },
   {
    "duration": 37,
    "start_time": "2021-11-26T09:05:20.955Z"
   },
   {
    "duration": 48,
    "start_time": "2021-11-26T09:05:20.996Z"
   },
   {
    "duration": 41,
    "start_time": "2021-11-26T09:05:21.047Z"
   },
   {
    "duration": 37,
    "start_time": "2021-11-26T09:05:21.090Z"
   },
   {
    "duration": 50,
    "start_time": "2021-11-26T09:05:21.130Z"
   },
   {
    "duration": 92,
    "start_time": "2021-11-26T09:05:21.182Z"
   },
   {
    "duration": 175,
    "start_time": "2021-11-26T09:05:21.276Z"
   },
   {
    "duration": 191,
    "start_time": "2021-11-26T09:05:21.453Z"
   },
   {
    "duration": 10,
    "start_time": "2021-11-26T09:05:21.646Z"
   },
   {
    "duration": 9,
    "start_time": "2021-11-26T09:05:21.658Z"
   },
   {
    "duration": 98,
    "start_time": "2021-11-26T09:05:21.670Z"
   },
   {
    "duration": 9,
    "start_time": "2021-11-26T09:05:21.770Z"
   },
   {
    "duration": 16,
    "start_time": "2021-11-26T09:05:21.782Z"
   },
   {
    "duration": 13,
    "start_time": "2021-11-26T09:05:21.800Z"
   },
   {
    "duration": 30,
    "start_time": "2021-11-26T09:05:21.815Z"
   },
   {
    "duration": 35,
    "start_time": "2021-11-26T09:05:21.848Z"
   },
   {
    "duration": 18,
    "start_time": "2021-11-26T09:05:21.888Z"
   },
   {
    "duration": 16,
    "start_time": "2021-11-26T09:05:21.908Z"
   },
   {
    "duration": 16,
    "start_time": "2021-11-26T09:05:21.945Z"
   },
   {
    "duration": 18,
    "start_time": "2021-11-26T09:05:21.963Z"
   },
   {
    "duration": 16,
    "start_time": "2021-11-26T09:05:21.983Z"
   },
   {
    "duration": 9,
    "start_time": "2021-11-26T09:05:22.001Z"
   },
   {
    "duration": 17,
    "start_time": "2021-11-26T09:05:22.044Z"
   },
   {
    "duration": 10,
    "start_time": "2021-11-26T09:05:22.063Z"
   },
   {
    "duration": 4,
    "start_time": "2021-11-26T09:05:22.075Z"
   },
   {
    "duration": 27,
    "start_time": "2021-11-26T09:05:22.081Z"
   },
   {
    "duration": 38,
    "start_time": "2021-11-26T09:05:22.110Z"
   },
   {
    "duration": 19,
    "start_time": "2021-11-26T09:05:22.150Z"
   },
   {
    "duration": 14,
    "start_time": "2021-11-26T09:05:22.170Z"
   },
   {
    "duration": 14,
    "start_time": "2021-11-26T09:05:22.186Z"
   },
   {
    "duration": 25,
    "start_time": "2021-11-26T09:05:22.201Z"
   },
   {
    "duration": 23,
    "start_time": "2021-11-26T09:05:22.228Z"
   },
   {
    "duration": 27,
    "start_time": "2021-11-26T09:05:22.253Z"
   },
   {
    "duration": 80,
    "start_time": "2021-11-26T13:39:43.701Z"
   },
   {
    "duration": 272,
    "start_time": "2021-11-26T14:37:59.938Z"
   },
   {
    "duration": 237,
    "start_time": "2021-11-26T14:38:07.270Z"
   },
   {
    "duration": 545,
    "start_time": "2021-11-26T14:38:38.453Z"
   },
   {
    "duration": 119,
    "start_time": "2021-11-26T14:38:39.000Z"
   },
   {
    "duration": 15,
    "start_time": "2021-11-26T14:38:39.122Z"
   },
   {
    "duration": 34,
    "start_time": "2021-11-26T14:38:39.138Z"
   },
   {
    "duration": 29,
    "start_time": "2021-11-26T14:38:39.174Z"
   },
   {
    "duration": 3,
    "start_time": "2021-11-26T14:38:39.205Z"
   },
   {
    "duration": 18,
    "start_time": "2021-11-26T14:38:39.210Z"
   },
   {
    "duration": 20,
    "start_time": "2021-11-26T14:38:39.229Z"
   },
   {
    "duration": 39,
    "start_time": "2021-11-26T14:38:39.250Z"
   },
   {
    "duration": 16,
    "start_time": "2021-11-26T14:38:39.291Z"
   },
   {
    "duration": 23,
    "start_time": "2021-11-26T14:38:39.308Z"
   },
   {
    "duration": 61,
    "start_time": "2021-11-26T14:38:39.332Z"
   },
   {
    "duration": 104,
    "start_time": "2021-11-26T14:38:39.394Z"
   },
   {
    "duration": 103,
    "start_time": "2021-11-26T14:38:39.499Z"
   },
   {
    "duration": 6,
    "start_time": "2021-11-26T14:38:39.603Z"
   },
   {
    "duration": 6,
    "start_time": "2021-11-26T14:38:39.610Z"
   },
   {
    "duration": 52,
    "start_time": "2021-11-26T14:38:39.617Z"
   },
   {
    "duration": 43,
    "start_time": "2021-11-26T14:38:39.671Z"
   },
   {
    "duration": 9,
    "start_time": "2021-11-26T14:38:39.716Z"
   },
   {
    "duration": 8,
    "start_time": "2021-11-26T14:38:39.726Z"
   },
   {
    "duration": 3,
    "start_time": "2021-11-26T14:38:39.735Z"
   },
   {
    "duration": 18,
    "start_time": "2021-11-26T14:38:39.741Z"
   },
   {
    "duration": 38,
    "start_time": "2021-11-26T14:38:39.761Z"
   },
   {
    "duration": 14,
    "start_time": "2021-11-26T14:38:39.800Z"
   },
   {
    "duration": 11,
    "start_time": "2021-11-26T14:38:39.816Z"
   },
   {
    "duration": 13,
    "start_time": "2021-11-26T14:38:39.829Z"
   },
   {
    "duration": 11,
    "start_time": "2021-11-26T14:38:39.843Z"
   },
   {
    "duration": 8,
    "start_time": "2021-11-26T14:38:39.887Z"
   },
   {
    "duration": 12,
    "start_time": "2021-11-26T14:38:39.896Z"
   },
   {
    "duration": 7,
    "start_time": "2021-11-26T14:38:39.910Z"
   },
   {
    "duration": 3,
    "start_time": "2021-11-26T14:38:39.918Z"
   },
   {
    "duration": 19,
    "start_time": "2021-11-26T14:38:39.923Z"
   },
   {
    "duration": 10,
    "start_time": "2021-11-26T14:38:39.943Z"
   },
   {
    "duration": 44,
    "start_time": "2021-11-26T14:38:39.954Z"
   },
   {
    "duration": 12,
    "start_time": "2021-11-26T14:38:40.000Z"
   },
   {
    "duration": 10,
    "start_time": "2021-11-26T14:38:40.013Z"
   },
   {
    "duration": 4,
    "start_time": "2021-11-26T14:38:40.025Z"
   },
   {
    "duration": 12,
    "start_time": "2021-11-26T14:38:40.030Z"
   },
   {
    "duration": 4,
    "start_time": "2021-11-26T14:38:40.043Z"
   },
   {
    "duration": 33,
    "start_time": "2021-11-26T14:39:05.408Z"
   },
   {
    "duration": 37,
    "start_time": "2021-11-26T14:39:09.409Z"
   },
   {
    "duration": 47,
    "start_time": "2021-11-26T14:39:17.223Z"
   },
   {
    "duration": 570,
    "start_time": "2021-11-26T14:59:59.580Z"
   },
   {
    "duration": 136,
    "start_time": "2021-11-26T15:00:00.151Z"
   },
   {
    "duration": 17,
    "start_time": "2021-11-26T15:00:00.289Z"
   },
   {
    "duration": 51,
    "start_time": "2021-11-26T15:00:00.307Z"
   },
   {
    "duration": 41,
    "start_time": "2021-11-26T15:00:00.360Z"
   },
   {
    "duration": 8,
    "start_time": "2021-11-26T15:00:00.403Z"
   },
   {
    "duration": 22,
    "start_time": "2021-11-26T15:00:00.412Z"
   },
   {
    "duration": 35,
    "start_time": "2021-11-26T15:00:00.437Z"
   },
   {
    "duration": 28,
    "start_time": "2021-11-26T15:00:00.474Z"
   },
   {
    "duration": 24,
    "start_time": "2021-11-26T15:00:00.504Z"
   },
   {
    "duration": 41,
    "start_time": "2021-11-26T15:00:00.530Z"
   },
   {
    "duration": 62,
    "start_time": "2021-11-26T15:00:00.573Z"
   },
   {
    "duration": 131,
    "start_time": "2021-11-26T15:00:00.637Z"
   },
   {
    "duration": 130,
    "start_time": "2021-11-26T15:00:00.770Z"
   },
   {
    "duration": 6,
    "start_time": "2021-11-26T15:00:00.902Z"
   },
   {
    "duration": 19,
    "start_time": "2021-11-26T15:00:00.910Z"
   },
   {
    "duration": 64,
    "start_time": "2021-11-26T15:00:00.931Z"
   },
   {
    "duration": 41,
    "start_time": "2021-11-26T15:00:00.996Z"
   },
   {
    "duration": 11,
    "start_time": "2021-11-26T15:00:01.039Z"
   },
   {
    "duration": 57,
    "start_time": "2021-11-26T15:00:01.051Z"
   },
   {
    "duration": 41,
    "start_time": "2021-11-26T15:00:01.109Z"
   },
   {
    "duration": 36,
    "start_time": "2021-11-26T15:00:01.151Z"
   },
   {
    "duration": 14,
    "start_time": "2021-11-26T15:00:01.190Z"
   },
   {
    "duration": 28,
    "start_time": "2021-11-26T15:00:01.206Z"
   },
   {
    "duration": 13,
    "start_time": "2021-11-26T15:00:01.236Z"
   },
   {
    "duration": 18,
    "start_time": "2021-11-26T15:00:01.251Z"
   },
   {
    "duration": 36,
    "start_time": "2021-11-26T15:00:01.270Z"
   },
   {
    "duration": 32,
    "start_time": "2021-11-26T15:00:01.308Z"
   },
   {
    "duration": 21,
    "start_time": "2021-11-26T15:00:01.342Z"
   },
   {
    "duration": 13,
    "start_time": "2021-11-26T15:00:01.364Z"
   },
   {
    "duration": 5,
    "start_time": "2021-11-26T15:00:01.378Z"
   },
   {
    "duration": 42,
    "start_time": "2021-11-26T15:00:01.385Z"
   },
   {
    "duration": 12,
    "start_time": "2021-11-26T15:00:01.429Z"
   },
   {
    "duration": 19,
    "start_time": "2021-11-26T15:00:01.443Z"
   },
   {
    "duration": 12,
    "start_time": "2021-11-26T15:00:01.465Z"
   },
   {
    "duration": 49,
    "start_time": "2021-11-26T15:00:01.479Z"
   },
   {
    "duration": 13,
    "start_time": "2021-11-26T15:00:01.530Z"
   },
   {
    "duration": 16,
    "start_time": "2021-11-26T15:00:01.545Z"
   },
   {
    "duration": 13,
    "start_time": "2021-11-26T15:00:01.563Z"
   },
   {
    "duration": 563,
    "start_time": "2021-11-26T15:03:18.113Z"
   },
   {
    "duration": 135,
    "start_time": "2021-11-26T15:03:18.678Z"
   },
   {
    "duration": 16,
    "start_time": "2021-11-26T15:03:18.817Z"
   },
   {
    "duration": 25,
    "start_time": "2021-11-26T15:03:18.835Z"
   },
   {
    "duration": 47,
    "start_time": "2021-11-26T15:03:18.862Z"
   },
   {
    "duration": 6,
    "start_time": "2021-11-26T15:03:18.910Z"
   },
   {
    "duration": 23,
    "start_time": "2021-11-26T15:03:18.918Z"
   },
   {
    "duration": 21,
    "start_time": "2021-11-26T15:03:18.943Z"
   },
   {
    "duration": 43,
    "start_time": "2021-11-26T15:03:18.965Z"
   },
   {
    "duration": 17,
    "start_time": "2021-11-26T15:03:19.009Z"
   },
   {
    "duration": 22,
    "start_time": "2021-11-26T15:03:19.028Z"
   },
   {
    "duration": 82,
    "start_time": "2021-11-26T15:03:19.052Z"
   },
   {
    "duration": 110,
    "start_time": "2021-11-26T15:03:19.135Z"
   },
   {
    "duration": 109,
    "start_time": "2021-11-26T15:03:19.247Z"
   },
   {
    "duration": 5,
    "start_time": "2021-11-26T15:03:19.358Z"
   },
   {
    "duration": 3,
    "start_time": "2021-11-26T15:03:19.365Z"
   },
   {
    "duration": 62,
    "start_time": "2021-11-26T15:03:19.369Z"
   },
   {
    "duration": 36,
    "start_time": "2021-11-26T15:03:19.432Z"
   },
   {
    "duration": 23,
    "start_time": "2021-11-26T15:03:19.469Z"
   },
   {
    "duration": 8,
    "start_time": "2021-11-26T15:03:19.494Z"
   },
   {
    "duration": 10,
    "start_time": "2021-11-26T15:03:19.503Z"
   },
   {
    "duration": 38,
    "start_time": "2021-11-26T15:03:19.516Z"
   },
   {
    "duration": 12,
    "start_time": "2021-11-26T15:03:19.556Z"
   },
   {
    "duration": 43,
    "start_time": "2021-11-26T15:03:19.569Z"
   },
   {
    "duration": 20,
    "start_time": "2021-11-26T15:03:19.614Z"
   },
   {
    "duration": 15,
    "start_time": "2021-11-26T15:03:19.636Z"
   },
   {
    "duration": 18,
    "start_time": "2021-11-26T15:03:19.653Z"
   },
   {
    "duration": 18,
    "start_time": "2021-11-26T15:03:19.673Z"
   },
   {
    "duration": 26,
    "start_time": "2021-11-26T15:03:19.692Z"
   },
   {
    "duration": 27,
    "start_time": "2021-11-26T15:03:19.719Z"
   },
   {
    "duration": 19,
    "start_time": "2021-11-26T15:03:19.748Z"
   },
   {
    "duration": 48,
    "start_time": "2021-11-26T15:03:19.768Z"
   },
   {
    "duration": 11,
    "start_time": "2021-11-26T15:03:19.818Z"
   },
   {
    "duration": 36,
    "start_time": "2021-11-26T15:03:19.830Z"
   },
   {
    "duration": 12,
    "start_time": "2021-11-26T15:03:19.867Z"
   },
   {
    "duration": 19,
    "start_time": "2021-11-26T15:03:19.881Z"
   },
   {
    "duration": 25,
    "start_time": "2021-11-26T15:03:19.901Z"
   },
   {
    "duration": 18,
    "start_time": "2021-11-26T15:03:19.927Z"
   },
   {
    "duration": 16,
    "start_time": "2021-11-26T15:03:19.947Z"
   },
   {
    "duration": 33,
    "start_time": "2021-11-26T15:06:26.137Z"
   },
   {
    "duration": 240,
    "start_time": "2021-11-26T15:07:06.406Z"
   },
   {
    "duration": 7,
    "start_time": "2021-11-26T15:07:13.994Z"
   },
   {
    "duration": 33,
    "start_time": "2021-11-26T15:07:28.032Z"
   },
   {
    "duration": 58,
    "start_time": "2021-11-26T15:09:58.392Z"
   },
   {
    "duration": 728,
    "start_time": "2021-11-26T16:55:33.892Z"
   },
   {
    "duration": 825,
    "start_time": "2021-11-26T16:55:44.705Z"
   },
   {
    "duration": 131,
    "start_time": "2021-11-26T16:55:45.533Z"
   },
   {
    "duration": 16,
    "start_time": "2021-11-26T16:55:45.666Z"
   },
   {
    "duration": 21,
    "start_time": "2021-11-26T16:55:45.688Z"
   },
   {
    "duration": 28,
    "start_time": "2021-11-26T16:55:45.711Z"
   },
   {
    "duration": 5,
    "start_time": "2021-11-26T16:55:45.741Z"
   },
   {
    "duration": 40,
    "start_time": "2021-11-26T16:55:45.748Z"
   },
   {
    "duration": 22,
    "start_time": "2021-11-26T16:55:45.790Z"
   },
   {
    "duration": 21,
    "start_time": "2021-11-26T16:55:45.813Z"
   },
   {
    "duration": 17,
    "start_time": "2021-11-26T16:55:45.835Z"
   },
   {
    "duration": 42,
    "start_time": "2021-11-26T16:55:45.853Z"
   },
   {
    "duration": 55,
    "start_time": "2021-11-26T16:55:45.897Z"
   },
   {
    "duration": 109,
    "start_time": "2021-11-26T16:55:45.954Z"
   },
   {
    "duration": 114,
    "start_time": "2021-11-26T16:55:46.065Z"
   },
   {
    "duration": 10,
    "start_time": "2021-11-26T16:55:46.180Z"
   },
   {
    "duration": 2,
    "start_time": "2021-11-26T16:55:46.192Z"
   },
   {
    "duration": 53,
    "start_time": "2021-11-26T16:55:46.196Z"
   },
   {
    "duration": 44,
    "start_time": "2021-11-26T16:55:46.251Z"
   },
   {
    "duration": 9,
    "start_time": "2021-11-26T16:55:46.297Z"
   },
   {
    "duration": 8,
    "start_time": "2021-11-26T16:55:46.307Z"
   },
   {
    "duration": 3,
    "start_time": "2021-11-26T16:55:46.317Z"
   },
   {
    "duration": 18,
    "start_time": "2021-11-26T16:55:46.323Z"
   },
   {
    "duration": 14,
    "start_time": "2021-11-26T16:55:46.343Z"
   },
   {
    "duration": 15,
    "start_time": "2021-11-26T16:55:46.388Z"
   },
   {
    "duration": 14,
    "start_time": "2021-11-26T16:55:46.405Z"
   },
   {
    "duration": 16,
    "start_time": "2021-11-26T16:55:46.421Z"
   },
   {
    "duration": 13,
    "start_time": "2021-11-26T16:55:46.439Z"
   },
   {
    "duration": 39,
    "start_time": "2021-11-26T16:55:46.454Z"
   },
   {
    "duration": 13,
    "start_time": "2021-11-26T16:55:46.495Z"
   },
   {
    "duration": 9,
    "start_time": "2021-11-26T16:55:46.510Z"
   },
   {
    "duration": 5,
    "start_time": "2021-11-26T16:55:46.521Z"
   },
   {
    "duration": 21,
    "start_time": "2021-11-26T16:55:46.528Z"
   },
   {
    "duration": 44,
    "start_time": "2021-11-26T16:55:46.551Z"
   },
   {
    "duration": 15,
    "start_time": "2021-11-26T16:55:46.597Z"
   },
   {
    "duration": 11,
    "start_time": "2021-11-26T16:55:46.614Z"
   },
   {
    "duration": 9,
    "start_time": "2021-11-26T16:55:46.626Z"
   },
   {
    "duration": 6,
    "start_time": "2021-11-26T16:55:46.637Z"
   },
   {
    "duration": 8,
    "start_time": "2021-11-26T16:55:46.644Z"
   },
   {
    "duration": 34,
    "start_time": "2021-11-26T16:55:46.654Z"
   },
   {
    "duration": 49,
    "start_time": "2021-11-26T16:57:39.807Z"
   },
   {
    "duration": 571,
    "start_time": "2021-11-26T17:39:52.388Z"
   },
   {
    "duration": 135,
    "start_time": "2021-11-26T17:39:52.960Z"
   },
   {
    "duration": 16,
    "start_time": "2021-11-26T17:39:53.097Z"
   },
   {
    "duration": 25,
    "start_time": "2021-11-26T17:39:53.115Z"
   },
   {
    "duration": 50,
    "start_time": "2021-11-26T17:39:53.142Z"
   },
   {
    "duration": 3,
    "start_time": "2021-11-26T17:39:53.194Z"
   },
   {
    "duration": 22,
    "start_time": "2021-11-26T17:39:53.199Z"
   },
   {
    "duration": 22,
    "start_time": "2021-11-26T17:39:53.223Z"
   },
   {
    "duration": 46,
    "start_time": "2021-11-26T17:39:53.247Z"
   },
   {
    "duration": 17,
    "start_time": "2021-11-26T17:39:53.295Z"
   },
   {
    "duration": 26,
    "start_time": "2021-11-26T17:39:53.314Z"
   },
   {
    "duration": 70,
    "start_time": "2021-11-26T17:39:53.342Z"
   },
   {
    "duration": 118,
    "start_time": "2021-11-26T17:39:53.414Z"
   },
   {
    "duration": 113,
    "start_time": "2021-11-26T17:39:53.534Z"
   },
   {
    "duration": 7,
    "start_time": "2021-11-26T17:39:53.649Z"
   },
   {
    "duration": 3,
    "start_time": "2021-11-26T17:39:53.658Z"
   },
   {
    "duration": 60,
    "start_time": "2021-11-26T17:39:53.663Z"
   },
   {
    "duration": 35,
    "start_time": "2021-11-26T17:39:53.725Z"
   },
   {
    "duration": 35,
    "start_time": "2021-11-26T17:39:53.762Z"
   },
   {
    "duration": 9,
    "start_time": "2021-11-26T17:39:53.799Z"
   },
   {
    "duration": 4,
    "start_time": "2021-11-26T17:39:53.810Z"
   },
   {
    "duration": 22,
    "start_time": "2021-11-26T17:39:53.816Z"
   },
   {
    "duration": 15,
    "start_time": "2021-11-26T17:39:53.842Z"
   },
   {
    "duration": 44,
    "start_time": "2021-11-26T17:39:53.860Z"
   },
   {
    "duration": 14,
    "start_time": "2021-11-26T17:39:53.906Z"
   },
   {
    "duration": 17,
    "start_time": "2021-11-26T17:39:53.922Z"
   },
   {
    "duration": 17,
    "start_time": "2021-11-26T17:39:53.941Z"
   },
   {
    "duration": 41,
    "start_time": "2021-11-26T17:39:53.960Z"
   },
   {
    "duration": 41,
    "start_time": "2021-11-26T17:39:54.003Z"
   },
   {
    "duration": 21,
    "start_time": "2021-11-26T17:39:54.046Z"
   },
   {
    "duration": 19,
    "start_time": "2021-11-26T17:39:54.069Z"
   },
   {
    "duration": 46,
    "start_time": "2021-11-26T17:39:54.090Z"
   },
   {
    "duration": 39,
    "start_time": "2021-11-26T17:39:54.137Z"
   },
   {
    "duration": 32,
    "start_time": "2021-11-26T17:39:54.177Z"
   },
   {
    "duration": 16,
    "start_time": "2021-11-26T17:39:54.210Z"
   },
   {
    "duration": 27,
    "start_time": "2021-11-26T17:39:54.227Z"
   },
   {
    "duration": 8,
    "start_time": "2021-11-26T17:39:54.255Z"
   },
   {
    "duration": 33,
    "start_time": "2021-11-26T17:39:54.265Z"
   },
   {
    "duration": 14,
    "start_time": "2021-11-26T17:39:54.299Z"
   },
   {
    "duration": 586,
    "start_time": "2021-11-26T18:02:46.260Z"
   },
   {
    "duration": 126,
    "start_time": "2021-11-26T18:02:46.848Z"
   },
   {
    "duration": 19,
    "start_time": "2021-11-26T18:02:46.976Z"
   },
   {
    "duration": 26,
    "start_time": "2021-11-26T18:02:46.997Z"
   },
   {
    "duration": 27,
    "start_time": "2021-11-26T18:02:47.025Z"
   },
   {
    "duration": 4,
    "start_time": "2021-11-26T18:02:47.053Z"
   },
   {
    "duration": 44,
    "start_time": "2021-11-26T18:02:47.059Z"
   },
   {
    "duration": 30,
    "start_time": "2021-11-26T18:02:47.106Z"
   },
   {
    "duration": 22,
    "start_time": "2021-11-26T18:02:47.138Z"
   },
   {
    "duration": 16,
    "start_time": "2021-11-26T18:02:47.161Z"
   },
   {
    "duration": 20,
    "start_time": "2021-11-26T18:02:47.188Z"
   },
   {
    "duration": 55,
    "start_time": "2021-11-26T18:02:47.210Z"
   },
   {
    "duration": 108,
    "start_time": "2021-11-26T18:02:47.267Z"
   },
   {
    "duration": 102,
    "start_time": "2021-11-26T18:02:47.377Z"
   },
   {
    "duration": 10,
    "start_time": "2021-11-26T18:02:47.480Z"
   },
   {
    "duration": 3,
    "start_time": "2021-11-26T18:02:47.491Z"
   },
   {
    "duration": 54,
    "start_time": "2021-11-26T18:02:47.495Z"
   },
   {
    "duration": 41,
    "start_time": "2021-11-26T18:02:47.550Z"
   },
   {
    "duration": 9,
    "start_time": "2021-11-26T18:02:47.592Z"
   },
   {
    "duration": 7,
    "start_time": "2021-11-26T18:02:47.603Z"
   },
   {
    "duration": 3,
    "start_time": "2021-11-26T18:02:47.611Z"
   },
   {
    "duration": 26,
    "start_time": "2021-11-26T18:02:47.615Z"
   },
   {
    "duration": 11,
    "start_time": "2021-11-26T18:02:47.644Z"
   },
   {
    "duration": 13,
    "start_time": "2021-11-26T18:02:47.657Z"
   },
   {
    "duration": 12,
    "start_time": "2021-11-26T18:02:47.688Z"
   },
   {
    "duration": 14,
    "start_time": "2021-11-26T18:02:47.701Z"
   },
   {
    "duration": 12,
    "start_time": "2021-11-26T18:02:47.716Z"
   },
   {
    "duration": 6,
    "start_time": "2021-11-26T18:02:47.730Z"
   },
   {
    "duration": 12,
    "start_time": "2021-11-26T18:02:47.738Z"
   },
   {
    "duration": 8,
    "start_time": "2021-11-26T18:02:47.751Z"
   },
   {
    "duration": 3,
    "start_time": "2021-11-26T18:02:47.788Z"
   },
   {
    "duration": 22,
    "start_time": "2021-11-26T18:02:47.792Z"
   },
   {
    "duration": 10,
    "start_time": "2021-11-26T18:02:47.816Z"
   },
   {
    "duration": 15,
    "start_time": "2021-11-26T18:02:47.828Z"
   },
   {
    "duration": 10,
    "start_time": "2021-11-26T18:02:47.844Z"
   },
   {
    "duration": 33,
    "start_time": "2021-11-26T18:02:47.855Z"
   },
   {
    "duration": 4,
    "start_time": "2021-11-26T18:02:47.889Z"
   },
   {
    "duration": 8,
    "start_time": "2021-11-26T18:02:47.895Z"
   },
   {
    "duration": 4,
    "start_time": "2021-11-26T18:02:47.904Z"
   },
   {
    "duration": 41,
    "start_time": "2021-11-26T18:03:47.639Z"
   },
   {
    "duration": 552,
    "start_time": "2021-11-26T18:04:26.298Z"
   },
   {
    "duration": 121,
    "start_time": "2021-11-26T18:04:26.852Z"
   },
   {
    "duration": 15,
    "start_time": "2021-11-26T18:04:26.975Z"
   },
   {
    "duration": 22,
    "start_time": "2021-11-26T18:04:26.992Z"
   },
   {
    "duration": 26,
    "start_time": "2021-11-26T18:04:27.016Z"
   },
   {
    "duration": 10,
    "start_time": "2021-11-26T18:04:27.044Z"
   },
   {
    "duration": 39,
    "start_time": "2021-11-26T18:04:27.055Z"
   },
   {
    "duration": 23,
    "start_time": "2021-11-26T18:04:27.097Z"
   },
   {
    "duration": 20,
    "start_time": "2021-11-26T18:04:27.122Z"
   },
   {
    "duration": 15,
    "start_time": "2021-11-26T18:04:27.144Z"
   },
   {
    "duration": 32,
    "start_time": "2021-11-26T18:04:27.160Z"
   },
   {
    "duration": 50,
    "start_time": "2021-11-26T18:04:27.193Z"
   },
   {
    "duration": 111,
    "start_time": "2021-11-26T18:04:27.245Z"
   },
   {
    "duration": 102,
    "start_time": "2021-11-26T18:04:27.358Z"
   },
   {
    "duration": 5,
    "start_time": "2021-11-26T18:04:27.462Z"
   },
   {
    "duration": 22,
    "start_time": "2021-11-26T18:04:27.469Z"
   },
   {
    "duration": 45,
    "start_time": "2021-11-26T18:04:27.492Z"
   },
   {
    "duration": 33,
    "start_time": "2021-11-26T18:04:27.538Z"
   },
   {
    "duration": 17,
    "start_time": "2021-11-26T18:04:27.572Z"
   },
   {
    "duration": 8,
    "start_time": "2021-11-26T18:04:27.591Z"
   },
   {
    "duration": 3,
    "start_time": "2021-11-26T18:04:27.600Z"
   },
   {
    "duration": 25,
    "start_time": "2021-11-26T18:04:27.604Z"
   },
   {
    "duration": 13,
    "start_time": "2021-11-26T18:04:27.632Z"
   },
   {
    "duration": 12,
    "start_time": "2021-11-26T18:04:27.646Z"
   },
   {
    "duration": 35,
    "start_time": "2021-11-26T18:04:27.660Z"
   },
   {
    "duration": 16,
    "start_time": "2021-11-26T18:04:27.697Z"
   },
   {
    "duration": 12,
    "start_time": "2021-11-26T18:04:27.714Z"
   },
   {
    "duration": 8,
    "start_time": "2021-11-26T18:04:27.727Z"
   },
   {
    "duration": 15,
    "start_time": "2021-11-26T18:04:27.736Z"
   },
   {
    "duration": 8,
    "start_time": "2021-11-26T18:04:27.753Z"
   },
   {
    "duration": 28,
    "start_time": "2021-11-26T18:04:27.762Z"
   },
   {
    "duration": 23,
    "start_time": "2021-11-26T18:04:27.792Z"
   },
   {
    "duration": 11,
    "start_time": "2021-11-26T18:04:27.816Z"
   },
   {
    "duration": 15,
    "start_time": "2021-11-26T18:04:27.828Z"
   },
   {
    "duration": 10,
    "start_time": "2021-11-26T18:04:27.845Z"
   },
   {
    "duration": 33,
    "start_time": "2021-11-26T18:04:27.856Z"
   },
   {
    "duration": 4,
    "start_time": "2021-11-26T18:04:27.890Z"
   },
   {
    "duration": 8,
    "start_time": "2021-11-26T18:04:27.896Z"
   },
   {
    "duration": 6,
    "start_time": "2021-11-26T18:04:27.905Z"
   },
   {
    "duration": 116,
    "start_time": "2021-11-26T18:05:00.496Z"
   },
   {
    "duration": 6,
    "start_time": "2021-11-26T18:05:08.136Z"
   },
   {
    "duration": 3,
    "start_time": "2021-11-26T18:05:26.725Z"
   },
   {
    "duration": 38,
    "start_time": "2021-11-26T18:05:29.867Z"
   },
   {
    "duration": 32,
    "start_time": "2021-11-26T18:05:34.223Z"
   },
   {
    "duration": 574,
    "start_time": "2021-11-26T18:07:45.167Z"
   },
   {
    "duration": 119,
    "start_time": "2021-11-26T18:07:45.743Z"
   },
   {
    "duration": 16,
    "start_time": "2021-11-26T18:07:45.864Z"
   },
   {
    "duration": 26,
    "start_time": "2021-11-26T18:07:45.882Z"
   },
   {
    "duration": 24,
    "start_time": "2021-11-26T18:07:45.910Z"
   },
   {
    "duration": 3,
    "start_time": "2021-11-26T18:07:45.936Z"
   },
   {
    "duration": 16,
    "start_time": "2021-11-26T18:07:45.941Z"
   },
   {
    "duration": 48,
    "start_time": "2021-11-26T18:07:45.959Z"
   },
   {
    "duration": 22,
    "start_time": "2021-11-26T18:07:46.009Z"
   },
   {
    "duration": 17,
    "start_time": "2021-11-26T18:07:46.033Z"
   },
   {
    "duration": 19,
    "start_time": "2021-11-26T18:07:46.051Z"
   },
   {
    "duration": 64,
    "start_time": "2021-11-26T18:07:46.072Z"
   },
   {
    "duration": 106,
    "start_time": "2021-11-26T18:07:46.137Z"
   },
   {
    "duration": 126,
    "start_time": "2021-11-26T18:07:46.244Z"
   },
   {
    "duration": 17,
    "start_time": "2021-11-26T18:07:46.371Z"
   },
   {
    "duration": 2,
    "start_time": "2021-11-26T18:07:46.390Z"
   },
   {
    "duration": 43,
    "start_time": "2021-11-26T18:07:46.394Z"
   },
   {
    "duration": 30,
    "start_time": "2021-11-26T18:07:46.438Z"
   },
   {
    "duration": 18,
    "start_time": "2021-11-26T18:07:46.470Z"
   },
   {
    "duration": 7,
    "start_time": "2021-11-26T18:07:46.490Z"
   },
   {
    "duration": 3,
    "start_time": "2021-11-26T18:07:46.498Z"
   },
   {
    "duration": 20,
    "start_time": "2021-11-26T18:07:46.503Z"
   },
   {
    "duration": 12,
    "start_time": "2021-11-26T18:07:46.525Z"
   },
   {
    "duration": 15,
    "start_time": "2021-11-26T18:07:46.538Z"
   },
   {
    "duration": 36,
    "start_time": "2021-11-26T18:07:46.554Z"
   },
   {
    "duration": 15,
    "start_time": "2021-11-26T18:07:46.591Z"
   },
   {
    "duration": 13,
    "start_time": "2021-11-26T18:07:46.607Z"
   },
   {
    "duration": 7,
    "start_time": "2021-11-26T18:07:46.621Z"
   },
   {
    "duration": 16,
    "start_time": "2021-11-26T18:07:46.629Z"
   },
   {
    "duration": 9,
    "start_time": "2021-11-26T18:07:46.646Z"
   },
   {
    "duration": 6,
    "start_time": "2021-11-26T18:07:46.656Z"
   },
   {
    "duration": 36,
    "start_time": "2021-11-26T18:07:46.664Z"
   },
   {
    "duration": 10,
    "start_time": "2021-11-26T18:07:46.702Z"
   },
   {
    "duration": 14,
    "start_time": "2021-11-26T18:07:46.713Z"
   },
   {
    "duration": 10,
    "start_time": "2021-11-26T18:07:46.728Z"
   },
   {
    "duration": 8,
    "start_time": "2021-11-26T18:07:46.739Z"
   },
   {
    "duration": 6,
    "start_time": "2021-11-26T18:07:46.749Z"
   },
   {
    "duration": 35,
    "start_time": "2021-11-26T18:07:46.756Z"
   },
   {
    "duration": 4,
    "start_time": "2021-11-26T18:07:46.792Z"
   },
   {
    "duration": 109,
    "start_time": "2021-11-26T18:11:23.129Z"
   },
   {
    "duration": 76,
    "start_time": "2021-11-26T18:11:37.357Z"
   },
   {
    "duration": 571,
    "start_time": "2021-11-26T19:39:37.389Z"
   },
   {
    "duration": 139,
    "start_time": "2021-11-26T19:39:37.962Z"
   },
   {
    "duration": 15,
    "start_time": "2021-11-26T19:39:38.103Z"
   },
   {
    "duration": 24,
    "start_time": "2021-11-26T19:39:38.120Z"
   },
   {
    "duration": 50,
    "start_time": "2021-11-26T19:39:38.146Z"
   },
   {
    "duration": 4,
    "start_time": "2021-11-26T19:39:38.197Z"
   },
   {
    "duration": 24,
    "start_time": "2021-11-26T19:39:38.202Z"
   },
   {
    "duration": 22,
    "start_time": "2021-11-26T19:39:38.227Z"
   },
   {
    "duration": 44,
    "start_time": "2021-11-26T19:39:38.251Z"
   },
   {
    "duration": 16,
    "start_time": "2021-11-26T19:39:38.297Z"
   },
   {
    "duration": 21,
    "start_time": "2021-11-26T19:39:38.315Z"
   },
   {
    "duration": 81,
    "start_time": "2021-11-26T19:39:38.337Z"
   },
   {
    "duration": 118,
    "start_time": "2021-11-26T19:39:38.420Z"
   },
   {
    "duration": 138,
    "start_time": "2021-11-26T19:39:38.539Z"
   },
   {
    "duration": 13,
    "start_time": "2021-11-26T19:39:38.679Z"
   },
   {
    "duration": 3,
    "start_time": "2021-11-26T19:39:38.693Z"
   },
   {
    "duration": 47,
    "start_time": "2021-11-26T19:39:38.697Z"
   },
   {
    "duration": 47,
    "start_time": "2021-11-26T19:39:38.745Z"
   },
   {
    "duration": 10,
    "start_time": "2021-11-26T19:39:38.794Z"
   },
   {
    "duration": 7,
    "start_time": "2021-11-26T19:39:38.806Z"
   },
   {
    "duration": 3,
    "start_time": "2021-11-26T19:39:38.815Z"
   },
   {
    "duration": 22,
    "start_time": "2021-11-26T19:39:38.819Z"
   },
   {
    "duration": 14,
    "start_time": "2021-11-26T19:39:38.842Z"
   },
   {
    "duration": 44,
    "start_time": "2021-11-26T19:39:38.857Z"
   },
   {
    "duration": 12,
    "start_time": "2021-11-26T19:39:38.902Z"
   },
   {
    "duration": 16,
    "start_time": "2021-11-26T19:39:38.915Z"
   },
   {
    "duration": 15,
    "start_time": "2021-11-26T19:39:38.934Z"
   },
   {
    "duration": 42,
    "start_time": "2021-11-26T19:39:38.951Z"
   },
   {
    "duration": 13,
    "start_time": "2021-11-26T19:39:38.995Z"
   },
   {
    "duration": 11,
    "start_time": "2021-11-26T19:39:39.010Z"
   },
   {
    "duration": 5,
    "start_time": "2021-11-26T19:39:39.022Z"
   },
   {
    "duration": 26,
    "start_time": "2021-11-26T19:39:39.028Z"
   },
   {
    "duration": 36,
    "start_time": "2021-11-26T19:39:39.055Z"
   },
   {
    "duration": 18,
    "start_time": "2021-11-26T19:39:39.093Z"
   },
   {
    "duration": 11,
    "start_time": "2021-11-26T19:39:39.113Z"
   },
   {
    "duration": 9,
    "start_time": "2021-11-26T19:39:39.126Z"
   },
   {
    "duration": 5,
    "start_time": "2021-11-26T19:39:39.136Z"
   },
   {
    "duration": 8,
    "start_time": "2021-11-26T19:39:39.142Z"
   },
   {
    "duration": 4,
    "start_time": "2021-11-26T19:39:39.151Z"
   },
   {
    "duration": 546,
    "start_time": "2021-11-26T20:55:17.207Z"
   },
   {
    "duration": 139,
    "start_time": "2021-11-26T20:55:17.755Z"
   },
   {
    "duration": 16,
    "start_time": "2021-11-26T20:55:17.895Z"
   },
   {
    "duration": 26,
    "start_time": "2021-11-26T20:55:17.913Z"
   },
   {
    "duration": 29,
    "start_time": "2021-11-26T20:55:17.941Z"
   },
   {
    "duration": 22,
    "start_time": "2021-11-26T20:55:17.972Z"
   },
   {
    "duration": 22,
    "start_time": "2021-11-26T20:55:17.996Z"
   },
   {
    "duration": 22,
    "start_time": "2021-11-26T20:55:18.020Z"
   },
   {
    "duration": 49,
    "start_time": "2021-11-26T20:55:18.044Z"
   },
   {
    "duration": 18,
    "start_time": "2021-11-26T20:55:18.095Z"
   },
   {
    "duration": 21,
    "start_time": "2021-11-26T20:55:18.114Z"
   },
   {
    "duration": 77,
    "start_time": "2021-11-26T20:55:18.136Z"
   },
   {
    "duration": 115,
    "start_time": "2021-11-26T20:55:18.215Z"
   },
   {
    "duration": 137,
    "start_time": "2021-11-26T20:55:18.332Z"
   },
   {
    "duration": 6,
    "start_time": "2021-11-26T20:55:18.470Z"
   },
   {
    "duration": 14,
    "start_time": "2021-11-26T20:55:18.478Z"
   },
   {
    "duration": 44,
    "start_time": "2021-11-26T20:55:18.494Z"
   },
   {
    "duration": 34,
    "start_time": "2021-11-26T20:55:18.539Z"
   },
   {
    "duration": 26,
    "start_time": "2021-11-26T20:55:18.574Z"
   },
   {
    "duration": 8,
    "start_time": "2021-11-26T20:55:18.601Z"
   },
   {
    "duration": 3,
    "start_time": "2021-11-26T20:55:18.611Z"
   },
   {
    "duration": 21,
    "start_time": "2021-11-26T20:55:18.615Z"
   },
   {
    "duration": 14,
    "start_time": "2021-11-26T20:55:18.639Z"
   },
   {
    "duration": 42,
    "start_time": "2021-11-26T20:55:18.655Z"
   },
   {
    "duration": 12,
    "start_time": "2021-11-26T20:55:18.699Z"
   },
   {
    "duration": 15,
    "start_time": "2021-11-26T20:55:18.713Z"
   },
   {
    "duration": 13,
    "start_time": "2021-11-26T20:55:18.730Z"
   },
   {
    "duration": 8,
    "start_time": "2021-11-26T20:55:18.745Z"
   },
   {
    "duration": 42,
    "start_time": "2021-11-26T20:55:18.754Z"
   },
   {
    "duration": 9,
    "start_time": "2021-11-26T20:55:18.797Z"
   },
   {
    "duration": 4,
    "start_time": "2021-11-26T20:55:18.808Z"
   },
   {
    "duration": 24,
    "start_time": "2021-11-26T20:55:18.813Z"
   },
   {
    "duration": 12,
    "start_time": "2021-11-26T20:55:18.838Z"
   },
   {
    "duration": 45,
    "start_time": "2021-11-26T20:55:18.852Z"
   },
   {
    "duration": 11,
    "start_time": "2021-11-26T20:55:18.899Z"
   },
   {
    "duration": 8,
    "start_time": "2021-11-26T20:55:18.912Z"
   },
   {
    "duration": 3,
    "start_time": "2021-11-26T20:55:18.922Z"
   },
   {
    "duration": 8,
    "start_time": "2021-11-26T20:55:18.927Z"
   },
   {
    "duration": 4,
    "start_time": "2021-11-26T20:55:18.936Z"
   }
  ],
  "colab": {
   "collapsed_sections": [
    "E0vqbgi9ay0H",
    "VUC88oWjTJw2"
   ],
   "name": "yandex_music_project_2021.2.ipynb",
   "provenance": []
  },
  "kernelspec": {
   "display_name": "Python 3 (ipykernel)",
   "language": "python",
   "name": "python3"
  },
  "language_info": {
   "codemirror_mode": {
    "name": "ipython",
    "version": 3
   },
   "file_extension": ".py",
   "mimetype": "text/x-python",
   "name": "python",
   "nbconvert_exporter": "python",
   "pygments_lexer": "ipython3",
   "version": "3.9.7"
  },
  "toc": {
   "base_numbering": 1,
   "nav_menu": {},
   "number_sections": true,
   "sideBar": true,
   "skip_h1_title": true,
   "title_cell": "Table of Contents",
   "title_sidebar": "Contents",
   "toc_cell": false,
   "toc_position": {},
   "toc_section_display": true,
   "toc_window_display": false
  }
 },
 "nbformat": 4,
 "nbformat_minor": 1
}
